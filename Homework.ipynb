{
  "nbformat": 4,
  "nbformat_minor": 0,
  "metadata": {
    "colab": {
      "name": "Homework.ipynb",
      "provenance": [],
      "toc_visible": true,
      "authorship_tag": "ABX9TyOHx2Q6VnDz6QwxWSQiC3PX",
      "include_colab_link": true
    },
    "kernelspec": {
      "name": "python3",
      "display_name": "Python 3"
    },
    "language_info": {
      "name": "python"
    }
  },
  "cells": [
    {
      "cell_type": "markdown",
      "metadata": {
        "id": "view-in-github",
        "colab_type": "text"
      },
      "source": [
        "<a href=\"https://colab.research.google.com/github/vit050587/Mathematical-analysis/blob/master/Homework.ipynb\" target=\"_parent\"><img src=\"https://colab.research.google.com/assets/colab-badge.svg\" alt=\"Open In Colab\"/></a>"
      ]
    },
    {
      "cell_type": "markdown",
      "source": [
        "# Урок 2"
      ],
      "metadata": {
        "id": "U56gYyF7EZ7B"
      }
    },
    {
      "cell_type": "markdown",
      "source": [
        "## Задание 1"
      ],
      "metadata": {
        "id": "4-gqu03pErzx"
      }
    },
    {
      "cell_type": "markdown",
      "source": [
        "__1.__ Представьте в виде __несократимой__ обыкновенной дроби:\n",
        "\n",
        "$$а)\\,\\,\\, 0.(216);$$\n",
        "\n",
        "$$б)\\,\\,\\, 1.0(01).$$"
      ],
      "metadata": {
        "id": "Hw73EM5IFH5R"
      }
    },
    {
      "cell_type": "markdown",
      "source": [
        "$$а)\\,\\,\\, 0.(216);$$\n",
        "$$a=0.(216)$$\n",
        "\n",
        "$$1000a=216.(216)$$\n",
        "\n",
        "$$1000a=216+0.(216)$$\n",
        "\n",
        "$$1000a=216+a$$\n",
        "\n",
        "$$999a=216$$\n",
        "\n",
        "$$a=\\frac{216}{999}$$\n",
        "\n",
        "$$0.(216)=\\frac{216}{999}$$\n",
        "\n",
        "***\n",
        "$$a=1.0(01)$$\n",
        "\n",
        "$$10a=10.(01)$$\n",
        "\n",
        "$$10a=10+0.(01)$$\n",
        "\n",
        "$$0.(01)=\\frac{1}{99}$$\n",
        "\n",
        "$$10a=10+\\frac{1}{99}=\\frac{990}{99}+\\frac{1}{99}=\\frac{1000}{99}$$\n",
        "\n",
        "$$a=\\frac{1000}{990}=\\frac{100}{99}$$\n"
      ],
      "metadata": {
        "id": "ytJg2P98d-O6"
      }
    },
    {
      "cell_type": "markdown",
      "source": [
        "## Задание 2"
      ],
      "metadata": {
        "id": "rUXHjv-GE064"
      }
    },
    {
      "cell_type": "markdown",
      "source": [
        "__2*.__ Пусть $x =\\frac{2}{21}$. Известно, что для некоторого натурального $k$ число $x$ записывается в $k$ - ичной системе счисления как $0.(13)_k = 0, 131313..._k$. Найдите $k$."
      ],
      "metadata": {
        "id": "uDE4ogSfFNWa"
      }
    },
    {
      "cell_type": "markdown",
      "source": [
        "## Задание 3"
      ],
      "metadata": {
        "id": "_86UYddvE2mo"
      }
    },
    {
      "cell_type": "markdown",
      "source": [
        "__3.__ Проверьте любым способ, является ли данные логические формулы тавтологией:\n",
        "\n",
        "$$a)\\,\\,\\, (A \\vee B) \\rightarrow (B \\vee\\overline A)$$\n",
        "$$б)\\,\\,\\, A \\rightarrow (A \\vee (\\overline B \\wedge A))$$"
      ],
      "metadata": {
        "id": "bucpJUmdFT7J"
      }
    },
    {
      "cell_type": "markdown",
      "source": [
        "\n",
        " <table>\n",
        "<thead>\n",
        "<tr><th>$A$</th><th>$B$</th><th>$(A\\vee B)$</th><th>$(B\\vee \\overline A)$</th>\n",
        "</thead>\n",
        "<tbody>\n",
        "    <tr><td>$1$</td><td>$0$</td><td>$1$</td><td>$0$</td></tr>\n",
        "    <tr><td>$0$</td><td>$1$</td><td>$1$</td><td>$1$</td></tr>\n",
        "    <tr><td>$1$</td><td>$1$</td><td>$1$</td><td>$1$</td></tr>\n",
        "    <tr><td>$0$</td><td>$0$</td><td>$0$</td><td>$1$</td></tr>\n",
        "\n",
        "\n",
        "</tbody>\n",
        "</table>\n",
        "\n",
        " <table>\n",
        "<thead>\n",
        "<tr><th>$A$</th><th>$B$</th><th>$(\\overline B\\wedge A)$</th><th>$(A\\vee 1)$</th>\n",
        "</thead>\n",
        "<tbody>\n",
        "    <tr><td>$1$</td><td>$0$</td><td>$1$</td><td>$1$</td></tr>\n",
        "    <tr><td>$0$</td><td>$1$</td><td>$0$</td><td>$1$</td></tr>\n",
        "    <tr><td>$1$</td><td>$1$</td><td>$0$</td><td>$1$</td></tr>\n",
        "    <tr><td>$0$</td><td>$0$</td><td>$0$</td><td>$0$</td></tr>\n",
        "\n",
        "\n",
        "</tbody>\n",
        "</table>\n",
        "\n",
        "Итог: Тавтологиями не являются обе формулы!"
      ],
      "metadata": {
        "id": "H9e-rnpjib4k"
      }
    },
    {
      "cell_type": "markdown",
      "source": [
        "## Задание 4"
      ],
      "metadata": {
        "id": "GUIWJkheE5Vi"
      }
    },
    {
      "cell_type": "markdown",
      "source": [
        "__4.__ Сформулируйте словесно высказывания:\n",
        "$$a)\\,\\,\\, (\\overline A \\vee B) \\rightarrow \\overline C$$\n",
        "$$б)\\,\\,\\, C \\rightarrow (A \\vee \\overline B)$$\n",
        "\n",
        "- $A:\\,\\,\\,$ сегодня светит солнце; \n",
        "- $B:\\,\\,\\,$ сегодня сыро; \n",
        "- $C:\\,\\,\\,$ я поеду на дачу. "
      ],
      "metadata": {
        "id": "F2hn7yyNND7g"
      }
    },
    {
      "cell_type": "markdown",
      "source": [
        "a) **Если** сегодня **не** светит солнце **или** сыро, **то** я **не** поеду на дачу.\n",
        "б) **Если** я поехал на дачу, **то** сегодня светит солнце **или не** сыро."
      ],
      "metadata": {
        "id": "8FFolxnVncLh"
      }
    },
    {
      "cell_type": "markdown",
      "source": [
        "## Задание 5"
      ],
      "metadata": {
        "id": "H4NKavpFE72a"
      }
    },
    {
      "cell_type": "markdown",
      "source": [
        "__5.__  Пользуясь правилом построения противоположного высказывания, запишите утверждения, противоположные следующим:\n",
        "\n",
        "a) На любом курсе каждого факультета есть студенты, сдающие все экзамены на «отлично».\n",
        "\n",
        "б) В любом самолете на рейсе Вашингтон-Москва присутствует хотя бы один сотрудник силовых органов, в каждой пуговице одежды которого вмонтирован микрофон."
      ],
      "metadata": {
        "id": "klTLrUC2NFa_"
      }
    },
    {
      "cell_type": "markdown",
      "source": [
        "$\\exists$  $\\forall$\n",
        "На $\\forall$ курсе $\\forall$ факультета есть $\\exists$ студенты, сдающие $\\forall$ экзамены на «отлично».\n",
        "\n",
        "На $\\exists$ **(определенных)** курсах $\\exists$ **(некоторых)** факультетах $\\forall$ **(все)** студенты **не сдают** $\\exists$ **(некоторые)** экзамены на \"отлично\".\n",
        "***\n",
        "В $\\forall$ самолете на $\\exists$ рейсе Вашингтон-Москва присутствует $\\exists$ сотрудник силовых органов, в $\\forall$ пуговице одежды которого вмонтирован микрофон.\n",
        "\n",
        "В $\\exists$ **(только)** самолете на $\\forall$ **(всех)** рейсах Вашингтон-Москва присутствуют $\\forall$ сотрудники силовых органов, в $\\exists$ **(одной)**  пуговице одежды которых вмонтирован микрофон."
      ],
      "metadata": {
        "id": "Qo9woa2ho0OW"
      }
    },
    {
      "cell_type": "markdown",
      "source": [
        "## Задание 6*"
      ],
      "metadata": {
        "id": "RkZyeJsGFCAI"
      }
    },
    {
      "cell_type": "markdown",
      "source": [
        "__6*.__ Прочитайте высказывания, установите их истинность и постройте противоположное высказывание:\n",
        "\n",
        "$$a)\\,\\,\\, \\forall x\\in\\mathbb{R}\\,\\,\\,\\exists X\\in\\mathbb{R}:\\,\\,\\, X>x;$$\n",
        "$$б)\\,\\,\\, \\forall y\\in\\Bigl[0; \\frac{\\pi}{2}\\Bigr]\\,\\,\\,\\exists \\varepsilon>0:\\,\\,\\, \\sin y<\\sin(y+\\varepsilon);$$\n",
        "$$в)\\,\\,\\, \\forall y\\in\\Bigl[0; \\pi\\Bigr)\\,\\,\\,\\exists \\varepsilon>0:\\,\\,\\, \\cos y>\\cos(y+\\varepsilon).$$"
      ],
      "metadata": {
        "id": "y4EHwo0JNUog"
      }
    },
    {
      "cell_type": "markdown",
      "source": [
        "# Урок 3"
      ],
      "metadata": {
        "id": "tgu_IYqVVNBW"
      }
    },
    {
      "cell_type": "code",
      "source": [
        "import math\n",
        "from sympy import *"
      ],
      "metadata": {
        "id": "gIMAgU7HW3D6"
      },
      "execution_count": null,
      "outputs": []
    },
    {
      "cell_type": "markdown",
      "source": [
        "## Задание 1"
      ],
      "metadata": {
        "id": "P6Tga0plVRCF"
      }
    },
    {
      "cell_type": "markdown",
      "source": [
        "Найти предел последовательности:\n",
        "\n",
        "$$а)\\,\\,\\,\\,\\lim_{n\\to \\infty} \\frac{(23-2n^2)(3n^2+17)^2}{4n^6+n-1}$$\n",
        "\n",
        "$$б)\\,\\,\\,\\,\\lim_{n\\to \\infty} \\frac{(97-2n)^3}{2n(3n^2+15)+8n}$$\n",
        "\n",
        "$$в)\\,\\,\\,\\,\\lim_{n\\to \\infty} \\frac{2n^3+13n(n+18)}{(27-n)(2n+19)^2}$$\n",
        "\n",
        "$$г)\\,\\,\\,\\,\\lim_{n\\to \\infty} (\\sqrt{n^2+1}-n)$$\n",
        "\n",
        "$$д)\\,\\,\\,\\,\\lim_{n\\to \\infty} \\frac{(-4)^n+5\\cdot7^n}{(-4)^{n-1}+7^{n+2}}$$\n",
        "\n",
        "$$e)^*\\,\\,\\,\\,\\lim_{n\\to \\infty} \\Bigl(\\frac{1}{1\\cdot2}+\\frac{1}{2\\cdot3}+\\frac{1}{3\\cdot4}+...+\\frac{1}{(n-1)\\cdot n}\\Bigr)$$"
      ],
      "metadata": {
        "id": "BXC1BjIrVpaK"
      }
    },
    {
      "cell_type": "markdown",
      "source": [
        "$$а)\\,\\,\\,\\,\\lim_{n\\to \\infty} \\frac{(23-2n^2)(3n^2+17)^2}{4n^6+n-1}$$\n",
        "Предел числителя\n",
        "$$\\,\\,\\,\\,\\lim_{n\\to \\infty} {(23-2n^2)(3n^2+17)^2}$$\n",
        "$$\\,\\,\\,\\,\\lim_{n\\to \\infty} {(23-2n^2)(9n^4+102n^2+289)}$$\n",
        "$$\\,\\,\\,\\,\\lim_{n\\to \\infty} {(207n^4+2346n^2+6647-18n^6-204n^4-578n^2)}$$\n",
        "$$\\,\\,\\,\\,\\lim_{n\\to \\infty} {(207n^4+2346n^2+6647-18n^6-204n^4-578n^2)}$$\n",
        "$$\\,\\,\\,\\,\\lim_{n\\to \\infty} {(3n^4+1768n^2+6647-18n^6)}$$\n",
        "$$\\,\\,\\,\\,\\lim_{n\\to \\infty} {(-18n^6+3n^4+1768n^2+6647)}$$\n",
        "старший коэфициент $${-\\infty}$$\n",
        "Предел знаменателя\n",
        "$$\\,\\,\\,\\,\\lim_{n\\to \\infty} {4n^6+n-1}$$\n",
        "старший коэфициент $${+\\infty}$$\n",
        "$$=\\Bigl(\\frac{\\infty}{\\infty}\\Bigr)$$\n",
        "$$а)\\,\\,\\,\\,\\lim_{n\\to \\infty} \\frac{-18n^6+3n^4+1768n^2+6647}{4n^6+n-1}$$\n",
        "Выносим $${n^6}$$ в числителе и знаменателе и сокращаем дробь\n",
        "$$\\lim_{n\\to \\infty} \\frac{6n^6(\\frac{3}{n^2}+\\frac{1768}{n^4}+\\frac{6647}{n^6}-18)}{n^6(4+\\frac{1}{n^5}-\\frac{1}{n^6})}$$\n",
        "$${-\\frac{9}{2}}=-4.5$$\n",
        "***\n",
        "$$б)\\,\\,\\,\\,\\lim_{n\\to \\infty} \\frac{(97-2n)^3}{2n(3n^2+15)+8n}$$\n",
        "...\n",
        "$${-\\frac{4}{3}}={-1\\frac{1}{3}}$$\n",
        "***\n",
        "$$в)\\,\\,\\,\\,\\lim_{n\\to \\infty} \\frac{2n^3+13n(n+18)}{(27-n)(2n+19)^2}$$\n",
        "...\n",
        "$${-\\frac{1}{2}}=-0.5$$\n",
        "***\n",
        "$$г)\\,\\,\\,\\,\\lim_{n\\to \\infty} (\\sqrt{n^2+1}-n)$$\n",
        "... \n",
        "$$0$$\n",
        "***\n",
        "$$д)\\,\\,\\,\\,\\lim_{n\\to \\infty} \\frac{(-4)^n+5\\cdot7^n}{(-4)^{n-1}+7^{n+2}}$$\n",
        "...\n",
        "***\n",
        "$$e)^*\\,\\,\\,\\,\\lim_{n\\to \\infty} \\Bigl(\\frac{1}{1\\cdot2}+\\frac{1}{2\\cdot3}+\\frac{1}{3\\cdot4}+...+\\frac{1}{(n-1)\\cdot n}\\Bigr)$$\n",
        "...\n"
      ],
      "metadata": {
        "id": "42u9F9ArmFTD"
      }
    },
    {
      "cell_type": "markdown",
      "source": [
        "## Задание 2"
      ],
      "metadata": {
        "id": "HUvYqDmnVd4U"
      }
    },
    {
      "cell_type": "markdown",
      "source": [
        "Представьте $1$ в виде суммы трех обыкновенных дробей с разными знаменателями и числителем равным $1$."
      ],
      "metadata": {
        "id": "W-hWpiR7V0y_"
      }
    },
    {
      "cell_type": "markdown",
      "source": [
        "$$\\frac{1}{2}+\\frac{1}{3}+\\frac{1}{6}=1$$"
      ],
      "metadata": {
        "id": "bYIJXDoysivu"
      }
    },
    {
      "cell_type": "markdown",
      "source": [
        "## Задание 3*"
      ],
      "metadata": {
        "id": "W3KS6W6eVf_p"
      }
    },
    {
      "cell_type": "markdown",
      "source": [
        "Тоже задание, только в виде суммы шести дробей."
      ],
      "metadata": {
        "id": "SmsDKKUkWC0a"
      }
    },
    {
      "cell_type": "markdown",
      "source": [
        "$$\\frac{1}{3}+\\frac{1}{6}+\\frac{1}{4}+\\frac{1}{12}+\\frac{1}{8}+\\frac{1}{24}=1$$"
      ],
      "metadata": {
        "id": "hk1bGgxFeDK8"
      }
    },
    {
      "cell_type": "markdown",
      "source": [
        "## Задание 4"
      ],
      "metadata": {
        "id": "b6k2VK-3WEdh"
      }
    },
    {
      "cell_type": "markdown",
      "source": [
        "Пользуясь критерием Коши, докажите сходимость последовательности:\n",
        "\n",
        "$$a_n=\\frac{\\sin1}{2}+\\frac{\\sin2}{2^2}+\\frac{\\sin3}{2^3}+..\\frac{\\sin n}{2^n}\\,\\,\\,\\,\\,\\Rightarrow$$\n",
        "\n",
        "$$\\Bigl\\{a_n\\Bigr\\}_{n=1}^\\infty=\\Bigl\\{\\frac{\\sin1}{2}, \\frac{\\sin1}{2}+\\frac{\\sin2}{2^2}, ..., a_n,...\\Bigr\\}$$\n",
        "\n",
        "\n",
        "$^*$ Какой член последовательности можно взять в качестве предела с точностью $\\varepsilon=10^{-7}$?"
      ],
      "metadata": {
        "id": "ZKWXrvu8WRMn"
      }
    },
    {
      "cell_type": "markdown",
      "source": [
        "## Задание 5"
      ],
      "metadata": {
        "id": "DGUJ3nU0WIQ4"
      }
    },
    {
      "cell_type": "markdown",
      "source": [
        "Пользуясь критерием Коши, докажите расходимость последовательности:\n",
        "\n",
        "$$b_n=1+\\frac{1}{2}+\\frac{1}{3}+..\\frac{1}{n}\\,\\,\\,\\,\\,\\Rightarrow$$\n",
        "\n",
        "$$\\Bigl\\{b_n\\Bigr\\}_{n=1}^\\infty=\\Bigl\\{1, 1+\\frac{1}{2},1+\\frac{1}{2}+\\frac{1}{3}, ..., b_n,...\\Bigr\\}$$"
      ],
      "metadata": {
        "id": "l6xaQgjwWYgD"
      }
    },
    {
      "cell_type": "markdown",
      "source": [
        "# Урок 4"
      ],
      "metadata": {
        "id": "R1-gJKMpZ0zh"
      }
    },
    {
      "cell_type": "markdown",
      "source": [
        "## Задание 1"
      ],
      "metadata": {
        "id": "GD0mb1srZ5Pk"
      }
    },
    {
      "cell_type": "markdown",
      "source": [
        " Найти предел функции:\n",
        "\n",
        "$$а)\\,\\,\\,\\,\\lim_{x\\to 6} \\frac{x^2-36}{x^2-x-30}$$\n",
        "\n",
        "$$б)\\,\\,\\,\\,\\lim_{x\\to 7} \\frac{x^2-49}{x^2-13x+42}$$\n",
        "\n",
        "$$в^*)\\,\\,\\,\\,\\lim_{x\\to 7} \\frac{\\sqrt{x+2}-\\sqrt[3]{x+20}}{\\sqrt[4]{x+9}-2}$$\n",
        "\n",
        "$$г)\\,\\,\\,\\,\\lim_{x\\to 0} \\frac{3x\\,\\mbox{tg}\\,4x}{1-\\cos4x}$$\n",
        "\n",
        "$$д^{**})\\,\\,\\,\\,\\lim_{x\\to 0} \\frac{\\sqrt2x^2\\sin4x}{(1-\\cos2x)^{\\frac{3}{2}}}$$\n",
        "\n",
        "$$е)\\,\\,\\,\\,\\lim_{x\\to \\infty} \\Bigr(\\frac{4x}{4x+3}\\Bigl)^\\frac{5x^2}{7x-1}$$\n",
        "\n",
        "$$ж^*)\\,\\,\\,\\,\\lim_{x\\to +0} \\frac{5^x-1}{x}$$\n",
        "\n",
        "$$з^*)\\,\\,\\,\\,\\lim_{x\\to +\\infty} \\frac{\\ln(x^2-x+1)}{\\ln(x^{10}+x+1)}$$"
      ],
      "metadata": {
        "id": "piPmJ8xYaI4w"
      }
    },
    {
      "cell_type": "markdown",
      "source": [
        "$$а)\\,\\,\\,\\,\\lim_{x\\to 6} \\frac{x^2-36}{x^2-x-30}$$\n",
        "Выражение является неопределенностью \n",
        "$$\\frac{0}{0}$$\n",
        "раскладываем на множетели\n",
        "$$\\,\\,\\,\\,\\lim_{x\\to 6} \\frac{(x-6)(x+6)}{x^2-x-30}$$\n",
        "$$\\,\\,\\,\\,\\lim_{x\\to 6} \\frac{(x-6)(x+6)}{x^2+5x-6x-30}$$\n",
        "$$\\,\\,\\,\\,\\lim_{x\\to 6}\\frac{(x-6)(x+6)}{x(x+5)-6(x+5)}$$\n",
        "$$\\,\\,\\,\\,\\lim_{x\\to 6}\\frac{(x-6)(x+6)}{(x+5)(x-6)}$$\n",
        "Сокращаем дробь\n",
        "$$\\,\\,\\,\\,\\lim_{x\\to 6}\\frac{x+6}{x+5}$$\n",
        "Вычисляем предел\n",
        "$$\\,\\,\\,\\,\\lim_{x\\to 6}\\frac{6+6}{6+5}=\\frac{12}{11}=1\\frac{1}{11}$$\n",
        "***\n",
        "$$б)\\,\\,\\,\\,\\lim_{x\\to 7} \\frac{x^2-49}{x^2-13x+42}$$\n",
        "...\n",
        "$$\\frac{0}{0}$$\n",
        "Раскладываем на множетели и сокращаем дробь\n",
        "$$\\,\\,\\,\\,\\lim_{x\\to 7}\\frac{x+7}{x-6}$$\n",
        "Вычисляем предел\n",
        "$${14}$$\n",
        "***\n",
        "$$в^*)\\,\\,\\,\\,\\lim_{x\\to 7} \\frac{\\sqrt{x+2}-\\sqrt[3]{x+20}}{\\sqrt[4]{x+9}-2}$$\n",
        "***\n",
        "$$г)\\,\\,\\,\\,\\lim_{x\\to 0} \\frac{3x\\,\\mbox{tg}\\,4x}{1-\\cos4x}$$\n",
        "Форма предела неопределенная используем правило Лопиталя\n",
        "$$\\lim_{x\\to 0} \\frac{\\frac{d}{dx}(3x\\mbox{tg}4x)}{\\frac{d}{dx}(1-\\cos4x)}$$\n",
        "...\n",
        "$$\\,\\,\\,\\,\\lim_{x\\to 0} \\frac{3x\\,\\sin4x+24}{8\\cos(4x)^2 \\sin4x}$$\n",
        "Вычисление предела \n",
        "$$\\,\\,\\,\\,\\,\\frac{3\\sin(8*0)+3}{4(-2\\cos(4*0)\\sin(4*0)^2 +\\cos(4*0)^3}$$\n",
        "$$\\,\\,\\,\\,\\frac{3}{2}= 1\\frac{1}{2}={1.5}$$\n",
        "***\n",
        "$$д^{**})\\,\\,\\,\\,\\lim_{x\\to 0} \\frac{\\sqrt2x^2\\sin4x}{(1-\\cos2x)^{\\frac{3}{2}}}$$\n",
        "***\n",
        "$$е)\\,\\,\\,\\,\\lim_{x\\to \\infty} \\Bigr(\\frac{4x}{4x+3}\\Bigl)^\\frac{5x^2}{7x-1}$$\n",
        "***\n",
        "$$ж^*)\\,\\,\\,\\,\\lim_{x\\to +0} \\frac{5^x-1}{x}$$\n",
        "...\n",
        "$${\\ln(5)}$$\n",
        "***\n",
        "$$з^*)\\,\\,\\,\\,\\lim_{x\\to +\\infty} \\frac{\\ln(x^2-x+1)}{\\ln(x^{10}+x+1)}$$\n",
        "\n",
        "\n",
        "\n"
      ],
      "metadata": {
        "id": "U35iQAznbDJH"
      }
    },
    {
      "cell_type": "markdown",
      "source": [
        "## Задание 2*"
      ],
      "metadata": {
        "id": "hjHpqHFIZ7g0"
      }
    },
    {
      "cell_type": "markdown",
      "source": [
        " На языке Python предложить алгоритм вычисляющий численно предел последовательности\n",
        "\n",
        "$$\\lim_{n\\to +\\infty} \\frac{n}{\\sqrt[n]{n!}}$$"
      ],
      "metadata": {
        "id": "-3EfcnCgaQgj"
      }
    },
    {
      "cell_type": "markdown",
      "source": [
        "# Урок 5"
      ],
      "metadata": {
        "id": "lottVugivZeV"
      }
    },
    {
      "cell_type": "markdown",
      "source": [
        "## Задание 1"
      ],
      "metadata": {
        "id": "vN3dxtI2vf4Z"
      }
    },
    {
      "cell_type": "markdown",
      "source": [
        "Найти производную функции:\n",
        "\n",
        "$$y=\\frac{1}{x}+\\frac{2}{x^2}-\\frac{5}{x^3}+\\sqrt x -\\sqrt[3]x+\\frac{3}{\\sqrt x}$$"
      ],
      "metadata": {
        "id": "L8QnT7zdv_tT"
      }
    },
    {
      "cell_type": "markdown",
      "source": [
        "## Задание 2"
      ],
      "metadata": {
        "id": "aPz4HVszvoUH"
      }
    },
    {
      "cell_type": "markdown",
      "source": [
        "Найти производную функции:\n",
        "\n",
        "$$y=x \\cdot \\sqrt {1+x^2}$$"
      ],
      "metadata": {
        "id": "QVQDQRilwG4q"
      }
    },
    {
      "cell_type": "markdown",
      "source": [
        "## Задание 3"
      ],
      "metadata": {
        "id": "MB3Sk6rVvqIu"
      }
    },
    {
      "cell_type": "markdown",
      "source": [
        "Найти производную функции:\n",
        "\n",
        "$$y= \\frac{2x}{1-x^2}$$"
      ],
      "metadata": {
        "id": "dQQ7hMTAwJUG"
      }
    },
    {
      "cell_type": "markdown",
      "source": [
        "## Задание 4*"
      ],
      "metadata": {
        "id": "OVfM9j6QvtLk"
      }
    },
    {
      "cell_type": "markdown",
      "source": [
        "Найти производную функции:\n",
        "\n",
        "$$y=\\sqrt{x+ \\sqrt{x+\\sqrt x}}$$"
      ],
      "metadata": {
        "id": "B0yE8aNgwKGb"
      }
    },
    {
      "cell_type": "markdown",
      "source": [
        "## Задание 5"
      ],
      "metadata": {
        "id": "LObzJ8JxvwW9"
      }
    },
    {
      "cell_type": "markdown",
      "source": [
        "Найти производную функции:\n",
        "\n",
        "$$y= \\ln(x+\\sqrt{x^2+1})$$"
      ],
      "metadata": {
        "id": "JP09YjJ3wLCA"
      }
    },
    {
      "cell_type": "markdown",
      "source": [
        "## Задание 6"
      ],
      "metadata": {
        "id": "e7QHMecxvydO"
      }
    },
    {
      "cell_type": "markdown",
      "source": [
        "Найти производную функции:\n",
        "\n",
        "$$y=x \\cdot \\ln(x+\\sqrt{x^2+1})-\\sqrt{x^2+1}$$"
      ],
      "metadata": {
        "id": "HKN0YVWgwLtq"
      }
    },
    {
      "cell_type": "markdown",
      "source": [
        "## Задание 7*"
      ],
      "metadata": {
        "id": "PVsdEVj0v0pe"
      }
    },
    {
      "cell_type": "markdown",
      "source": [
        "Найти производную функции:\n",
        "\n",
        "$$y=\\arcsin (\\sin x)$$"
      ],
      "metadata": {
        "id": "YOn7dybjwMk7"
      }
    },
    {
      "cell_type": "markdown",
      "source": [
        "## Задание 8*"
      ],
      "metadata": {
        "id": "IxUXVpagv3Nb"
      }
    },
    {
      "cell_type": "markdown",
      "source": [
        "Вычислить приближенное значение: \n",
        "\n",
        "$$\\sin(1^0)=\\sin\\Bigl(\\frac{\\pi}{180}\\Bigr)$$"
      ],
      "metadata": {
        "id": "3TdDSqU8wNHa"
      }
    },
    {
      "cell_type": "markdown",
      "source": [
        "## Задание 9*"
      ],
      "metadata": {
        "id": "ck8SRIm7v5gJ"
      }
    },
    {
      "cell_type": "markdown",
      "source": [
        "Написать на python алгоритм, по вычислению значений $\\sin(x)$ для $х \\in[0, 30^0]$\n",
        "\n",
        "Для проверки подойдут данные из таблицы Брадиса"
      ],
      "metadata": {
        "id": "sxJsA3ldwN-H"
      }
    },
    {
      "cell_type": "markdown",
      "source": [
        "# Урок 6"
      ],
      "metadata": {
        "id": "J7w--5_zwswI"
      }
    },
    {
      "cell_type": "markdown",
      "source": [
        "## Задание 1"
      ],
      "metadata": {
        "id": "Ihm6ieuvwyAA"
      }
    },
    {
      "cell_type": "markdown",
      "source": [
        "Найти производную $y'_{x}$ функции:\n",
        "\n",
        "$$\\mbox{arctg}(\\frac{y}{x})=\\ln \\sqrt{x^2+y^2}$$"
      ],
      "metadata": {
        "id": "9Kc2eobCxRx2"
      }
    },
    {
      "cell_type": "markdown",
      "source": [
        "## Задание 2"
      ],
      "metadata": {
        "id": "YWYwgp-uxBAs"
      }
    },
    {
      "cell_type": "markdown",
      "source": [
        "Найти производную $y'_{x}$ функции:\n",
        "\n",
        " \\begin{cases}\n",
        "   y=\\frac{t^2}{t-1}, \\\\\n",
        "   x=\\frac{t}{t^2-1} \n",
        " \\end{cases}"
      ],
      "metadata": {
        "id": "9WpkHr5VxScG"
      }
    },
    {
      "cell_type": "markdown",
      "source": [
        "## Задание 3"
      ],
      "metadata": {
        "id": "9sZ9mR-NxDD8"
      }
    },
    {
      "cell_type": "markdown",
      "source": [
        "Найти производную с помощью логарифмирования:\n",
        "\n",
        "$$y=(x^2+2)^5\\cdot(3x-x^3)^3$$"
      ],
      "metadata": {
        "id": "aJU5wD0qxTCY"
      }
    },
    {
      "cell_type": "markdown",
      "source": [
        "## Задание 4"
      ],
      "metadata": {
        "id": "SbijR6_nxFfF"
      }
    },
    {
      "cell_type": "markdown",
      "source": [
        "Найти производную функции с помощью логарифмирования:\n",
        "\n",
        "$$y=x^x$$"
      ],
      "metadata": {
        "id": "GzsvmPR9xToq"
      }
    },
    {
      "cell_type": "markdown",
      "source": [
        "## Задание 5"
      ],
      "metadata": {
        "id": "LdMC37S0xGvY"
      }
    },
    {
      "cell_type": "markdown",
      "source": [
        "Найти производную функции с помощью логарифмирования:\n",
        "\n",
        "$$y=\\frac{(2-x^2)^3\\cdot(x-1)^2}{(2x^3-3x)\\cdot e^x}$$"
      ],
      "metadata": {
        "id": "5HsF6i7-xUTw"
      }
    },
    {
      "cell_type": "markdown",
      "source": [
        "## Задание 6*"
      ],
      "metadata": {
        "id": "BHrxT4a_xHXQ"
      }
    },
    {
      "cell_type": "markdown",
      "source": [
        "Вывести табличное значение производной для функции\n",
        "\n",
        "$$\\mbox{arctg}(x)$$"
      ],
      "metadata": {
        "id": "qUEXJJohxU4A"
      }
    },
    {
      "cell_type": "markdown",
      "source": [
        "## Задание 7"
      ],
      "metadata": {
        "id": "R4ZRUrhOxNJE"
      }
    },
    {
      "cell_type": "markdown",
      "source": [
        "Найти длину $𝑥$ и ширину $𝑦$ прямоугольника при заданном периметре $𝑃=144$ cм, при которых данный прямоугольник имеет наибольшую площадь $𝑆$."
      ],
      "metadata": {
        "id": "tR-MAd5zxVaa"
      }
    },
    {
      "cell_type": "markdown",
      "source": [
        "## Задание 8*"
      ],
      "metadata": {
        "id": "zCbW0RVWxNk9"
      }
    },
    {
      "cell_type": "markdown",
      "source": [
        "Завод $A$ отстоит от железной дороги, идущей с юга на север и проходящей через $B$, считая по кратчайшему расстоянию на $a$ км. Под каким углом $\\alpha$ к железной дороге следует ппостроить подъезной  путь от завода, чтобы транспортировка грузов из $A$ в $B$ была наиболее экономичной, если стоимость провоза тонны груза на расстоянии $1$ км составляет: по подъезному пути $p$ рублей, по железной дороге $q$ рублей $(p>q)$ и город $B$ расположен на $b$ км севернее завода $A$."
      ],
      "metadata": {
        "id": "NzYdshUpxWAl"
      }
    }
  ]
}