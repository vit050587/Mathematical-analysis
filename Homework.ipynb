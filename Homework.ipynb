{
  "cells": [
    {
      "cell_type": "markdown",
      "metadata": {
        "id": "view-in-github",
        "colab_type": "text"
      },
      "source": [
        "<a href=\"https://colab.research.google.com/github/vit050587/Mathematical-analysis/blob/master/Homework.ipynb\" target=\"_parent\"><img src=\"https://colab.research.google.com/assets/colab-badge.svg\" alt=\"Open In Colab\"/></a>"
      ]
    },
    {
      "cell_type": "markdown",
      "metadata": {
        "id": "U56gYyF7EZ7B"
      },
      "source": [
        "# Урок 2"
      ]
    },
    {
      "cell_type": "markdown",
      "metadata": {
        "id": "4-gqu03pErzx"
      },
      "source": [
        "## Задание 1"
      ]
    },
    {
      "cell_type": "markdown",
      "metadata": {
        "id": "Hw73EM5IFH5R"
      },
      "source": [
        "__1.__ Представьте в виде __несократимой__ обыкновенной дроби:\n",
        "\n",
        "$$а)\\,\\,\\, 0.(216);$$\n",
        "\n",
        "$$б)\\,\\,\\, 1.0(01).$$"
      ]
    },
    {
      "cell_type": "markdown",
      "metadata": {
        "id": "ytJg2P98d-O6"
      },
      "source": [
        "$$а)\\,\\,\\, 0.(216);$$\n",
        "$$a=0.(216)$$\n",
        "\n",
        "$$1000a=216.(216)$$\n",
        "\n",
        "$$1000a=216+0.(216)$$\n",
        "\n",
        "$$1000a=216+a$$\n",
        "\n",
        "$$999a=216$$\n",
        "\n",
        "$$a=\\frac{216}{999}$$\n",
        "\n",
        "$$0.(216)=\\frac{216}{999}$$\n",
        "\n",
        "***\n",
        "$$a=1.0(01)$$\n",
        "\n",
        "$$10a=10.(01)$$\n",
        "\n",
        "$$10a=10+0.(01)$$\n",
        "\n",
        "$$0.(01)=\\frac{1}{99}$$\n",
        "\n",
        "$$10a=10+\\frac{1}{99}=\\frac{990}{99}+\\frac{1}{99}=\\frac{1000}{99}$$\n",
        "\n",
        "$$a=\\frac{1000}{990}=\\frac{100}{99}$$\n"
      ]
    },
    {
      "cell_type": "markdown",
      "metadata": {
        "id": "rUXHjv-GE064"
      },
      "source": [
        "## Задание 2"
      ]
    },
    {
      "cell_type": "markdown",
      "metadata": {
        "id": "uDE4ogSfFNWa"
      },
      "source": [
        "__2*.__ Пусть $x =\\frac{2}{21}$. Известно, что для некоторого натурального $k$ число $x$ записывается в $k$ - ичной системе счисления как $0.(13)_k = 0, 131313..._k$. Найдите $k$."
      ]
    },
    {
      "cell_type": "markdown",
      "metadata": {
        "id": "_86UYddvE2mo"
      },
      "source": [
        "## Задание 3"
      ]
    },
    {
      "cell_type": "markdown",
      "metadata": {
        "id": "bucpJUmdFT7J"
      },
      "source": [
        "__3.__ Проверьте любым способ, является ли данные логические формулы тавтологией:\n",
        "\n",
        "$$a)\\,\\,\\, (A \\vee B) \\rightarrow (B \\vee\\overline A)$$\n",
        "$$б)\\,\\,\\, A \\rightarrow (A \\vee (\\overline B \\wedge A))$$"
      ]
    },
    {
      "cell_type": "markdown",
      "metadata": {
        "id": "H9e-rnpjib4k"
      },
      "source": [
        "\n",
        " <table>\n",
        "<thead>\n",
        "<tr><th>$A$</th><th>$B$</th><th>$(A\\vee B)$</th><th>$(B\\vee \\overline A)$</th>\n",
        "</thead>\n",
        "<tbody>\n",
        "    <tr><td>$1$</td><td>$0$</td><td>$1$</td><td>$0$</td></tr>\n",
        "    <tr><td>$0$</td><td>$1$</td><td>$1$</td><td>$1$</td></tr>\n",
        "    <tr><td>$1$</td><td>$1$</td><td>$1$</td><td>$1$</td></tr>\n",
        "    <tr><td>$0$</td><td>$0$</td><td>$0$</td><td>$1$</td></tr>\n",
        "\n",
        "\n",
        "</tbody>\n",
        "</table>\n",
        "\n",
        " <table>\n",
        "<thead>\n",
        "<tr><th>$A$</th><th>$B$</th><th>$(\\overline B\\wedge A)$</th><th>$(A\\vee 1)$</th>\n",
        "</thead>\n",
        "<tbody>\n",
        "    <tr><td>$1$</td><td>$0$</td><td>$1$</td><td>$1$</td></tr>\n",
        "    <tr><td>$0$</td><td>$1$</td><td>$0$</td><td>$1$</td></tr>\n",
        "    <tr><td>$1$</td><td>$1$</td><td>$0$</td><td>$1$</td></tr>\n",
        "    <tr><td>$0$</td><td>$0$</td><td>$0$</td><td>$0$</td></tr>\n",
        "\n",
        "\n",
        "</tbody>\n",
        "</table>\n",
        "\n",
        "Итог: Тавтологиями не являются обе формулы!"
      ]
    },
    {
      "cell_type": "markdown",
      "metadata": {
        "id": "GUIWJkheE5Vi"
      },
      "source": [
        "## Задание 4"
      ]
    },
    {
      "cell_type": "markdown",
      "metadata": {
        "id": "F2hn7yyNND7g"
      },
      "source": [
        "__4.__ Сформулируйте словесно высказывания:\n",
        "$$a)\\,\\,\\, (\\overline A \\vee B) \\rightarrow \\overline C$$\n",
        "$$б)\\,\\,\\, C \\rightarrow (A \\vee \\overline B)$$\n",
        "\n",
        "- $A:\\,\\,\\,$ сегодня светит солнце; \n",
        "- $B:\\,\\,\\,$ сегодня сыро; \n",
        "- $C:\\,\\,\\,$ я поеду на дачу. "
      ]
    },
    {
      "cell_type": "markdown",
      "metadata": {
        "id": "8FFolxnVncLh"
      },
      "source": [
        "a) **Если** сегодня **не** светит солнце **или** сыро, **то** я **не** поеду на дачу.\n",
        "б) **Если** я поехал на дачу, **то** сегодня светит солнце **или не** сыро."
      ]
    },
    {
      "cell_type": "markdown",
      "metadata": {
        "id": "H4NKavpFE72a"
      },
      "source": [
        "## Задание 5"
      ]
    },
    {
      "cell_type": "markdown",
      "metadata": {
        "id": "klTLrUC2NFa_"
      },
      "source": [
        "__5.__  Пользуясь правилом построения противоположного высказывания, запишите утверждения, противоположные следующим:\n",
        "\n",
        "a) На любом курсе каждого факультета есть студенты, сдающие все экзамены на «отлично».\n",
        "\n",
        "б) В любом самолете на рейсе Вашингтон-Москва присутствует хотя бы один сотрудник силовых органов, в каждой пуговице одежды которого вмонтирован микрофон."
      ]
    },
    {
      "cell_type": "markdown",
      "metadata": {
        "id": "Qo9woa2ho0OW"
      },
      "source": [
        "$\\exists$  $\\forall$\n",
        "На $\\forall$ курсе $\\forall$ факультета есть $\\exists$ студенты, сдающие $\\forall$ экзамены на «отлично».\n",
        "\n",
        "На $\\exists$ **(определенных)** курсах $\\exists$ **(некоторых)** факультетах $\\forall$ **(все)** студенты **не сдают** $\\exists$ **(некоторые)** экзамены на \"отлично\".\n",
        "***\n",
        "В $\\forall$ самолете на $\\exists$ рейсе Вашингтон-Москва присутствует $\\exists$ сотрудник силовых органов, в $\\forall$ пуговице одежды которого вмонтирован микрофон.\n",
        "\n",
        "В $\\exists$ **(только)** самолете на $\\forall$ **(всех)** рейсах Вашингтон-Москва присутствуют $\\forall$ сотрудники силовых органов, в $\\exists$ **(одной)**  пуговице одежды которых вмонтирован микрофон."
      ]
    },
    {
      "cell_type": "markdown",
      "metadata": {
        "id": "RkZyeJsGFCAI"
      },
      "source": [
        "## Задание 6*"
      ]
    },
    {
      "cell_type": "markdown",
      "metadata": {
        "id": "y4EHwo0JNUog"
      },
      "source": [
        "__6*.__ Прочитайте высказывания, установите их истинность и постройте противоположное высказывание:\n",
        "\n",
        "$$a)\\,\\,\\, \\forall x\\in\\mathbb{R}\\,\\,\\,\\exists X\\in\\mathbb{R}:\\,\\,\\, X>x;$$\n",
        "$$б)\\,\\,\\, \\forall y\\in\\Bigl[0; \\frac{\\pi}{2}\\Bigr]\\,\\,\\,\\exists \\varepsilon>0:\\,\\,\\, \\sin y<\\sin(y+\\varepsilon);$$\n",
        "$$в)\\,\\,\\, \\forall y\\in\\Bigl[0; \\pi\\Bigr)\\,\\,\\,\\exists \\varepsilon>0:\\,\\,\\, \\cos y>\\cos(y+\\varepsilon).$$"
      ]
    },
    {
      "cell_type": "markdown",
      "metadata": {
        "id": "tgu_IYqVVNBW"
      },
      "source": [
        "# Урок 3"
      ]
    },
    {
      "cell_type": "code",
      "execution_count": 1,
      "metadata": {
        "id": "gIMAgU7HW3D6"
      },
      "outputs": [],
      "source": [
        "import math\n",
        "from sympy import *"
      ]
    },
    {
      "cell_type": "markdown",
      "metadata": {
        "id": "P6Tga0plVRCF"
      },
      "source": [
        "## Задание 1"
      ]
    },
    {
      "cell_type": "markdown",
      "metadata": {
        "id": "BXC1BjIrVpaK"
      },
      "source": [
        "Найти предел последовательности:\n",
        "\n",
        "$$а)\\,\\,\\,\\,\\lim_{n\\to \\infty} \\frac{(23-2n^2)(3n^2+17)^2}{4n^6+n-1}$$\n",
        "\n",
        "$$б)\\,\\,\\,\\,\\lim_{n\\to \\infty} \\frac{(97-2n)^3}{2n(3n^2+15)+8n}$$\n",
        "\n",
        "$$в)\\,\\,\\,\\,\\lim_{n\\to \\infty} \\frac{2n^3+13n(n+18)}{(27-n)(2n+19)^2}$$\n",
        "\n",
        "$$г)\\,\\,\\,\\,\\lim_{n\\to \\infty} (\\sqrt{n^2+1}-n)$$\n",
        "\n",
        "$$д)\\,\\,\\,\\,\\lim_{n\\to \\infty} \\frac{(-4)^n+5\\cdot7^n}{(-4)^{n-1}+7^{n+2}}$$\n",
        "\n",
        "$$e)^*\\,\\,\\,\\,\\lim_{n\\to \\infty} \\Bigl(\\frac{1}{1\\cdot2}+\\frac{1}{2\\cdot3}+\\frac{1}{3\\cdot4}+...+\\frac{1}{(n-1)\\cdot n}\\Bigr)$$"
      ]
    },
    {
      "cell_type": "markdown",
      "metadata": {
        "id": "42u9F9ArmFTD"
      },
      "source": [
        "$$а)\\,\\,\\,\\,\\lim_{n\\to \\infty} \\frac{(23-2n^2)(3n^2+17)^2}{4n^6+n-1}$$\n",
        "Предел числителя\n",
        "$$\\,\\,\\,\\,\\lim_{n\\to \\infty} {(23-2n^2)(3n^2+17)^2}$$\n",
        "$$\\,\\,\\,\\,\\lim_{n\\to \\infty} {(23-2n^2)(9n^4+102n^2+289)}$$\n",
        "$$\\,\\,\\,\\,\\lim_{n\\to \\infty} {(207n^4+2346n^2+6647-18n^6-204n^4-578n^2)}$$\n",
        "$$\\,\\,\\,\\,\\lim_{n\\to \\infty} {(207n^4+2346n^2+6647-18n^6-204n^4-578n^2)}$$\n",
        "$$\\,\\,\\,\\,\\lim_{n\\to \\infty} {(3n^4+1768n^2+6647-18n^6)}$$\n",
        "$$\\,\\,\\,\\,\\lim_{n\\to \\infty} {(-18n^6+3n^4+1768n^2+6647)}$$\n",
        "старший коэфициент $${-\\infty}$$\n",
        "Предел знаменателя\n",
        "$$\\,\\,\\,\\,\\lim_{n\\to \\infty} {4n^6+n-1}$$\n",
        "старший коэфициент $${+\\infty}$$\n",
        "$$=\\Bigl(\\frac{\\infty}{\\infty}\\Bigr)$$\n",
        "$$а)\\,\\,\\,\\,\\lim_{n\\to \\infty} \\frac{-18n^6+3n^4+1768n^2+6647}{4n^6+n-1}$$\n",
        "Выносим $${n^6}$$ в числителе и знаменателе и сокращаем дробь\n",
        "$$\\lim_{n\\to \\infty} \\frac{6n^6(\\frac{3}{n^2}+\\frac{1768}{n^4}+\\frac{6647}{n^6}-18)}{n^6(4+\\frac{1}{n^5}-\\frac{1}{n^6})}$$\n",
        "$${-\\frac{9}{2}}=-4.5$$\n",
        "***\n",
        "$$б)\\,\\,\\,\\,\\lim_{n\\to \\infty} \\frac{(97-2n)^3}{2n(3n^2+15)+8n}$$\n",
        "...\n",
        "$${-\\frac{4}{3}}={-1\\frac{1}{3}}$$\n",
        "***\n",
        "$$в)\\,\\,\\,\\,\\lim_{n\\to \\infty} \\frac{2n^3+13n(n+18)}{(27-n)(2n+19)^2}$$\n",
        "...\n",
        "$${-\\frac{1}{2}}=-0.5$$\n",
        "***\n",
        "$$г)\\,\\,\\,\\,\\lim_{n\\to \\infty} (\\sqrt{n^2+1}-n)$$\n",
        "... \n",
        "$$0$$\n",
        "***\n",
        "$$д)\\,\\,\\,\\,\\lim_{n\\to \\infty} \\frac{(-4)^n+5\\cdot7^n}{(-4)^{n-1}+7^{n+2}}$$\n",
        "...\n",
        "***\n",
        "$$e)^*\\,\\,\\,\\,\\lim_{n\\to \\infty} \\Bigl(\\frac{1}{1\\cdot2}+\\frac{1}{2\\cdot3}+\\frac{1}{3\\cdot4}+...+\\frac{1}{(n-1)\\cdot n}\\Bigr)$$\n",
        "...\n"
      ]
    },
    {
      "cell_type": "markdown",
      "metadata": {
        "id": "HUvYqDmnVd4U"
      },
      "source": [
        "## Задание 2"
      ]
    },
    {
      "cell_type": "markdown",
      "metadata": {
        "id": "W-hWpiR7V0y_"
      },
      "source": [
        "Представьте $1$ в виде суммы трех обыкновенных дробей с разными знаменателями и числителем равным $1$."
      ]
    },
    {
      "cell_type": "markdown",
      "metadata": {
        "id": "bYIJXDoysivu"
      },
      "source": [
        "$$\\frac{1}{2}+\\frac{1}{3}+\\frac{1}{6}=1$$"
      ]
    },
    {
      "cell_type": "markdown",
      "metadata": {
        "id": "W3KS6W6eVf_p"
      },
      "source": [
        "## Задание 3*"
      ]
    },
    {
      "cell_type": "markdown",
      "metadata": {
        "id": "SmsDKKUkWC0a"
      },
      "source": [
        "Тоже задание, только в виде суммы шести дробей."
      ]
    },
    {
      "cell_type": "markdown",
      "metadata": {
        "id": "hk1bGgxFeDK8"
      },
      "source": [
        "$$\\frac{1}{3}+\\frac{1}{6}+\\frac{1}{4}+\\frac{1}{12}+\\frac{1}{8}+\\frac{1}{24}=1$$"
      ]
    },
    {
      "cell_type": "markdown",
      "metadata": {
        "id": "b6k2VK-3WEdh"
      },
      "source": [
        "## Задание 4"
      ]
    },
    {
      "cell_type": "markdown",
      "metadata": {
        "id": "ZKWXrvu8WRMn"
      },
      "source": [
        "Пользуясь критерием Коши, докажите сходимость последовательности:\n",
        "\n",
        "$$a_n=\\frac{\\sin1}{2}+\\frac{\\sin2}{2^2}+\\frac{\\sin3}{2^3}+..\\frac{\\sin n}{2^n}\\,\\,\\,\\,\\,\\Rightarrow$$\n",
        "\n",
        "$$\\Bigl\\{a_n\\Bigr\\}_{n=1}^\\infty=\\Bigl\\{\\frac{\\sin1}{2}, \\frac{\\sin1}{2}+\\frac{\\sin2}{2^2}, ..., a_n,...\\Bigr\\}$$\n",
        "\n",
        "\n",
        "$^*$ Какой член последовательности можно взять в качестве предела с точностью $\\varepsilon=10^{-7}$?"
      ]
    },
    {
      "cell_type": "markdown",
      "metadata": {
        "id": "DGUJ3nU0WIQ4"
      },
      "source": [
        "## Задание 5"
      ]
    },
    {
      "cell_type": "markdown",
      "metadata": {
        "id": "l6xaQgjwWYgD"
      },
      "source": [
        "Пользуясь критерием Коши, докажите расходимость последовательности:\n",
        "\n",
        "$$b_n=1+\\frac{1}{2}+\\frac{1}{3}+..\\frac{1}{n}\\,\\,\\,\\,\\,\\Rightarrow$$\n",
        "\n",
        "$$\\Bigl\\{b_n\\Bigr\\}_{n=1}^\\infty=\\Bigl\\{1, 1+\\frac{1}{2},1+\\frac{1}{2}+\\frac{1}{3}, ..., b_n,...\\Bigr\\}$$"
      ]
    },
    {
      "cell_type": "markdown",
      "metadata": {
        "id": "R1-gJKMpZ0zh"
      },
      "source": [
        "# Урок 4"
      ]
    },
    {
      "cell_type": "markdown",
      "metadata": {
        "id": "GD0mb1srZ5Pk"
      },
      "source": [
        "## Задание 1"
      ]
    },
    {
      "cell_type": "markdown",
      "metadata": {
        "id": "piPmJ8xYaI4w"
      },
      "source": [
        " Найти предел функции:\n",
        "\n",
        "$$а)\\,\\,\\,\\,\\lim_{x\\to 6} \\frac{x^2-36}{x^2-x-30}$$\n",
        "\n",
        "$$б)\\,\\,\\,\\,\\lim_{x\\to 7} \\frac{x^2-49}{x^2-13x+42}$$\n",
        "\n",
        "$$в^*)\\,\\,\\,\\,\\lim_{x\\to 7} \\frac{\\sqrt{x+2}-\\sqrt[3]{x+20}}{\\sqrt[4]{x+9}-2}$$\n",
        "\n",
        "$$г)\\,\\,\\,\\,\\lim_{x\\to 0} \\frac{3x\\,\\mbox{tg}\\,4x}{1-\\cos4x}$$\n",
        "\n",
        "$$д^{**})\\,\\,\\,\\,\\lim_{x\\to 0} \\frac{\\sqrt2x^2\\sin4x}{(1-\\cos2x)^{\\frac{3}{2}}}$$\n",
        "\n",
        "$$е)\\,\\,\\,\\,\\lim_{x\\to \\infty} \\Bigr(\\frac{4x}{4x+3}\\Bigl)^\\frac{5x^2}{7x-1}$$\n",
        "\n",
        "$$ж^*)\\,\\,\\,\\,\\lim_{x\\to +0} \\frac{5^x-1}{x}$$\n",
        "\n",
        "$$з^*)\\,\\,\\,\\,\\lim_{x\\to +\\infty} \\frac{\\ln(x^2-x+1)}{\\ln(x^{10}+x+1)}$$"
      ]
    },
    {
      "cell_type": "markdown",
      "metadata": {
        "id": "58JX2vcH1j8H"
      },
      "source": [
        "$$а)\\,\\,\\,\\,\\lim_{x\\to 6} \\frac{x^2-36}{x^2-x-30}$$\n",
        "Решение:\n",
        "\n"
      ]
    },
    {
      "cell_type": "markdown",
      "metadata": {
        "id": "U35iQAznbDJH"
      },
      "source": [
        "$$а)\\,\\,\\,\\,\\lim_{x\\to 6} \\frac{x^2-36}{x^2-x-30}$$\n",
        "Выражение является неопределенностью \n",
        "$$\\frac{0}{0}$$\n",
        "раскладываем на множетели\n",
        "$$\\,\\,\\,\\,\\lim_{x\\to 6} \\frac{(x-6)(x+6)}{x^2-x-30}$$\n",
        "$$\\,\\,\\,\\,\\lim_{x\\to 6} \\frac{(x-6)(x+6)}{x^2+5x-6x-30}$$\n",
        "$$\\,\\,\\,\\,\\lim_{x\\to 6}\\frac{(x-6)(x+6)}{x(x+5)-6(x+5)}$$\n",
        "$$\\,\\,\\,\\,\\lim_{x\\to 6}\\frac{(x-6)(x+6)}{(x+5)(x-6)}$$\n",
        "Сокращаем дробь\n",
        "$$\\,\\,\\,\\,\\lim_{x\\to 6}\\frac{x+6}{x+5}$$\n",
        "Вычисляем предел\n",
        "$$\\,\\,\\,\\,\\lim_{x\\to 6}\\frac{6+6}{6+5}=\\frac{12}{11}=1\\frac{1}{11}$$\n",
        "***\n",
        "$$б)\\,\\,\\,\\,\\lim_{x\\to 7} \\frac{x^2-49}{x^2-13x+42}$$\n",
        "...\n",
        "$$\\frac{0}{0}$$\n",
        "Раскладываем на множетели и сокращаем дробь\n",
        "$$\\,\\,\\,\\,\\lim_{x\\to 7}\\frac{x+7}{x-6}$$\n",
        "Вычисляем предел\n",
        "$${14}$$\n",
        "***\n",
        "$$в^*)\\,\\,\\,\\,\\lim_{x\\to 7} \\frac{\\sqrt{x+2}-\\sqrt[3]{x+20}}{\\sqrt[4]{x+9}-2}$$\n",
        "***\n",
        "$$г)\\,\\,\\,\\,\\lim_{x\\to 0} \\frac{3x\\,\\mbox{tg}\\,4x}{1-\\cos4x}$$\n",
        "Форма предела неопределенная используем правило Лопиталя\n",
        "$$\\lim_{x\\to 0} \\frac{\\frac{d}{dx}(3x\\mbox{tg}4x)}{\\frac{d}{dx}(1-\\cos4x)}$$\n",
        "...\n",
        "$$\\,\\,\\,\\,\\lim_{x\\to 0} \\frac{3x\\,\\sin4x+24}{8\\cos(4x)^2 \\sin4x}$$\n",
        "Вычисление предела \n",
        "$$\\,\\,\\,\\,\\,\\frac{3\\sin(8*0)+3}{4(-2\\cos(4*0)\\sin(4*0)^2 +\\cos(4*0)^3}$$\n",
        "$$\\,\\,\\,\\,\\frac{3}{2}= 1\\frac{1}{2}={1.5}$$\n",
        "***\n",
        "$$д^{**})\\,\\,\\,\\,\\lim_{x\\to 0} \\frac{\\sqrt2x^2\\sin4x}{(1-\\cos2x)^{\\frac{3}{2}}}$$\n",
        "***\n",
        "$$е)\\,\\,\\,\\,\\lim_{x\\to \\infty} \\Bigr(\\frac{4x}{4x+3}\\Bigl)^\\frac{5x^2}{7x-1}$$\n",
        "$$=e^{\\lim_{x\\to \\infty} \\Bigr(\\frac{4x}{4x+3}-1\\Bigl)\\cdot\\frac{5x^2}{7x-1}}=$$\n",
        "$$=e^{\\lim_{x\\to \\infty} \\frac{-3}{4x+3}\\cdot\\frac{5x^2}{7x-1}}=$$\n",
        "$$=e^{\\frac{-3\\cdot5}{4\\cdot7}}=e^{-\\frac{15}{28}}$$\n",
        "***\n",
        "$$ж^*)\\,\\,\\,\\,\\lim_{x\\to +0} \\frac{5^x-1}{x}$$\n",
        "...\n",
        "$${\\ln(5)}$$\n",
        "***\n",
        "$$з^*)\\,\\,\\,\\,\\lim_{x\\to +\\infty} \\frac{\\ln(x^2-x+1)}{\\ln(x^{10}+x+1)}$$\n",
        "Выражение является неопределенностью \n",
        "$$\\frac{\\infty}{\\infty}$$\n",
        "Сокращение дроби\n",
        "$$\\lim_{x\\to +\\infty} \\frac{\\ln(x^2)+\\ln(1-\\frac{1}{x}+\\frac{1}{x^2})}{\\ln(x^{10})+\\ln(1+\\frac{1}{x^9}+\\frac{1}{x^{10}})}$$\n",
        "\n",
        "$$\\,\\,\\,\\,\\lim_{x\\to +\\infty} =\\frac{2\\ln(\\infty)}{10\\ln(\\infty)}$$\n",
        "$$\\,\\,\\,\\,\\lim_{x\\to +\\infty} =\\frac{2}{10}=\\frac{1}{5}$$\n",
        "\n",
        "\n",
        "\n",
        "\n"
      ]
    },
    {
      "cell_type": "markdown",
      "metadata": {
        "id": "hjHpqHFIZ7g0"
      },
      "source": [
        "## Задание 2*"
      ]
    },
    {
      "cell_type": "markdown",
      "metadata": {
        "id": "-3EfcnCgaQgj"
      },
      "source": [
        " На языке Python предложить алгоритм вычисляющий численно предел последовательности\n",
        "\n",
        "$$\\lim_{n\\to +\\infty} \\frac{n}{\\sqrt[n]{n!}}$$"
      ]
    },
    {
      "cell_type": "code",
      "execution_count": 2,
      "metadata": {
        "id": "rboTJWc8OpE3"
      },
      "outputs": [],
      "source": [
        "from math import lgamma  #lgamma(n) = ln((n-1)!)\n",
        "import numpy as np\n",
        "import math\n",
        "from decimal import Decimal\n",
        "import time"
      ]
    },
    {
      "cell_type": "code",
      "execution_count": 3,
      "metadata": {
        "colab": {
          "base_uri": "https://localhost:8080/"
        },
        "id": "z3OW4FNBO1rp",
        "outputId": "abf6a38f-8372-49b2-8063-4429c040f49e"
      },
      "outputs": [
        {
          "output_type": "stream",
          "name": "stdout",
          "text": [
            "2.684030488771894142063369175 0.000099697432711786705996101 297\n",
            "3.6357526779174805 seconds\n"
          ]
        }
      ],
      "source": [
        "start_time = time.time()\n",
        "\n",
        "def f(n):\n",
        "    b = math.factorial(n)\n",
        "    a = n / b**(1 / n)\n",
        "    return a\n",
        "\n",
        "acc = 0.0001\n",
        "i=Decimal(2)\n",
        "\n",
        "while(abs(f(i) - f(i-1))) > acc:\n",
        "    i +=1\n",
        "print(f(i), abs(f(i)-f(i-1)), i)\n",
        "print(\"%s seconds\" % (time.time() - start_time))"
      ]
    },
    {
      "cell_type": "markdown",
      "metadata": {
        "id": "lottVugivZeV"
      },
      "source": [
        "# Урок 5"
      ]
    },
    {
      "cell_type": "markdown",
      "metadata": {
        "id": "vN3dxtI2vf4Z"
      },
      "source": [
        "## Задание 1"
      ]
    },
    {
      "cell_type": "code",
      "execution_count": 4,
      "metadata": {
        "id": "TgtN02MzTMdV"
      },
      "outputs": [],
      "source": [
        "from sympy import *\n",
        "init_printing()"
      ]
    },
    {
      "cell_type": "markdown",
      "metadata": {
        "id": "L8QnT7zdv_tT"
      },
      "source": [
        "Найти производную функции:\n",
        "\n",
        "$$y=\\frac{1}{x}+\\frac{2}{x^2}-\\frac{5}{x^3}+\\sqrt x -\\sqrt[3]x+\\frac{3}{\\sqrt x}$$"
      ]
    },
    {
      "cell_type": "code",
      "execution_count": 5,
      "metadata": {
        "colab": {
          "base_uri": "https://localhost:8080/",
          "height": 0
        },
        "id": "NVSOih0UWQnT",
        "outputId": "a5d42950-6854-4b32-8338-ed37513ecae5"
      },
      "outputs": [
        {
          "output_type": "execute_result",
          "data": {
            "text/plain": [
              "  3⋅√x   1    4    15    1       3   \n",
              "- ──── - ── - ── + ── + ──── - ──────\n",
              "   2      2    3    4   2⋅√x      3/2\n",
              "         x    x    x           2⋅x   "
            ],
            "image/png": "[encoded data removed]",
            "text/latex": "$\\displaystyle - \\frac{3 \\sqrt{x}}{2} - \\frac{1}{x^{2}} - \\frac{4}{x^{3}} + \\frac{15}{x^{4}} + \\frac{1}{2 \\sqrt{x}} - \\frac{3}{2 x^{\\frac{3}{2}}}$"
          },
          "metadata": {},
          "execution_count": 5
        }
      ],
      "source": [
        "x = Symbol('x')\n",
        "#y = 1 / x + 2 / x**2 - 5 / x**3 + sqrt(x) - x**(1/3) + 3 / sqrt(x)\n",
        "y = 1 / x + 2 / x**2 - 5 / x**3 + sqrt(x) - sqrt(x)**3 + 3 / sqrt(x)\n",
        "diff(y, x)"
      ]
    },
    {
      "cell_type": "markdown",
      "metadata": {
        "id": "aPz4HVszvoUH"
      },
      "source": [
        "## Задание 2"
      ]
    },
    {
      "cell_type": "markdown",
      "metadata": {
        "id": "QVQDQRilwG4q"
      },
      "source": [
        "Найти производную функции:\n",
        "\n",
        "$$y=x \\cdot \\sqrt {1+x^2}$$"
      ]
    },
    {
      "cell_type": "code",
      "execution_count": 6,
      "metadata": {
        "colab": {
          "base_uri": "https://localhost:8080/",
          "height": 0
        },
        "id": "k5hHZegDTYe8",
        "outputId": "1bcd7b31-f5a3-422e-ef65-da854ce4ac2f"
      },
      "outputs": [
        {
          "output_type": "execute_result",
          "data": {
            "text/plain": [
              "      2          ________\n",
              "     x          ╱  2     \n",
              "─────────── + ╲╱  x  + 1 \n",
              "   ________              \n",
              "  ╱  2                   \n",
              "╲╱  x  + 1               "
            ],
            "image/png": "[encoded data removed]",
            "text/latex": "$\\displaystyle \\frac{x^{2}}{\\sqrt{x^{2} + 1}} + \\sqrt{x^{2} + 1}$"
          },
          "metadata": {},
          "execution_count": 6
        }
      ],
      "source": [
        "x = Symbol('x')\n",
        "y = x * sqrt(1 + x**2)\n",
        "diff(y, x)"
      ]
    },
    {
      "cell_type": "markdown",
      "metadata": {
        "id": "MB3Sk6rVvqIu"
      },
      "source": [
        "## Задание 3"
      ]
    },
    {
      "cell_type": "markdown",
      "metadata": {
        "id": "dQQ7hMTAwJUG"
      },
      "source": [
        "Найти производную функции:\n",
        "\n",
        "$$y= \\frac{2x}{1-x^2}$$"
      ]
    },
    {
      "cell_type": "code",
      "execution_count": 7,
      "metadata": {
        "colab": {
          "base_uri": "https://localhost:8080/",
          "height": 0
        },
        "id": "lbMqJmMcUkZP",
        "outputId": "794880c7-e70c-458e-ad75-44969926e44e"
      },
      "outputs": [
        {
          "output_type": "execute_result",
          "data": {
            "text/plain": [
              "  ⎛ 2    ⎞\n",
              "2⋅⎝x  + 1⎠\n",
              "──────────\n",
              "        2 \n",
              "⎛     2⎞  \n",
              "⎝1 - x ⎠  "
            ],
            "image/png": "[encoded data removed]",
            "text/latex": "$\\displaystyle \\frac{2 \\left(x^{2} + 1\\right)}{\\left(1 - x^{2}\\right)^{2}}$"
          },
          "metadata": {},
          "execution_count": 7
        }
      ],
      "source": [
        "x = Symbol('x')\n",
        "y = 2 * x / (1 - x**2)\n",
        "y = diff(y, x)\n",
        "y = together(y)\n",
        "y"
      ]
    },
    {
      "cell_type": "markdown",
      "metadata": {
        "id": "OVfM9j6QvtLk"
      },
      "source": [
        "## Задание 4*"
      ]
    },
    {
      "cell_type": "markdown",
      "metadata": {
        "id": "B0yE8aNgwKGb"
      },
      "source": [
        "Найти производную функции:\n",
        "\n",
        "$$y=\\sqrt{x+ \\sqrt{x+\\sqrt x}}$$"
      ]
    },
    {
      "cell_type": "code",
      "execution_count": 8,
      "metadata": {
        "colab": {
          "base_uri": "https://localhost:8080/",
          "height": 89
        },
        "id": "KVZp1KFmVENb",
        "outputId": "a1af3d3d-4f9b-4042-c61e-d9dbd93f016d"
      },
      "outputs": [
        {
          "output_type": "execute_result",
          "data": {
            "text/plain": [
              "    1    1         \n",
              "    ─ + ────       \n",
              "    2   4⋅√x     1 \n",
              "  ──────────── + ─ \n",
              "      ________   2 \n",
              "  2⋅╲╱ √x + x      \n",
              "───────────────────\n",
              "   ________________\n",
              "  ╱       ________ \n",
              "╲╱  x + ╲╱ √x + x  "
            ],
            "image/png": "[encoded data removed]",
            "text/latex": "$\\displaystyle \\frac{\\frac{\\frac{1}{2} + \\frac{1}{4 \\sqrt{x}}}{2 \\sqrt{\\sqrt{x} + x}} + \\frac{1}{2}}{\\sqrt{x + \\sqrt{\\sqrt{x} + x}}}$"
          },
          "metadata": {},
          "execution_count": 8
        }
      ],
      "source": [
        "x = Symbol('x')\n",
        "y = sqrt(x + sqrt(x + sqrt(x)))\n",
        "diff(y, x)"
      ]
    },
    {
      "cell_type": "markdown",
      "metadata": {
        "id": "LObzJ8JxvwW9"
      },
      "source": [
        "## Задание 5"
      ]
    },
    {
      "cell_type": "markdown",
      "metadata": {
        "id": "JP09YjJ3wLCA"
      },
      "source": [
        "Найти производную функции:\n",
        "\n",
        "$$y= \\ln(x+\\sqrt{x^2+1})$$"
      ]
    },
    {
      "cell_type": "code",
      "execution_count": 9,
      "metadata": {
        "id": "pvX4BRjdZCJu",
        "colab": {
          "base_uri": "https://localhost:8080/",
          "height": 0
        },
        "outputId": "5d2684e0-7274-46fd-94ba-edafff8e4adf"
      },
      "outputs": [
        {
          "output_type": "execute_result",
          "data": {
            "text/plain": [
              "     x         \n",
              "─────────── + 1\n",
              "   ________    \n",
              "  ╱  2         \n",
              "╲╱  x  + 1     \n",
              "───────────────\n",
              "       ________\n",
              "      ╱  2     \n",
              "x + ╲╱  x  + 1 "
            ],
            "image/png": "[encoded data removed]",
            "text/latex": "$\\displaystyle \\frac{\\frac{x}{\\sqrt{x^{2} + 1}} + 1}{x + \\sqrt{x^{2} + 1}}$"
          },
          "metadata": {},
          "execution_count": 9
        }
      ],
      "source": [
        "x = Symbol('x')\n",
        "y = log(x + sqrt((x**2) + 1))\n",
        "diff(y, x)"
      ]
    },
    {
      "cell_type": "markdown",
      "metadata": {
        "id": "e7QHMecxvydO"
      },
      "source": [
        "## Задание 6"
      ]
    },
    {
      "cell_type": "markdown",
      "metadata": {
        "id": "HKN0YVWgwLtq"
      },
      "source": [
        "Найти производную функции:\n",
        "\n",
        "$$y=x \\cdot \\ln(x+\\sqrt{x^2+1})-\\sqrt{x^2+1}$$"
      ]
    },
    {
      "cell_type": "code",
      "execution_count": 10,
      "metadata": {
        "id": "cPFgi3KfZ0t5",
        "colab": {
          "base_uri": "https://localhost:8080/",
          "height": 0
        },
        "outputId": "72f1c82d-bde9-4087-d4de-f3c0d11c465f"
      },
      "outputs": [
        {
          "output_type": "execute_result",
          "data": {
            "text/plain": [
              "                  ⎛     x         ⎞                       \n",
              "                x⋅⎜─────────── + 1⎟                       \n",
              "                  ⎜   ________    ⎟                       \n",
              "                  ⎜  ╱  2         ⎟      ⎛       ________⎞\n",
              "       x          ⎝╲╱  x  + 1     ⎠      ⎜      ╱  2     ⎟\n",
              "- ─────────── + ─────────────────── + log⎝x + ╲╱  x  + 1 ⎠\n",
              "     ________            ________                         \n",
              "    ╱  2                ╱  2                              \n",
              "  ╲╱  x  + 1      x + ╲╱  x  + 1                          "
            ],
            "image/png": "[encoded data removed]",
            "text/latex": "$\\displaystyle - \\frac{x}{\\sqrt{x^{2} + 1}} + \\frac{x \\left(\\frac{x}{\\sqrt{x^{2} + 1}} + 1\\right)}{x + \\sqrt{x^{2} + 1}} + \\log{\\left(x + \\sqrt{x^{2} + 1} \\right)}$"
          },
          "metadata": {},
          "execution_count": 10
        }
      ],
      "source": [
        "x = Symbol('x')\n",
        "y = x * ln(x + sqrt((x**2) + 1)) - sqrt((x**2) + 1)\n",
        "diff(y, x)"
      ]
    },
    {
      "cell_type": "markdown",
      "metadata": {
        "id": "PVsdEVj0v0pe"
      },
      "source": [
        "## Задание 7*"
      ]
    },
    {
      "cell_type": "markdown",
      "metadata": {
        "id": "YOn7dybjwMk7"
      },
      "source": [
        "Найти производную функции:\n",
        "\n",
        "$$y=\\arcsin (\\sin x)$$"
      ]
    },
    {
      "cell_type": "markdown",
      "metadata": {
        "id": "IxUXVpagv3Nb"
      },
      "source": [
        "## Задание 8*"
      ]
    },
    {
      "cell_type": "markdown",
      "metadata": {
        "id": "3TdDSqU8wNHa"
      },
      "source": [
        "Вычислить приближенное значение: \n",
        "\n",
        "$$\\sin(1^0)=\\sin\\Bigl(\\frac{\\pi}{180}\\Bigr)$$"
      ]
    },
    {
      "cell_type": "markdown",
      "metadata": {
        "id": "ck8SRIm7v5gJ"
      },
      "source": [
        "## Задание 9*"
      ]
    },
    {
      "cell_type": "markdown",
      "metadata": {
        "id": "sxJsA3ldwN-H"
      },
      "source": [
        "Написать на python алгоритм, по вычислению значений $\\sin(x)$ для $х \\in[0, 30^0]$\n",
        "\n",
        "Для проверки подойдут данные из таблицы Брадиса"
      ]
    },
    {
      "cell_type": "markdown",
      "metadata": {
        "id": "J7w--5_zwswI"
      },
      "source": [
        "# Урок 6"
      ]
    },
    {
      "cell_type": "markdown",
      "metadata": {
        "id": "Ihm6ieuvwyAA"
      },
      "source": [
        "## Задание 1"
      ]
    },
    {
      "cell_type": "markdown",
      "metadata": {
        "id": "9Kc2eobCxRx2"
      },
      "source": [
        "Найти производную $y'_{x}$ функции:\n",
        "\n",
        "$$\\mbox{arctg}(\\frac{y}{x})=\\ln \\sqrt{x^2+y^2}$$"
      ]
    },
    {
      "cell_type": "code",
      "source": [
        "x,y=symbols('x y')\n",
        "f = atan(y / x) - ln(sqrt(x**2 + y**2))\n",
        "f"
      ],
      "metadata": {
        "colab": {
          "base_uri": "https://localhost:8080/",
          "height": 48
        },
        "id": "aw6vAexUgFCM",
        "outputId": "f65b37c3-9249-4071-b347-27b1b427b31e"
      },
      "execution_count": 21,
      "outputs": [
        {
          "output_type": "execute_result",
          "data": {
            "text/plain": [
              "     ⎛   _________⎞          \n",
              "     ⎜  ╱  2    2 ⎟       ⎛y⎞\n",
              "- log⎝╲╱  x  + y  ⎠ + atan⎜─⎟\n",
              "                          ⎝x⎠"
            ],
            "image/png": "[encoded data removed]",
            "text/latex": "$\\displaystyle - \\log{\\left(\\sqrt{x^{2} + y^{2}} \\right)} + \\operatorname{atan}{\\left(\\frac{y}{x} \\right)}$"
          },
          "metadata": {},
          "execution_count": 21
        }
      ]
    },
    {
      "cell_type": "code",
      "source": [
        "-diff(f, x) / diff(f, y)"
      ],
      "metadata": {
        "colab": {
          "base_uri": "https://localhost:8080/",
          "height": 83
        },
        "id": "JXwBXt3siuVO",
        "outputId": "666bfc66-76a7-446c-fb50-df199b35fe28"
      },
      "execution_count": 22,
      "outputs": [
        {
          "output_type": "execute_result",
          "data": {
            "text/plain": [
              "   x           y      \n",
              "─────── + ─────────── \n",
              " 2    2      ⎛     2⎞ \n",
              "x  + y     2 ⎜    y ⎟ \n",
              "          x ⋅⎜1 + ──⎟ \n",
              "             ⎜     2⎟ \n",
              "             ⎝    x ⎠ \n",
              "──────────────────────\n",
              "     y          1     \n",
              "- ─────── + ──────────\n",
              "   2    2     ⎛     2⎞\n",
              "  x  + y      ⎜    y ⎟\n",
              "            x⋅⎜1 + ──⎟\n",
              "              ⎜     2⎟\n",
              "              ⎝    x ⎠"
            ],
            "image/png": "[encoded data removed]",
            "text/latex": "$\\displaystyle \\frac{\\frac{x}{x^{2} + y^{2}} + \\frac{y}{x^{2} \\left(1 + \\frac{y^{2}}{x^{2}}\\right)}}{- \\frac{y}{x^{2} + y^{2}} + \\frac{1}{x \\left(1 + \\frac{y^{2}}{x^{2}}\\right)}}$"
          },
          "metadata": {},
          "execution_count": 22
        }
      ]
    },
    {
      "cell_type": "markdown",
      "source": [
        "Сократить на общий делитель $x^2$ затем сократить дробь на $x$\n",
        "\n",
        "$$\\frac{\\frac{x}{x^2+y^2}+\\frac{y}{x^2+y^2}}{\\frac{1}{\\frac{x^2+y^2}{x}}-\\frac{y}{x^2+y^2}}$$\n",
        "\n",
        "под один знаменатель и сокращаем дробь получаем:\n",
        "\n",
        "$$\\frac{x+y}{x-y}$$"
      ],
      "metadata": {
        "id": "6qE-oA3OmpKP"
      }
    },
    {
      "cell_type": "markdown",
      "metadata": {
        "id": "YWYwgp-uxBAs"
      },
      "source": [
        "## Задание 2"
      ]
    },
    {
      "cell_type": "markdown",
      "metadata": {
        "id": "9WpkHr5VxScG"
      },
      "source": [
        "Найти производную $y'_{x}$ функции:\n",
        "\n",
        " \\begin{cases}\n",
        "   y=\\frac{t^2}{t-1}, \\\\\n",
        "   x=\\frac{t}{t^2-1} \n",
        " \\end{cases}"
      ]
    },
    {
      "cell_type": "code",
      "source": [
        "from sympy import *\n",
        "init_printing()"
      ],
      "metadata": {
        "id": "6F87gx9plhkH"
      },
      "execution_count": 16,
      "outputs": []
    },
    {
      "cell_type": "code",
      "source": [
        "t=Symbol('t')\n",
        "y = t**2 / (t - 1)\n",
        "y"
      ],
      "metadata": {
        "colab": {
          "base_uri": "https://localhost:8080/",
          "height": 55
        },
        "id": "_F6-oaqQlkoQ",
        "outputId": "2731a8ab-7f35-4279-aa0b-062aca5686ed"
      },
      "execution_count": 23,
      "outputs": [
        {
          "output_type": "execute_result",
          "data": {
            "text/plain": [
              "   2 \n",
              "  t  \n",
              "─────\n",
              "t - 1"
            ],
            "image/png": "[encoded data removed]",
            "text/latex": "$\\displaystyle \\frac{t^{2}}{t - 1}$"
          },
          "metadata": {},
          "execution_count": 23
        }
      ]
    },
    {
      "cell_type": "code",
      "source": [
        "x = t / (t**2 - 1)\n",
        "x"
      ],
      "metadata": {
        "colab": {
          "base_uri": "https://localhost:8080/",
          "height": 52
        },
        "id": "me7MheIWl3DN",
        "outputId": "a94695c2-72e1-4f9a-8bb9-f62300ea23e4"
      },
      "execution_count": 24,
      "outputs": [
        {
          "output_type": "execute_result",
          "data": {
            "text/plain": [
              "  t   \n",
              "──────\n",
              " 2    \n",
              "t  - 1"
            ],
            "image/png": "[encoded data removed]",
            "text/latex": "$\\displaystyle \\frac{t}{t^{2} - 1}$"
          },
          "metadata": {},
          "execution_count": 24
        }
      ]
    },
    {
      "cell_type": "code",
      "source": [
        "diff(y, t) / diff(x, t)"
      ],
      "metadata": {
        "colab": {
          "base_uri": "https://localhost:8080/",
          "height": 74
        },
        "id": "m-Ppnk8EmCHT",
        "outputId": "dfa376f2-b8f9-461f-cf4a-3c0a8074206e"
      },
      "execution_count": 25,
      "outputs": [
        {
          "output_type": "execute_result",
          "data": {
            "text/plain": [
              "       2            \n",
              "      t        2⋅t  \n",
              " - ──────── + ───── \n",
              "          2   t - 1 \n",
              "   (t - 1)          \n",
              "────────────────────\n",
              "        2           \n",
              "     2⋅t        1   \n",
              "- ───────── + ──────\n",
              "          2    2    \n",
              "  ⎛ 2    ⎞    t  - 1\n",
              "  ⎝t  - 1⎠          "
            ],
            "image/png": "[encoded data removed]",
            "text/latex": "$\\displaystyle \\frac{- \\frac{t^{2}}{\\left(t - 1\\right)^{2}} + \\frac{2 t}{t - 1}}{- \\frac{2 t^{2}}{\\left(t^{2} - 1\\right)^{2}} + \\frac{1}{t^{2} - 1}}$"
          },
          "metadata": {},
          "execution_count": 25
        }
      ]
    },
    {
      "cell_type": "markdown",
      "source": [
        "Раскрываем скоки и приводим подобные члены, упрощаем выражение и получаем:\n",
        "\n",
        "$$\\frac{(t^2-2t)cdot((t-1)(t+1))^2}{(t-1)^2(-t^2-1)}$$\n",
        "\n",
        "Возводим числитель  в степень и сокращаем на общий делитель получаем:\n",
        "\n",
        "$$\\frac{(t^2-2t)(t+1)^2}{-t^2-1}$$\n",
        "\n",
        "Далее раскладываем на множетели и сокращаем дробь и приводим к подобным членам, получаем:\n",
        "\n",
        "$$-\\frac{t^4-3t^2-2t}{t^2-1}$$"
      ],
      "metadata": {
        "id": "_NfhaQRnqE8w"
      }
    },
    {
      "cell_type": "markdown",
      "metadata": {
        "id": "9sZ9mR-NxDD8"
      },
      "source": [
        "## Задание 3"
      ]
    },
    {
      "cell_type": "markdown",
      "metadata": {
        "id": "aJU5wD0qxTCY"
      },
      "source": [
        "Найти производную с помощью логарифмирования:\n",
        "\n",
        "$$y=(x^2+2)^5\\cdot(3x-x^3)^3$$"
      ]
    },
    {
      "cell_type": "code",
      "source": [
        "x=Symbol('x')\n",
        "y=(x**2 + 2)**5 * (3 * x - x**3)**3\n",
        "y"
      ],
      "metadata": {
        "colab": {
          "base_uri": "https://localhost:8080/",
          "height": 42
        },
        "id": "zCEKTm0ssxAU",
        "outputId": "5b1a8835-6da9-4e9d-f288-4a7699da414d"
      },
      "execution_count": 30,
      "outputs": [
        {
          "output_type": "execute_result",
          "data": {
            "text/plain": [
              "        5             3\n",
              "⎛ 2    ⎞  ⎛   3      ⎞ \n",
              "⎝x  + 2⎠ ⋅⎝- x  + 3⋅x⎠ "
            ],
            "image/png": "[encoded data removed]",
            "text/latex": "$\\displaystyle \\left(x^{2} + 2\\right)^{5} \\left(- x^{3} + 3 x\\right)^{3}$"
          },
          "metadata": {},
          "execution_count": 30
        }
      ]
    },
    {
      "cell_type": "code",
      "source": [
        "diff(y,x)\n"
      ],
      "metadata": {
        "colab": {
          "base_uri": "https://localhost:8080/",
          "height": 42
        },
        "id": "_9vWn6Mmtrey",
        "outputId": "22fe7953-ce18-4a6e-cdea-cff8739863ee"
      },
      "execution_count": 31,
      "outputs": [
        {
          "output_type": "execute_result",
          "data": {
            "text/plain": [
              "             4             3                      5             2\n",
              "     ⎛ 2    ⎞  ⎛   3      ⎞    ⎛       2⎞ ⎛ 2    ⎞  ⎛   3      ⎞ \n",
              "10⋅x⋅⎝x  + 2⎠ ⋅⎝- x  + 3⋅x⎠  + ⎝9 - 9⋅x ⎠⋅⎝x  + 2⎠ ⋅⎝- x  + 3⋅x⎠ "
            ],
            "image/png": "[encoded data removed]",
            "text/latex": "$\\displaystyle 10 x \\left(x^{2} + 2\\right)^{4} \\left(- x^{3} + 3 x\\right)^{3} + \\left(9 - 9 x^{2}\\right) \\left(x^{2} + 2\\right)^{5} \\left(- x^{3} + 3 x\\right)^{2}$"
          },
          "metadata": {},
          "execution_count": 31
        }
      ]
    },
    {
      "cell_type": "markdown",
      "metadata": {
        "id": "SbijR6_nxFfF"
      },
      "source": [
        "## Задание 4"
      ]
    },
    {
      "cell_type": "markdown",
      "metadata": {
        "id": "GzsvmPR9xToq"
      },
      "source": [
        "Найти производную функции с помощью логарифмирования:\n",
        "\n",
        "$$y=x^x$$"
      ]
    },
    {
      "cell_type": "code",
      "source": [
        "x=Symbol('x')\n",
        "y=x**x\n",
        "y"
      ],
      "metadata": {
        "colab": {
          "base_uri": "https://localhost:8080/",
          "height": 39
        },
        "id": "OVD3dMDju25J",
        "outputId": "ce42cb1c-27db-43fe-9a87-c69224a33c54"
      },
      "execution_count": 32,
      "outputs": [
        {
          "output_type": "execute_result",
          "data": {
            "text/plain": [
              " x\n",
              "x "
            ],
            "image/png": "[encoded data removed]",
            "text/latex": "$\\displaystyle x^{x}$"
          },
          "metadata": {},
          "execution_count": 32
        }
      ]
    },
    {
      "cell_type": "code",
      "source": [
        "diff(y,x)"
      ],
      "metadata": {
        "colab": {
          "base_uri": "https://localhost:8080/",
          "height": 39
        },
        "id": "7MVMPJ93u-qs",
        "outputId": "228d3631-ab5c-4cb9-b109-1365fc095773"
      },
      "execution_count": 33,
      "outputs": [
        {
          "output_type": "execute_result",
          "data": {
            "text/plain": [
              " x             \n",
              "x ⋅(log(x) + 1)"
            ],
            "image/png": "[encoded data removed]",
            "text/latex": "$\\displaystyle x^{x} \\left(\\log{\\left(x \\right)} + 1\\right)$"
          },
          "metadata": {},
          "execution_count": 33
        }
      ]
    },
    {
      "cell_type": "markdown",
      "metadata": {
        "id": "LdMC37S0xGvY"
      },
      "source": [
        "## Задание 5"
      ]
    },
    {
      "cell_type": "markdown",
      "metadata": {
        "id": "5HsF6i7-xUTw"
      },
      "source": [
        "Найти производную функции с помощью логарифмирования:\n",
        "\n",
        "$$y=\\frac{(2-x^2)^3\\cdot(x-1)^2}{(2x^3-3x)\\cdot e^x}$$"
      ]
    },
    {
      "cell_type": "code",
      "source": [
        "x=Symbol('x')\n",
        "y=((2 - x**2)**3 * (x - 1)**2) / ((2 * x**3 - 3 * x) * E**x)\n",
        "y"
      ],
      "metadata": {
        "colab": {
          "base_uri": "https://localhost:8080/",
          "height": 60
        },
        "id": "gPmLxyYF0WeU",
        "outputId": "01cab60f-d6be-4e55-c10f-9b1d3e468f25"
      },
      "execution_count": 36,
      "outputs": [
        {
          "output_type": "execute_result",
          "data": {
            "text/plain": [
              "        3             \n",
              "⎛     2⎞         2  -x\n",
              "⎝2 - x ⎠ ⋅(x - 1) ⋅ℯ  \n",
              "──────────────────────\n",
              "         3            \n",
              "      2⋅x  - 3⋅x      "
            ],
            "image/png": "[encoded data removed]",
            "text/latex": "$\\displaystyle \\frac{\\left(2 - x^{2}\\right)^{3} \\left(x - 1\\right)^{2} e^{- x}}{2 x^{3} - 3 x}$"
          },
          "metadata": {},
          "execution_count": 36
        }
      ]
    },
    {
      "cell_type": "code",
      "source": [
        "diff(y,x)"
      ],
      "metadata": {
        "colab": {
          "base_uri": "https://localhost:8080/",
          "height": 66
        },
        "id": "baOk7mnl2Hrh",
        "outputId": "7f6d64d0-3299-412d-8a30-d5c46cb685ce"
      },
      "execution_count": 37,
      "outputs": [
        {
          "output_type": "execute_result",
          "data": {
            "text/plain": [
              "              2                        3                                   3  \n",
              "      ⎛     2⎞         2  -x   ⎛     2⎞  ⎛       2⎞        2  -x   ⎛     2⎞   \n",
              "  6⋅x⋅⎝2 - x ⎠ ⋅(x - 1) ⋅ℯ     ⎝2 - x ⎠ ⋅⎝3 - 6⋅x ⎠⋅(x - 1) ⋅ℯ     ⎝2 - x ⎠ ⋅(\n",
              "- ────────────────────────── + ───────────────────────────────── - ───────────\n",
              "             3                                       2                      3 \n",
              "          2⋅x  - 3⋅x                     ⎛   3      ⎞                    2⋅x  \n",
              "                                         ⎝2⋅x  - 3⋅x⎠                         \n",
              "\n",
              "                      3              \n",
              "      2  -x   ⎛     2⎞             -x\n",
              "x - 1) ⋅ℯ     ⎝2 - x ⎠ ⋅(2⋅x - 2)⋅ℯ  \n",
              "─────────── + ───────────────────────\n",
              "                        3            \n",
              "- 3⋅x                2⋅x  - 3⋅x      \n",
              "                                     "
            ],
            "image/png": "[encoded data removed]",
            "text/latex": "$\\displaystyle - \\frac{6 x \\left(2 - x^{2}\\right)^{2} \\left(x - 1\\right)^{2} e^{- x}}{2 x^{3} - 3 x} + \\frac{\\left(2 - x^{2}\\right)^{3} \\left(3 - 6 x^{2}\\right) \\left(x - 1\\right)^{2} e^{- x}}{\\left(2 x^{3} - 3 x\\right)^{2}} - \\frac{\\left(2 - x^{2}\\right)^{3} \\left(x - 1\\right)^{2} e^{- x}}{2 x^{3} - 3 x} + \\frac{\\left(2 - x^{2}\\right)^{3} \\left(2 x - 2\\right) e^{- x}}{2 x^{3} - 3 x}$"
          },
          "metadata": {},
          "execution_count": 37
        }
      ]
    },
    {
      "cell_type": "markdown",
      "metadata": {
        "id": "BHrxT4a_xHXQ"
      },
      "source": [
        "## Задание 6*"
      ]
    },
    {
      "cell_type": "markdown",
      "metadata": {
        "id": "qUEXJJohxU4A"
      },
      "source": [
        "Вывести табличное значение производной для функции\n",
        "\n",
        "$$\\mbox{arctg}(x)$$"
      ]
    },
    {
      "cell_type": "markdown",
      "metadata": {
        "id": "R4ZRUrhOxNJE"
      },
      "source": [
        "## Задание 7"
      ]
    },
    {
      "cell_type": "markdown",
      "metadata": {
        "id": "tR-MAd5zxVaa"
      },
      "source": [
        "Найти длину $𝑥$ и ширину $𝑦$ прямоугольника при заданном периметре $𝑃=144$ cм, при которых данный прямоугольник имеет наибольшую площадь $𝑆$."
      ]
    },
    {
      "cell_type": "markdown",
      "source": [
        "Наибольшая площадь прямоугольника достигается при равных сторонах т. е. квадрата. Так как у нас четное число $P$ = 144 а $x$ и $y$ равны по условию.\n",
        "Можем найти сторону квадрата 144/4=36см\n",
        "Ответ x и y равны 36 см"
      ],
      "metadata": {
        "id": "5VrgUQqI435D"
      }
    },
    {
      "cell_type": "markdown",
      "metadata": {
        "id": "zCbW0RVWxNk9"
      },
      "source": [
        "## Задание 8*"
      ]
    },
    {
      "cell_type": "markdown",
      "metadata": {
        "id": "NzYdshUpxWAl"
      },
      "source": [
        "Завод $A$ отстоит от железной дороги, идущей с юга на север и проходящей через $B$, считая по кратчайшему расстоянию на $a$ км. Под каким углом $\\alpha$ к железной дороге следует ппостроить подъезной  путь от завода, чтобы транспортировка грузов из $A$ в $B$ была наиболее экономичной, если стоимость провоза тонны груза на расстоянии $1$ км составляет: по подъезному пути $p$ рублей, по железной дороге $q$ рублей $(p>q)$ и город $B$ расположен на $b$ км севернее завода $A$."
      ]
    }
  ],
  "metadata": {
    "colab": {
      "name": "Homework.ipynb",
      "toc_visible": true,
      "provenance": [],
      "authorship_tag": "ABX9TyMkMan7noiLvaXfAYw1NMHa",
      "include_colab_link": true
    },
    "kernelspec": {
      "display_name": "Python 3",
      "name": "python3"
    },
    "language_info": {
      "name": "python"
    }
  },
  "nbformat": 4,
  "nbformat_minor": 0
}