{
  "cells": [
    {
      "cell_type": "markdown",
      "metadata": {
        "id": "view-in-github",
        "colab_type": "text"
      },
      "source": [
        "<a href=\"https://colab.research.google.com/github/vit050587/Mathematical-analysis/blob/master/Homework.ipynb\" target=\"_parent\"><img src=\"https://colab.research.google.com/assets/colab-badge.svg\" alt=\"Open In Colab\"/></a>"
      ]
    },
    {
      "cell_type": "markdown",
      "metadata": {
        "id": "U56gYyF7EZ7B"
      },
      "source": [
        "# Урок 2"
      ]
    },
    {
      "cell_type": "markdown",
      "metadata": {
        "id": "4-gqu03pErzx"
      },
      "source": [
        "## Задание 1"
      ]
    },
    {
      "cell_type": "markdown",
      "metadata": {
        "id": "Hw73EM5IFH5R"
      },
      "source": [
        "__1.__ Представьте в виде __несократимой__ обыкновенной дроби:\n",
        "\n",
        "$$а)\\,\\,\\, 0.(216);$$\n",
        "\n",
        "$$б)\\,\\,\\, 1.0(01).$$"
      ]
    },
    {
      "cell_type": "markdown",
      "metadata": {
        "id": "ytJg2P98d-O6"
      },
      "source": [
        "$$а)\\,\\,\\, 0.(216);$$\n",
        "$$a=0.(216)$$\n",
        "\n",
        "$$1000a=216.(216)$$\n",
        "\n",
        "$$1000a=216+0.(216)$$\n",
        "\n",
        "$$1000a=216+a$$\n",
        "\n",
        "$$999a=216$$\n",
        "\n",
        "$$a=\\frac{216}{999}$$\n",
        "\n",
        "$$0.(216)=\\frac{216}{999}$$\n",
        "\n",
        "***\n",
        "$$a=1.0(01)$$\n",
        "\n",
        "$$10a=10.(01)$$\n",
        "\n",
        "$$10a=10+0.(01)$$\n",
        "\n",
        "$$0.(01)=\\frac{1}{99}$$\n",
        "\n",
        "$$10a=10+\\frac{1}{99}=\\frac{990}{99}+\\frac{1}{99}=\\frac{1000}{99}$$\n",
        "\n",
        "$$a=\\frac{1000}{990}=\\frac{100}{99}$$\n"
      ]
    },
    {
      "cell_type": "markdown",
      "metadata": {
        "id": "rUXHjv-GE064"
      },
      "source": [
        "## Задание 2"
      ]
    },
    {
      "cell_type": "markdown",
      "metadata": {
        "id": "uDE4ogSfFNWa"
      },
      "source": [
        "__2*.__ Пусть $x =\\frac{2}{21}$. Известно, что для некоторого натурального $k$ число $x$ записывается в $k$ - ичной системе счисления как $0.(13)_k = 0, 131313..._k$. Найдите $k$."
      ]
    },
    {
      "cell_type": "markdown",
      "metadata": {
        "id": "_86UYddvE2mo"
      },
      "source": [
        "## Задание 3"
      ]
    },
    {
      "cell_type": "markdown",
      "metadata": {
        "id": "bucpJUmdFT7J"
      },
      "source": [
        "__3.__ Проверьте любым способ, является ли данные логические формулы тавтологией:\n",
        "\n",
        "$$a)\\,\\,\\, (A \\vee B) \\rightarrow (B \\vee\\overline A)$$\n",
        "$$б)\\,\\,\\, A \\rightarrow (A \\vee (\\overline B \\wedge A))$$"
      ]
    },
    {
      "cell_type": "markdown",
      "metadata": {
        "id": "H9e-rnpjib4k"
      },
      "source": [
        "\n",
        " <table>\n",
        "<thead>\n",
        "<tr><th>$A$</th><th>$B$</th><th>$(A\\vee B)$</th><th>$(B\\vee \\overline A)$</th>\n",
        "</thead>\n",
        "<tbody>\n",
        "    <tr><td>$1$</td><td>$0$</td><td>$1$</td><td>$0$</td></tr>\n",
        "    <tr><td>$0$</td><td>$1$</td><td>$1$</td><td>$1$</td></tr>\n",
        "    <tr><td>$1$</td><td>$1$</td><td>$1$</td><td>$1$</td></tr>\n",
        "    <tr><td>$0$</td><td>$0$</td><td>$0$</td><td>$1$</td></tr>\n",
        "\n",
        "\n",
        "</tbody>\n",
        "</table>\n",
        "\n",
        " <table>\n",
        "<thead>\n",
        "<tr><th>$A$</th><th>$B$</th><th>$(\\overline B\\wedge A)$</th><th>$(A\\vee 1)$</th>\n",
        "</thead>\n",
        "<tbody>\n",
        "    <tr><td>$1$</td><td>$0$</td><td>$1$</td><td>$1$</td></tr>\n",
        "    <tr><td>$0$</td><td>$1$</td><td>$0$</td><td>$1$</td></tr>\n",
        "    <tr><td>$1$</td><td>$1$</td><td>$0$</td><td>$1$</td></tr>\n",
        "    <tr><td>$0$</td><td>$0$</td><td>$0$</td><td>$0$</td></tr>\n",
        "\n",
        "\n",
        "</tbody>\n",
        "</table>\n",
        "\n",
        "Итог: Тавтологиями не являются обе формулы!"
      ]
    },
    {
      "cell_type": "markdown",
      "metadata": {
        "id": "GUIWJkheE5Vi"
      },
      "source": [
        "## Задание 4"
      ]
    },
    {
      "cell_type": "markdown",
      "metadata": {
        "id": "F2hn7yyNND7g"
      },
      "source": [
        "__4.__ Сформулируйте словесно высказывания:\n",
        "$$a)\\,\\,\\, (\\overline A \\vee B) \\rightarrow \\overline C$$\n",
        "$$б)\\,\\,\\, C \\rightarrow (A \\vee \\overline B)$$\n",
        "\n",
        "- $A:\\,\\,\\,$ сегодня светит солнце; \n",
        "- $B:\\,\\,\\,$ сегодня сыро; \n",
        "- $C:\\,\\,\\,$ я поеду на дачу. "
      ]
    },
    {
      "cell_type": "markdown",
      "metadata": {
        "id": "8FFolxnVncLh"
      },
      "source": [
        "a) **Если** сегодня **не** светит солнце **или** сыро, **то** я **не** поеду на дачу.\n",
        "б) **Если** я поехал на дачу, **то** сегодня светит солнце **или не** сыро."
      ]
    },
    {
      "cell_type": "markdown",
      "metadata": {
        "id": "H4NKavpFE72a"
      },
      "source": [
        "## Задание 5"
      ]
    },
    {
      "cell_type": "markdown",
      "metadata": {
        "id": "klTLrUC2NFa_"
      },
      "source": [
        "__5.__  Пользуясь правилом построения противоположного высказывания, запишите утверждения, противоположные следующим:\n",
        "\n",
        "a) На любом курсе каждого факультета есть студенты, сдающие все экзамены на «отлично».\n",
        "\n",
        "б) В любом самолете на рейсе Вашингтон-Москва присутствует хотя бы один сотрудник силовых органов, в каждой пуговице одежды которого вмонтирован микрофон."
      ]
    },
    {
      "cell_type": "markdown",
      "metadata": {
        "id": "Qo9woa2ho0OW"
      },
      "source": [
        "$\\exists$  $\\forall$\n",
        "На $\\forall$ курсе $\\forall$ факультета есть $\\exists$ студенты, сдающие $\\forall$ экзамены на «отлично».\n",
        "\n",
        "На $\\exists$ **(определенных)** курсах $\\exists$ **(некоторых)** факультетах $\\forall$ **(все)** студенты **не сдают** $\\exists$ **(некоторые)** экзамены на \"отлично\".\n",
        "***\n",
        "В $\\forall$ самолете на $\\exists$ рейсе Вашингтон-Москва присутствует $\\exists$ сотрудник силовых органов, в $\\forall$ пуговице одежды которого вмонтирован микрофон.\n",
        "\n",
        "В $\\exists$ **(только)** самолете на $\\forall$ **(всех)** рейсах Вашингтон-Москва присутствуют $\\forall$ сотрудники силовых органов, в $\\exists$ **(одной)**  пуговице одежды которых вмонтирован микрофон."
      ]
    },
    {
      "cell_type": "markdown",
      "metadata": {
        "id": "RkZyeJsGFCAI"
      },
      "source": [
        "## Задание 6*"
      ]
    },
    {
      "cell_type": "markdown",
      "metadata": {
        "id": "y4EHwo0JNUog"
      },
      "source": [
        "__6*.__ Прочитайте высказывания, установите их истинность и постройте противоположное высказывание:\n",
        "\n",
        "$$a)\\,\\,\\, \\forall x\\in\\mathbb{R}\\,\\,\\,\\exists X\\in\\mathbb{R}:\\,\\,\\, X>x;$$\n",
        "$$б)\\,\\,\\, \\forall y\\in\\Bigl[0; \\frac{\\pi}{2}\\Bigr]\\,\\,\\,\\exists \\varepsilon>0:\\,\\,\\, \\sin y<\\sin(y+\\varepsilon);$$\n",
        "$$в)\\,\\,\\, \\forall y\\in\\Bigl[0; \\pi\\Bigr)\\,\\,\\,\\exists \\varepsilon>0:\\,\\,\\, \\cos y>\\cos(y+\\varepsilon).$$"
      ]
    },
    {
      "cell_type": "markdown",
      "metadata": {
        "id": "tgu_IYqVVNBW"
      },
      "source": [
        "# Урок 3"
      ]
    },
    {
      "cell_type": "code",
      "execution_count": 141,
      "metadata": {
        "id": "gIMAgU7HW3D6"
      },
      "outputs": [],
      "source": [
        "import math\n",
        "from sympy import *"
      ]
    },
    {
      "cell_type": "markdown",
      "metadata": {
        "id": "P6Tga0plVRCF"
      },
      "source": [
        "## Задание 1"
      ]
    },
    {
      "cell_type": "markdown",
      "metadata": {
        "id": "BXC1BjIrVpaK"
      },
      "source": [
        "Найти предел последовательности:\n",
        "\n",
        "$$а)\\,\\,\\,\\,\\lim_{n\\to \\infty} \\frac{(23-2n^2)(3n^2+17)^2}{4n^6+n-1}$$\n",
        "\n",
        "$$б)\\,\\,\\,\\,\\lim_{n\\to \\infty} \\frac{(97-2n)^3}{2n(3n^2+15)+8n}$$\n",
        "\n",
        "$$в)\\,\\,\\,\\,\\lim_{n\\to \\infty} \\frac{2n^3+13n(n+18)}{(27-n)(2n+19)^2}$$\n",
        "\n",
        "$$г)\\,\\,\\,\\,\\lim_{n\\to \\infty} (\\sqrt{n^2+1}-n)$$\n",
        "\n",
        "$$д)\\,\\,\\,\\,\\lim_{n\\to \\infty} \\frac{(-4)^n+5\\cdot7^n}{(-4)^{n-1}+7^{n+2}}$$\n",
        "\n",
        "$$e)^*\\,\\,\\,\\,\\lim_{n\\to \\infty} \\Bigl(\\frac{1}{1\\cdot2}+\\frac{1}{2\\cdot3}+\\frac{1}{3\\cdot4}+...+\\frac{1}{(n-1)\\cdot n}\\Bigr)$$"
      ]
    },
    {
      "cell_type": "markdown",
      "metadata": {
        "id": "42u9F9ArmFTD"
      },
      "source": [
        "$$а)\\,\\,\\,\\,\\lim_{n\\to \\infty} \\frac{(23-2n^2)(3n^2+17)^2}{4n^6+n-1}$$\n",
        "Предел числителя\n",
        "$$\\,\\,\\,\\,\\lim_{n\\to \\infty} {(23-2n^2)(3n^2+17)^2}$$\n",
        "$$\\,\\,\\,\\,\\lim_{n\\to \\infty} {(23-2n^2)(9n^4+102n^2+289)}$$\n",
        "$$\\,\\,\\,\\,\\lim_{n\\to \\infty} {(207n^4+2346n^2+6647-18n^6-204n^4-578n^2)}$$\n",
        "$$\\,\\,\\,\\,\\lim_{n\\to \\infty} {(207n^4+2346n^2+6647-18n^6-204n^4-578n^2)}$$\n",
        "$$\\,\\,\\,\\,\\lim_{n\\to \\infty} {(3n^4+1768n^2+6647-18n^6)}$$\n",
        "$$\\,\\,\\,\\,\\lim_{n\\to \\infty} {(-18n^6+3n^4+1768n^2+6647)}$$\n",
        "старший коэфициент $${-\\infty}$$\n",
        "Предел знаменателя\n",
        "$$\\,\\,\\,\\,\\lim_{n\\to \\infty} {4n^6+n-1}$$\n",
        "старший коэфициент $${+\\infty}$$\n",
        "$$=\\Bigl(\\frac{\\infty}{\\infty}\\Bigr)$$\n",
        "$$а)\\,\\,\\,\\,\\lim_{n\\to \\infty} \\frac{-18n^6+3n^4+1768n^2+6647}{4n^6+n-1}$$\n",
        "Выносим $${n^6}$$ в числителе и знаменателе и сокращаем дробь\n",
        "$$\\lim_{n\\to \\infty} \\frac{6n^6(\\frac{3}{n^2}+\\frac{1768}{n^4}+\\frac{6647}{n^6}-18)}{n^6(4+\\frac{1}{n^5}-\\frac{1}{n^6})}$$\n",
        "$${-\\frac{9}{2}}=-4.5$$\n",
        "***\n",
        "$$б)\\,\\,\\,\\,\\lim_{n\\to \\infty} \\frac{(97-2n)^3}{2n(3n^2+15)+8n}$$\n",
        "...\n",
        "$${-\\frac{4}{3}}={-1\\frac{1}{3}}$$\n",
        "***\n",
        "$$в)\\,\\,\\,\\,\\lim_{n\\to \\infty} \\frac{2n^3+13n(n+18)}{(27-n)(2n+19)^2}$$\n",
        "...\n",
        "$${-\\frac{1}{2}}=-0.5$$\n",
        "***\n",
        "$$г)\\,\\,\\,\\,\\lim_{n\\to \\infty} (\\sqrt{n^2+1}-n)$$\n",
        "... \n",
        "$$0$$\n",
        "***\n",
        "$$д)\\,\\,\\,\\,\\lim_{n\\to \\infty} \\frac{(-4)^n+5\\cdot7^n}{(-4)^{n-1}+7^{n+2}}$$\n",
        "...\n",
        "***\n",
        "$$e)^*\\,\\,\\,\\,\\lim_{n\\to \\infty} \\Bigl(\\frac{1}{1\\cdot2}+\\frac{1}{2\\cdot3}+\\frac{1}{3\\cdot4}+...+\\frac{1}{(n-1)\\cdot n}\\Bigr)$$\n",
        "...\n"
      ]
    },
    {
      "cell_type": "markdown",
      "metadata": {
        "id": "HUvYqDmnVd4U"
      },
      "source": [
        "## Задание 2"
      ]
    },
    {
      "cell_type": "markdown",
      "metadata": {
        "id": "W-hWpiR7V0y_"
      },
      "source": [
        "Представьте $1$ в виде суммы трех обыкновенных дробей с разными знаменателями и числителем равным $1$."
      ]
    },
    {
      "cell_type": "markdown",
      "metadata": {
        "id": "bYIJXDoysivu"
      },
      "source": [
        "$$\\frac{1}{2}+\\frac{1}{3}+\\frac{1}{6}=1$$"
      ]
    },
    {
      "cell_type": "markdown",
      "metadata": {
        "id": "W3KS6W6eVf_p"
      },
      "source": [
        "## Задание 3*"
      ]
    },
    {
      "cell_type": "markdown",
      "metadata": {
        "id": "SmsDKKUkWC0a"
      },
      "source": [
        "Тоже задание, только в виде суммы шести дробей."
      ]
    },
    {
      "cell_type": "markdown",
      "metadata": {
        "id": "hk1bGgxFeDK8"
      },
      "source": [
        "$$\\frac{1}{3}+\\frac{1}{6}+\\frac{1}{4}+\\frac{1}{12}+\\frac{1}{8}+\\frac{1}{24}=1$$"
      ]
    },
    {
      "cell_type": "markdown",
      "metadata": {
        "id": "b6k2VK-3WEdh"
      },
      "source": [
        "## Задание 4"
      ]
    },
    {
      "cell_type": "markdown",
      "metadata": {
        "id": "ZKWXrvu8WRMn"
      },
      "source": [
        "Пользуясь критерием Коши, докажите сходимость последовательности:\n",
        "\n",
        "$$a_n=\\frac{\\sin1}{2}+\\frac{\\sin2}{2^2}+\\frac{\\sin3}{2^3}+..\\frac{\\sin n}{2^n}\\,\\,\\,\\,\\,\\Rightarrow$$\n",
        "\n",
        "$$\\Bigl\\{a_n\\Bigr\\}_{n=1}^\\infty=\\Bigl\\{\\frac{\\sin1}{2}, \\frac{\\sin1}{2}+\\frac{\\sin2}{2^2}, ..., a_n,...\\Bigr\\}$$\n",
        "\n",
        "\n",
        "$^*$ Какой член последовательности можно взять в качестве предела с точностью $\\varepsilon=10^{-7}$?"
      ]
    },
    {
      "cell_type": "markdown",
      "metadata": {
        "id": "DGUJ3nU0WIQ4"
      },
      "source": [
        "## Задание 5"
      ]
    },
    {
      "cell_type": "markdown",
      "metadata": {
        "id": "l6xaQgjwWYgD"
      },
      "source": [
        "Пользуясь критерием Коши, докажите расходимость последовательности:\n",
        "\n",
        "$$b_n=1+\\frac{1}{2}+\\frac{1}{3}+..\\frac{1}{n}\\,\\,\\,\\,\\,\\Rightarrow$$\n",
        "\n",
        "$$\\Bigl\\{b_n\\Bigr\\}_{n=1}^\\infty=\\Bigl\\{1, 1+\\frac{1}{2},1+\\frac{1}{2}+\\frac{1}{3}, ..., b_n,...\\Bigr\\}$$"
      ]
    },
    {
      "cell_type": "markdown",
      "metadata": {
        "id": "R1-gJKMpZ0zh"
      },
      "source": [
        "# Урок 4"
      ]
    },
    {
      "cell_type": "markdown",
      "metadata": {
        "id": "GD0mb1srZ5Pk"
      },
      "source": [
        "## Задание 1"
      ]
    },
    {
      "cell_type": "markdown",
      "metadata": {
        "id": "piPmJ8xYaI4w"
      },
      "source": [
        " Найти предел функции:\n",
        "\n",
        "$$а)\\,\\,\\,\\,\\lim_{x\\to 6} \\frac{x^2-36}{x^2-x-30}$$\n",
        "\n",
        "$$б)\\,\\,\\,\\,\\lim_{x\\to 7} \\frac{x^2-49}{x^2-13x+42}$$\n",
        "\n",
        "$$в^*)\\,\\,\\,\\,\\lim_{x\\to 7} \\frac{\\sqrt{x+2}-\\sqrt[3]{x+20}}{\\sqrt[4]{x+9}-2}$$\n",
        "\n",
        "$$г)\\,\\,\\,\\,\\lim_{x\\to 0} \\frac{3x\\,\\mbox{tg}\\,4x}{1-\\cos4x}$$\n",
        "\n",
        "$$д^{**})\\,\\,\\,\\,\\lim_{x\\to 0} \\frac{\\sqrt2x^2\\sin4x}{(1-\\cos2x)^{\\frac{3}{2}}}$$\n",
        "\n",
        "$$е)\\,\\,\\,\\,\\lim_{x\\to \\infty} \\Bigr(\\frac{4x}{4x+3}\\Bigl)^\\frac{5x^2}{7x-1}$$\n",
        "\n",
        "$$ж^*)\\,\\,\\,\\,\\lim_{x\\to +0} \\frac{5^x-1}{x}$$\n",
        "\n",
        "$$з^*)\\,\\,\\,\\,\\lim_{x\\to +\\infty} \\frac{\\ln(x^2-x+1)}{\\ln(x^{10}+x+1)}$$"
      ]
    },
    {
      "cell_type": "markdown",
      "metadata": {
        "id": "58JX2vcH1j8H"
      },
      "source": [
        "$$а)\\,\\,\\,\\,\\lim_{x\\to 6} \\frac{x^2-36}{x^2-x-30}$$\n",
        "Решение:\n",
        "\n"
      ]
    },
    {
      "cell_type": "markdown",
      "metadata": {
        "id": "U35iQAznbDJH"
      },
      "source": [
        "$$а)\\,\\,\\,\\,\\lim_{x\\to 6} \\frac{x^2-36}{x^2-x-30}$$\n",
        "Выражение является неопределенностью \n",
        "$$\\frac{0}{0}$$\n",
        "раскладываем на множетели\n",
        "$$\\,\\,\\,\\,\\lim_{x\\to 6} \\frac{(x-6)(x+6)}{x^2-x-30}$$\n",
        "$$\\,\\,\\,\\,\\lim_{x\\to 6} \\frac{(x-6)(x+6)}{x^2+5x-6x-30}$$\n",
        "$$\\,\\,\\,\\,\\lim_{x\\to 6}\\frac{(x-6)(x+6)}{x(x+5)-6(x+5)}$$\n",
        "$$\\,\\,\\,\\,\\lim_{x\\to 6}\\frac{(x-6)(x+6)}{(x+5)(x-6)}$$\n",
        "Сокращаем дробь\n",
        "$$\\,\\,\\,\\,\\lim_{x\\to 6}\\frac{x+6}{x+5}$$\n",
        "Вычисляем предел\n",
        "$$\\,\\,\\,\\,\\lim_{x\\to 6}\\frac{6+6}{6+5}=\\frac{12}{11}=1\\frac{1}{11}$$\n",
        "***\n",
        "$$б)\\,\\,\\,\\,\\lim_{x\\to 7} \\frac{x^2-49}{x^2-13x+42}$$\n",
        "...\n",
        "$$\\frac{0}{0}$$\n",
        "Раскладываем на множетели и сокращаем дробь\n",
        "$$\\,\\,\\,\\,\\lim_{x\\to 7}\\frac{x+7}{x-6}$$\n",
        "Вычисляем предел\n",
        "$${14}$$\n",
        "***\n",
        "$$в^*)\\,\\,\\,\\,\\lim_{x\\to 7} \\frac{\\sqrt{x+2}-\\sqrt[3]{x+20}}{\\sqrt[4]{x+9}-2}$$\n",
        "***\n",
        "$$г)\\,\\,\\,\\,\\lim_{x\\to 0} \\frac{3x\\,\\mbox{tg}\\,4x}{1-\\cos4x}$$\n",
        "Форма предела неопределенная используем правило Лопиталя\n",
        "$$\\lim_{x\\to 0} \\frac{\\frac{d}{dx}(3x\\mbox{tg}4x)}{\\frac{d}{dx}(1-\\cos4x)}$$\n",
        "...\n",
        "$$\\,\\,\\,\\,\\lim_{x\\to 0} \\frac{3x\\,\\sin4x+24}{8\\cos(4x)^2 \\sin4x}$$\n",
        "Вычисление предела \n",
        "$$\\,\\,\\,\\,\\,\\frac{3\\sin(8*0)+3}{4(-2\\cos(4*0)\\sin(4*0)^2 +\\cos(4*0)^3}$$\n",
        "$$\\,\\,\\,\\,\\frac{3}{2}= 1\\frac{1}{2}={1.5}$$\n",
        "***\n",
        "$$д^{**})\\,\\,\\,\\,\\lim_{x\\to 0} \\frac{\\sqrt2x^2\\sin4x}{(1-\\cos2x)^{\\frac{3}{2}}}$$\n",
        "***\n",
        "$$е)\\,\\,\\,\\,\\lim_{x\\to \\infty} \\Bigr(\\frac{4x}{4x+3}\\Bigl)^\\frac{5x^2}{7x-1}$$\n",
        "$$=e^{\\lim_{x\\to \\infty} \\Bigr(\\frac{4x}{4x+3}-1\\Bigl)\\cdot\\frac{5x^2}{7x-1}}=$$\n",
        "$$=e^{\\lim_{x\\to \\infty} \\frac{-3}{4x+3}\\cdot\\frac{5x^2}{7x-1}}=$$\n",
        "$$=e^{\\frac{-3\\cdot5}{4\\cdot7}}=e^{-\\frac{15}{28}}$$\n",
        "***\n",
        "$$ж^*)\\,\\,\\,\\,\\lim_{x\\to +0} \\frac{5^x-1}{x}$$\n",
        "...\n",
        "$${\\ln(5)}$$\n",
        "***\n",
        "$$з^*)\\,\\,\\,\\,\\lim_{x\\to +\\infty} \\frac{\\ln(x^2-x+1)}{\\ln(x^{10}+x+1)}$$\n",
        "Выражение является неопределенностью \n",
        "$$\\frac{\\infty}{\\infty}$$\n",
        "Сокращение дроби\n",
        "$$\\lim_{x\\to +\\infty} \\frac{\\ln(x^2)+\\ln(1-\\frac{1}{x}+\\frac{1}{x^2})}{\\ln(x^{10})+\\ln(1+\\frac{1}{x^9}+\\frac{1}{x^{10}})}$$\n",
        "\n",
        "$$\\,\\,\\,\\,\\lim_{x\\to +\\infty} =\\frac{2\\ln(\\infty)}{10\\ln(\\infty)}$$\n",
        "$$\\,\\,\\,\\,\\lim_{x\\to +\\infty} =\\frac{2}{10}=\\frac{1}{5}$$\n",
        "\n",
        "\n",
        "\n",
        "\n"
      ]
    },
    {
      "cell_type": "markdown",
      "metadata": {
        "id": "hjHpqHFIZ7g0"
      },
      "source": [
        "## Задание 2*"
      ]
    },
    {
      "cell_type": "markdown",
      "metadata": {
        "id": "-3EfcnCgaQgj"
      },
      "source": [
        " На языке Python предложить алгоритм вычисляющий численно предел последовательности\n",
        "\n",
        "$$\\lim_{n\\to +\\infty} \\frac{n}{\\sqrt[n]{n!}}$$"
      ]
    },
    {
      "cell_type": "code",
      "execution_count": 142,
      "metadata": {
        "id": "rboTJWc8OpE3"
      },
      "outputs": [],
      "source": [
        "from math import lgamma  #lgamma(n) = ln((n-1)!)\n",
        "import numpy as np\n",
        "import math\n",
        "from decimal import Decimal\n",
        "import time"
      ]
    },
    {
      "cell_type": "code",
      "execution_count": 143,
      "metadata": {
        "colab": {
          "base_uri": "https://localhost:8080/"
        },
        "id": "z3OW4FNBO1rp",
        "outputId": "9e2fd100-49af-4c6a-e84b-0c4bc1b4317b"
      },
      "outputs": [
        {
          "output_type": "stream",
          "name": "stdout",
          "text": [
            "2.684030488771894142063369175 0.000099697432711786705996101 297\n",
            "4.0343663692474365 seconds\n"
          ]
        }
      ],
      "source": [
        "start_time = time.time()\n",
        "\n",
        "def f(n):\n",
        "    b = math.factorial(n)\n",
        "    a = n / b**(1 / n)\n",
        "    return a\n",
        "\n",
        "acc = 0.0001\n",
        "i=Decimal(2)\n",
        "\n",
        "while(abs(f(i) - f(i-1))) > acc:\n",
        "    i +=1\n",
        "print(f(i), abs(f(i)-f(i-1)), i)\n",
        "print(\"%s seconds\" % (time.time() - start_time))"
      ]
    },
    {
      "cell_type": "markdown",
      "metadata": {
        "id": "lottVugivZeV"
      },
      "source": [
        "# Урок 5"
      ]
    },
    {
      "cell_type": "markdown",
      "metadata": {
        "id": "vN3dxtI2vf4Z"
      },
      "source": [
        "## Задание 1"
      ]
    },
    {
      "cell_type": "code",
      "execution_count": 144,
      "metadata": {
        "id": "TgtN02MzTMdV"
      },
      "outputs": [],
      "source": [
        "from sympy import *\n",
        "init_printing()"
      ]
    },
    {
      "cell_type": "markdown",
      "metadata": {
        "id": "L8QnT7zdv_tT"
      },
      "source": [
        "Найти производную функции:\n",
        "\n",
        "$$y=\\frac{1}{x}+\\frac{2}{x^2}-\\frac{5}{x^3}+\\sqrt x -\\sqrt[3]x+\\frac{3}{\\sqrt x}$$"
      ]
    },
    {
      "cell_type": "code",
      "execution_count": 145,
      "metadata": {
        "colab": {
          "base_uri": "https://localhost:8080/",
          "height": 0
        },
        "id": "NVSOih0UWQnT",
        "outputId": "06b34686-24d8-4c4a-f3bb-c899788cc8fb"
      },
      "outputs": [
        {
          "output_type": "execute_result",
          "data": {
            "text/plain": [
              "  3⋅√x   1    4    15    1       3   \n",
              "- ──── - ── - ── + ── + ──── - ──────\n",
              "   2      2    3    4   2⋅√x      3/2\n",
              "         x    x    x           2⋅x   "
            ],
            "image/png": "[encoded data removed]",
            "text/latex": "$\\displaystyle - \\frac{3 \\sqrt{x}}{2} - \\frac{1}{x^{2}} - \\frac{4}{x^{3}} + \\frac{15}{x^{4}} + \\frac{1}{2 \\sqrt{x}} - \\frac{3}{2 x^{\\frac{3}{2}}}$"
          },
          "metadata": {},
          "execution_count": 145
        }
      ],
      "source": [
        "x = Symbol('x')\n",
        "#y = 1 / x + 2 / x**2 - 5 / x**3 + sqrt(x) - x**(1/3) + 3 / sqrt(x)\n",
        "y = 1 / x + 2 / x**2 - 5 / x**3 + sqrt(x) - sqrt(x)**3 + 3 / sqrt(x)\n",
        "diff(y, x)"
      ]
    },
    {
      "cell_type": "markdown",
      "metadata": {
        "id": "aPz4HVszvoUH"
      },
      "source": [
        "## Задание 2"
      ]
    },
    {
      "cell_type": "markdown",
      "metadata": {
        "id": "QVQDQRilwG4q"
      },
      "source": [
        "Найти производную функции:\n",
        "\n",
        "$$y=x \\cdot \\sqrt {1+x^2}$$"
      ]
    },
    {
      "cell_type": "code",
      "execution_count": 146,
      "metadata": {
        "colab": {
          "base_uri": "https://localhost:8080/",
          "height": 0
        },
        "id": "k5hHZegDTYe8",
        "outputId": "ead0396e-97db-4316-ed9e-ee612eef32b3"
      },
      "outputs": [
        {
          "output_type": "execute_result",
          "data": {
            "text/plain": [
              "      2          ________\n",
              "     x          ╱  2     \n",
              "─────────── + ╲╱  x  + 1 \n",
              "   ________              \n",
              "  ╱  2                   \n",
              "╲╱  x  + 1               "
            ],
            "image/png": "[encoded data removed]",
            "text/latex": "$\\displaystyle \\frac{x^{2}}{\\sqrt{x^{2} + 1}} + \\sqrt{x^{2} + 1}$"
          },
          "metadata": {},
          "execution_count": 146
        }
      ],
      "source": [
        "x = Symbol('x')\n",
        "y = x * sqrt(1 + x**2)\n",
        "diff(y, x)"
      ]
    },
    {
      "cell_type": "markdown",
      "metadata": {
        "id": "MB3Sk6rVvqIu"
      },
      "source": [
        "## Задание 3"
      ]
    },
    {
      "cell_type": "markdown",
      "metadata": {
        "id": "dQQ7hMTAwJUG"
      },
      "source": [
        "Найти производную функции:\n",
        "\n",
        "$$y= \\frac{2x}{1-x^2}$$"
      ]
    },
    {
      "cell_type": "code",
      "execution_count": 147,
      "metadata": {
        "colab": {
          "base_uri": "https://localhost:8080/",
          "height": 0
        },
        "id": "lbMqJmMcUkZP",
        "outputId": "0ec08732-dcfb-467a-f9fa-51067ba1e5e9"
      },
      "outputs": [
        {
          "output_type": "execute_result",
          "data": {
            "text/plain": [
              "  ⎛ 2    ⎞\n",
              "2⋅⎝x  + 1⎠\n",
              "──────────\n",
              "        2 \n",
              "⎛     2⎞  \n",
              "⎝1 - x ⎠  "
            ],
            "image/png": "[encoded data removed]",
            "text/latex": "$\\displaystyle \\frac{2 \\left(x^{2} + 1\\right)}{\\left(1 - x^{2}\\right)^{2}}$"
          },
          "metadata": {},
          "execution_count": 147
        }
      ],
      "source": [
        "x = Symbol('x')\n",
        "y = 2 * x / (1 - x**2)\n",
        "y = diff(y, x)\n",
        "y = together(y)\n",
        "y"
      ]
    },
    {
      "cell_type": "markdown",
      "metadata": {
        "id": "OVfM9j6QvtLk"
      },
      "source": [
        "## Задание 4*"
      ]
    },
    {
      "cell_type": "markdown",
      "metadata": {
        "id": "B0yE8aNgwKGb"
      },
      "source": [
        "Найти производную функции:\n",
        "\n",
        "$$y=\\sqrt{x+ \\sqrt{x+\\sqrt x}}$$"
      ]
    },
    {
      "cell_type": "code",
      "execution_count": 148,
      "metadata": {
        "colab": {
          "base_uri": "https://localhost:8080/",
          "height": 0
        },
        "id": "KVZp1KFmVENb",
        "outputId": "7564a608-5924-4c8f-da07-fb631b062a03"
      },
      "outputs": [
        {
          "output_type": "execute_result",
          "data": {
            "text/plain": [
              "    1    1         \n",
              "    ─ + ────       \n",
              "    2   4⋅√x     1 \n",
              "  ──────────── + ─ \n",
              "      ________   2 \n",
              "  2⋅╲╱ √x + x      \n",
              "───────────────────\n",
              "   ________________\n",
              "  ╱       ________ \n",
              "╲╱  x + ╲╱ √x + x  "
            ],
            "image/png": "[encoded data removed]",
            "text/latex": "$\\displaystyle \\frac{\\frac{\\frac{1}{2} + \\frac{1}{4 \\sqrt{x}}}{2 \\sqrt{\\sqrt{x} + x}} + \\frac{1}{2}}{\\sqrt{x + \\sqrt{\\sqrt{x} + x}}}$"
          },
          "metadata": {},
          "execution_count": 148
        }
      ],
      "source": [
        "x = Symbol('x')\n",
        "y = sqrt(x + sqrt(x + sqrt(x)))\n",
        "diff(y, x)"
      ]
    },
    {
      "cell_type": "markdown",
      "metadata": {
        "id": "LObzJ8JxvwW9"
      },
      "source": [
        "## Задание 5"
      ]
    },
    {
      "cell_type": "markdown",
      "metadata": {
        "id": "JP09YjJ3wLCA"
      },
      "source": [
        "Найти производную функции:\n",
        "\n",
        "$$y= \\ln(x+\\sqrt{x^2+1})$$"
      ]
    },
    {
      "cell_type": "code",
      "execution_count": 149,
      "metadata": {
        "id": "pvX4BRjdZCJu",
        "colab": {
          "base_uri": "https://localhost:8080/",
          "height": 0
        },
        "outputId": "353e3afe-9cf0-4e42-ce25-364110ef2fcf"
      },
      "outputs": [
        {
          "output_type": "execute_result",
          "data": {
            "text/plain": [
              "     x         \n",
              "─────────── + 1\n",
              "   ________    \n",
              "  ╱  2         \n",
              "╲╱  x  + 1     \n",
              "───────────────\n",
              "       ________\n",
              "      ╱  2     \n",
              "x + ╲╱  x  + 1 "
            ],
            "image/png": "[encoded data removed]",
            "text/latex": "$\\displaystyle \\frac{\\frac{x}{\\sqrt{x^{2} + 1}} + 1}{x + \\sqrt{x^{2} + 1}}$"
          },
          "metadata": {},
          "execution_count": 149
        }
      ],
      "source": [
        "x = Symbol('x')\n",
        "y = log(x + sqrt((x**2) + 1))\n",
        "diff(y, x)"
      ]
    },
    {
      "cell_type": "markdown",
      "metadata": {
        "id": "e7QHMecxvydO"
      },
      "source": [
        "## Задание 6"
      ]
    },
    {
      "cell_type": "markdown",
      "metadata": {
        "id": "HKN0YVWgwLtq"
      },
      "source": [
        "Найти производную функции:\n",
        "\n",
        "$$y=x \\cdot \\ln(x+\\sqrt{x^2+1})-\\sqrt{x^2+1}$$"
      ]
    },
    {
      "cell_type": "code",
      "execution_count": 150,
      "metadata": {
        "id": "cPFgi3KfZ0t5",
        "colab": {
          "base_uri": "https://localhost:8080/",
          "height": 0
        },
        "outputId": "fce47dbc-2616-40c5-be29-79f84d0f230d"
      },
      "outputs": [
        {
          "output_type": "execute_result",
          "data": {
            "text/plain": [
              "                  ⎛     x         ⎞                       \n",
              "                x⋅⎜─────────── + 1⎟                       \n",
              "                  ⎜   ________    ⎟                       \n",
              "                  ⎜  ╱  2         ⎟      ⎛       ________⎞\n",
              "       x          ⎝╲╱  x  + 1     ⎠      ⎜      ╱  2     ⎟\n",
              "- ─────────── + ─────────────────── + log⎝x + ╲╱  x  + 1 ⎠\n",
              "     ________            ________                         \n",
              "    ╱  2                ╱  2                              \n",
              "  ╲╱  x  + 1      x + ╲╱  x  + 1                          "
            ],
            "image/png": "[encoded data removed]",
            "text/latex": "$\\displaystyle - \\frac{x}{\\sqrt{x^{2} + 1}} + \\frac{x \\left(\\frac{x}{\\sqrt{x^{2} + 1}} + 1\\right)}{x + \\sqrt{x^{2} + 1}} + \\log{\\left(x + \\sqrt{x^{2} + 1} \\right)}$"
          },
          "metadata": {},
          "execution_count": 150
        }
      ],
      "source": [
        "x = Symbol('x')\n",
        "y = x * ln(x + sqrt((x**2) + 1)) - sqrt((x**2) + 1)\n",
        "diff(y, x)"
      ]
    },
    {
      "cell_type": "markdown",
      "metadata": {
        "id": "PVsdEVj0v0pe"
      },
      "source": [
        "## Задание 7*"
      ]
    },
    {
      "cell_type": "markdown",
      "metadata": {
        "id": "YOn7dybjwMk7"
      },
      "source": [
        "Найти производную функции:\n",
        "\n",
        "$$y=\\arcsin (\\sin x)$$"
      ]
    },
    {
      "cell_type": "markdown",
      "metadata": {
        "id": "IxUXVpagv3Nb"
      },
      "source": [
        "## Задание 8*"
      ]
    },
    {
      "cell_type": "markdown",
      "metadata": {
        "id": "3TdDSqU8wNHa"
      },
      "source": [
        "Вычислить приближенное значение: \n",
        "\n",
        "$$\\sin(1^0)=\\sin\\Bigl(\\frac{\\pi}{180}\\Bigr)$$"
      ]
    },
    {
      "cell_type": "markdown",
      "metadata": {
        "id": "ck8SRIm7v5gJ"
      },
      "source": [
        "## Задание 9*"
      ]
    },
    {
      "cell_type": "markdown",
      "metadata": {
        "id": "sxJsA3ldwN-H"
      },
      "source": [
        "Написать на python алгоритм, по вычислению значений $\\sin(x)$ для $х \\in[0, 30^0]$\n",
        "\n",
        "Для проверки подойдут данные из таблицы Брадиса"
      ]
    },
    {
      "cell_type": "markdown",
      "metadata": {
        "id": "J7w--5_zwswI"
      },
      "source": [
        "# Урок 6"
      ]
    },
    {
      "cell_type": "markdown",
      "metadata": {
        "id": "Ihm6ieuvwyAA"
      },
      "source": [
        "## Задание 1"
      ]
    },
    {
      "cell_type": "markdown",
      "metadata": {
        "id": "9Kc2eobCxRx2"
      },
      "source": [
        "Найти производную $y'_{x}$ функции:\n",
        "\n",
        "$$\\mbox{arctg}(\\frac{y}{x})=\\ln \\sqrt{x^2+y^2}$$"
      ]
    },
    {
      "cell_type": "code",
      "source": [
        "x,y=symbols('x y')\n",
        "f = atan(y / x) - ln(sqrt(x**2 + y**2))\n",
        "f"
      ],
      "metadata": {
        "colab": {
          "base_uri": "https://localhost:8080/",
          "height": 0
        },
        "id": "aw6vAexUgFCM",
        "outputId": "c314a151-cec5-4477-e5c1-ea03e2cdd8c6"
      },
      "execution_count": 151,
      "outputs": [
        {
          "output_type": "execute_result",
          "data": {
            "text/plain": [
              "     ⎛   _________⎞          \n",
              "     ⎜  ╱  2    2 ⎟       ⎛y⎞\n",
              "- log⎝╲╱  x  + y  ⎠ + atan⎜─⎟\n",
              "                          ⎝x⎠"
            ],
            "image/png": "[encoded data removed]",
            "text/latex": "$\\displaystyle - \\log{\\left(\\sqrt{x^{2} + y^{2}} \\right)} + \\operatorname{atan}{\\left(\\frac{y}{x} \\right)}$"
          },
          "metadata": {},
          "execution_count": 151
        }
      ]
    },
    {
      "cell_type": "code",
      "source": [
        "-diff(f, x) / diff(f, y)"
      ],
      "metadata": {
        "colab": {
          "base_uri": "https://localhost:8080/",
          "height": 0
        },
        "id": "JXwBXt3siuVO",
        "outputId": "9ad46e05-a3ed-4cdf-edd5-c7e0d557f7ed"
      },
      "execution_count": 152,
      "outputs": [
        {
          "output_type": "execute_result",
          "data": {
            "text/plain": [
              "   x           y      \n",
              "─────── + ─────────── \n",
              " 2    2      ⎛     2⎞ \n",
              "x  + y     2 ⎜    y ⎟ \n",
              "          x ⋅⎜1 + ──⎟ \n",
              "             ⎜     2⎟ \n",
              "             ⎝    x ⎠ \n",
              "──────────────────────\n",
              "     y          1     \n",
              "- ─────── + ──────────\n",
              "   2    2     ⎛     2⎞\n",
              "  x  + y      ⎜    y ⎟\n",
              "            x⋅⎜1 + ──⎟\n",
              "              ⎜     2⎟\n",
              "              ⎝    x ⎠"
            ],
            "image/png": "[encoded data removed]",
            "text/latex": "$\\displaystyle \\frac{\\frac{x}{x^{2} + y^{2}} + \\frac{y}{x^{2} \\left(1 + \\frac{y^{2}}{x^{2}}\\right)}}{- \\frac{y}{x^{2} + y^{2}} + \\frac{1}{x \\left(1 + \\frac{y^{2}}{x^{2}}\\right)}}$"
          },
          "metadata": {},
          "execution_count": 152
        }
      ]
    },
    {
      "cell_type": "markdown",
      "source": [
        "Сократить на общий делитель $x^2$ затем сократить дробь на $x$\n",
        "\n",
        "$$\\frac{\\frac{x}{x^2+y^2}+\\frac{y}{x^2+y^2}}{\\frac{1}{\\frac{x^2+y^2}{x}}-\\frac{y}{x^2+y^2}}$$\n",
        "\n",
        "под один знаменатель и сокращаем дробь получаем:\n",
        "\n",
        "$$\\frac{x+y}{x-y}$$"
      ],
      "metadata": {
        "id": "6qE-oA3OmpKP"
      }
    },
    {
      "cell_type": "markdown",
      "metadata": {
        "id": "YWYwgp-uxBAs"
      },
      "source": [
        "## Задание 2"
      ]
    },
    {
      "cell_type": "markdown",
      "metadata": {
        "id": "9WpkHr5VxScG"
      },
      "source": [
        "Найти производную $y'_{x}$ функции:\n",
        "\n",
        " \\begin{cases}\n",
        "   y=\\frac{t^2}{t-1}, \\\\\n",
        "   x=\\frac{t}{t^2-1} \n",
        " \\end{cases}"
      ]
    },
    {
      "cell_type": "code",
      "source": [
        "from sympy import *\n",
        "init_printing()"
      ],
      "metadata": {
        "id": "6F87gx9plhkH"
      },
      "execution_count": 153,
      "outputs": []
    },
    {
      "cell_type": "code",
      "source": [
        "t=Symbol('t')\n",
        "y = t**2 / (t - 1)\n",
        "y"
      ],
      "metadata": {
        "colab": {
          "base_uri": "https://localhost:8080/",
          "height": 0
        },
        "id": "_F6-oaqQlkoQ",
        "outputId": "1455d325-d0da-4df4-b34e-bc52d5008f86"
      },
      "execution_count": 154,
      "outputs": [
        {
          "output_type": "execute_result",
          "data": {
            "text/plain": [
              "   2 \n",
              "  t  \n",
              "─────\n",
              "t - 1"
            ],
            "image/png": "[encoded data removed]",
            "text/latex": "$\\displaystyle \\frac{t^{2}}{t - 1}$"
          },
          "metadata": {},
          "execution_count": 154
        }
      ]
    },
    {
      "cell_type": "code",
      "source": [
        "x = t / (t**2 - 1)\n",
        "x"
      ],
      "metadata": {
        "colab": {
          "base_uri": "https://localhost:8080/",
          "height": 0
        },
        "id": "me7MheIWl3DN",
        "outputId": "25539765-91e6-418a-c5f8-f109be685f32"
      },
      "execution_count": 155,
      "outputs": [
        {
          "output_type": "execute_result",
          "data": {
            "text/plain": [
              "  t   \n",
              "──────\n",
              " 2    \n",
              "t  - 1"
            ],
            "image/png": "[encoded data removed]",
            "text/latex": "$\\displaystyle \\frac{t}{t^{2} - 1}$"
          },
          "metadata": {},
          "execution_count": 155
        }
      ]
    },
    {
      "cell_type": "code",
      "source": [
        "diff(y, t) / diff(x, t)"
      ],
      "metadata": {
        "colab": {
          "base_uri": "https://localhost:8080/",
          "height": 0
        },
        "id": "m-Ppnk8EmCHT",
        "outputId": "643362d6-b3cd-4282-ed5c-30669af7b90f"
      },
      "execution_count": 156,
      "outputs": [
        {
          "output_type": "execute_result",
          "data": {
            "text/plain": [
              "       2            \n",
              "      t        2⋅t  \n",
              " - ──────── + ───── \n",
              "          2   t - 1 \n",
              "   (t - 1)          \n",
              "────────────────────\n",
              "        2           \n",
              "     2⋅t        1   \n",
              "- ───────── + ──────\n",
              "          2    2    \n",
              "  ⎛ 2    ⎞    t  - 1\n",
              "  ⎝t  - 1⎠          "
            ],
            "image/png": "[encoded data removed]",
            "text/latex": "$\\displaystyle \\frac{- \\frac{t^{2}}{\\left(t - 1\\right)^{2}} + \\frac{2 t}{t - 1}}{- \\frac{2 t^{2}}{\\left(t^{2} - 1\\right)^{2}} + \\frac{1}{t^{2} - 1}}$"
          },
          "metadata": {},
          "execution_count": 156
        }
      ]
    },
    {
      "cell_type": "markdown",
      "source": [
        "Раскрываем скоки и приводим подобные члены, упрощаем выражение и получаем:\n",
        "\n",
        "$$\\frac{(t^2-2t)cdot((t-1)(t+1))^2}{(t-1)^2(-t^2-1)}$$\n",
        "\n",
        "Возводим числитель  в степень и сокращаем на общий делитель получаем:\n",
        "\n",
        "$$\\frac{(t^2-2t)(t+1)^2}{-t^2-1}$$\n",
        "\n",
        "Далее раскладываем на множетели и сокращаем дробь и приводим к подобным членам, получаем:\n",
        "\n",
        "$$-\\frac{t^4-3t^2-2t}{t^2-1}$$"
      ],
      "metadata": {
        "id": "_NfhaQRnqE8w"
      }
    },
    {
      "cell_type": "markdown",
      "metadata": {
        "id": "9sZ9mR-NxDD8"
      },
      "source": [
        "## Задание 3"
      ]
    },
    {
      "cell_type": "markdown",
      "metadata": {
        "id": "aJU5wD0qxTCY"
      },
      "source": [
        "Найти производную с помощью логарифмирования:\n",
        "\n",
        "$$y=(x^2+2)^5\\cdot(3x-x^3)^3$$"
      ]
    },
    {
      "cell_type": "code",
      "source": [
        "x=Symbol('x')\n",
        "y=(x**2 + 2)**5 * (3 * x - x**3)**3\n",
        "y"
      ],
      "metadata": {
        "colab": {
          "base_uri": "https://localhost:8080/",
          "height": 0
        },
        "id": "zCEKTm0ssxAU",
        "outputId": "9a5e633e-2be5-4512-b287-cabaa2e5ed4f"
      },
      "execution_count": 157,
      "outputs": [
        {
          "output_type": "execute_result",
          "data": {
            "text/plain": [
              "        5             3\n",
              "⎛ 2    ⎞  ⎛   3      ⎞ \n",
              "⎝x  + 2⎠ ⋅⎝- x  + 3⋅x⎠ "
            ],
            "image/png": "[encoded data removed]",
            "text/latex": "$\\displaystyle \\left(x^{2} + 2\\right)^{5} \\left(- x^{3} + 3 x\\right)^{3}$"
          },
          "metadata": {},
          "execution_count": 157
        }
      ]
    },
    {
      "cell_type": "code",
      "source": [
        "diff(y,x)\n"
      ],
      "metadata": {
        "colab": {
          "base_uri": "https://localhost:8080/",
          "height": 0
        },
        "id": "_9vWn6Mmtrey",
        "outputId": "3e7d6a28-b484-4945-e8b9-57ecd2767d29"
      },
      "execution_count": 158,
      "outputs": [
        {
          "output_type": "execute_result",
          "data": {
            "text/plain": [
              "             4             3                      5             2\n",
              "     ⎛ 2    ⎞  ⎛   3      ⎞    ⎛       2⎞ ⎛ 2    ⎞  ⎛   3      ⎞ \n",
              "10⋅x⋅⎝x  + 2⎠ ⋅⎝- x  + 3⋅x⎠  + ⎝9 - 9⋅x ⎠⋅⎝x  + 2⎠ ⋅⎝- x  + 3⋅x⎠ "
            ],
            "image/png": "[encoded data removed]",
            "text/latex": "$\\displaystyle 10 x \\left(x^{2} + 2\\right)^{4} \\left(- x^{3} + 3 x\\right)^{3} + \\left(9 - 9 x^{2}\\right) \\left(x^{2} + 2\\right)^{5} \\left(- x^{3} + 3 x\\right)^{2}$"
          },
          "metadata": {},
          "execution_count": 158
        }
      ]
    },
    {
      "cell_type": "markdown",
      "metadata": {
        "id": "SbijR6_nxFfF"
      },
      "source": [
        "## Задание 4"
      ]
    },
    {
      "cell_type": "markdown",
      "metadata": {
        "id": "GzsvmPR9xToq"
      },
      "source": [
        "Найти производную функции с помощью логарифмирования:\n",
        "\n",
        "$$y=x^x$$"
      ]
    },
    {
      "cell_type": "code",
      "source": [
        "x=Symbol('x')\n",
        "y=x**x\n",
        "y"
      ],
      "metadata": {
        "colab": {
          "base_uri": "https://localhost:8080/",
          "height": 0
        },
        "id": "OVD3dMDju25J",
        "outputId": "34078884-abf7-42d2-f6a1-f45898d23565"
      },
      "execution_count": 159,
      "outputs": [
        {
          "output_type": "execute_result",
          "data": {
            "text/plain": [
              " x\n",
              "x "
            ],
            "image/png": "[encoded data removed]",
            "text/latex": "$\\displaystyle x^{x}$"
          },
          "metadata": {},
          "execution_count": 159
        }
      ]
    },
    {
      "cell_type": "code",
      "source": [
        "diff(y,x)"
      ],
      "metadata": {
        "colab": {
          "base_uri": "https://localhost:8080/",
          "height": 0
        },
        "id": "7MVMPJ93u-qs",
        "outputId": "f64567ea-aef4-4cec-e131-ba0088bdae65"
      },
      "execution_count": 160,
      "outputs": [
        {
          "output_type": "execute_result",
          "data": {
            "text/plain": [
              " x             \n",
              "x ⋅(log(x) + 1)"
            ],
            "image/png": "[encoded data removed]",
            "text/latex": "$\\displaystyle x^{x} \\left(\\log{\\left(x \\right)} + 1\\right)$"
          },
          "metadata": {},
          "execution_count": 160
        }
      ]
    },
    {
      "cell_type": "markdown",
      "metadata": {
        "id": "LdMC37S0xGvY"
      },
      "source": [
        "## Задание 5"
      ]
    },
    {
      "cell_type": "markdown",
      "metadata": {
        "id": "5HsF6i7-xUTw"
      },
      "source": [
        "Найти производную функции с помощью логарифмирования:\n",
        "\n",
        "$$y=\\frac{(2-x^2)^3\\cdot(x-1)^2}{(2x^3-3x)\\cdot e^x}$$"
      ]
    },
    {
      "cell_type": "code",
      "source": [
        "x=Symbol('x')\n",
        "y=((2 - x**2)**3 * (x - 1)**2) / ((2 * x**3 - 3 * x) * E**x)\n",
        "y"
      ],
      "metadata": {
        "colab": {
          "base_uri": "https://localhost:8080/",
          "height": 0
        },
        "id": "gPmLxyYF0WeU",
        "outputId": "1883a505-6107-4c2d-a713-b58c48aa7bb5"
      },
      "execution_count": 161,
      "outputs": [
        {
          "output_type": "execute_result",
          "data": {
            "text/plain": [
              "        3             \n",
              "⎛     2⎞         2  -x\n",
              "⎝2 - x ⎠ ⋅(x - 1) ⋅ℯ  \n",
              "──────────────────────\n",
              "         3            \n",
              "      2⋅x  - 3⋅x      "
            ],
            "image/png": "[encoded data removed]",
            "text/latex": "$\\displaystyle \\frac{\\left(2 - x^{2}\\right)^{3} \\left(x - 1\\right)^{2} e^{- x}}{2 x^{3} - 3 x}$"
          },
          "metadata": {},
          "execution_count": 161
        }
      ]
    },
    {
      "cell_type": "code",
      "source": [
        "diff(y,x)"
      ],
      "metadata": {
        "colab": {
          "base_uri": "https://localhost:8080/",
          "height": 0
        },
        "id": "baOk7mnl2Hrh",
        "outputId": "d5ec0a1c-002a-4c11-cef6-8ddb012c44e4"
      },
      "execution_count": 162,
      "outputs": [
        {
          "output_type": "execute_result",
          "data": {
            "text/plain": [
              "              2                        3                                   3  \n",
              "      ⎛     2⎞         2  -x   ⎛     2⎞  ⎛       2⎞        2  -x   ⎛     2⎞   \n",
              "  6⋅x⋅⎝2 - x ⎠ ⋅(x - 1) ⋅ℯ     ⎝2 - x ⎠ ⋅⎝3 - 6⋅x ⎠⋅(x - 1) ⋅ℯ     ⎝2 - x ⎠ ⋅(\n",
              "- ────────────────────────── + ───────────────────────────────── - ───────────\n",
              "             3                                       2                      3 \n",
              "          2⋅x  - 3⋅x                     ⎛   3      ⎞                    2⋅x  \n",
              "                                         ⎝2⋅x  - 3⋅x⎠                         \n",
              "\n",
              "                      3              \n",
              "      2  -x   ⎛     2⎞             -x\n",
              "x - 1) ⋅ℯ     ⎝2 - x ⎠ ⋅(2⋅x - 2)⋅ℯ  \n",
              "─────────── + ───────────────────────\n",
              "                        3            \n",
              "- 3⋅x                2⋅x  - 3⋅x      \n",
              "                                     "
            ],
            "image/png": "[encoded data removed]",
            "text/latex": "$\\displaystyle - \\frac{6 x \\left(2 - x^{2}\\right)^{2} \\left(x - 1\\right)^{2} e^{- x}}{2 x^{3} - 3 x} + \\frac{\\left(2 - x^{2}\\right)^{3} \\left(3 - 6 x^{2}\\right) \\left(x - 1\\right)^{2} e^{- x}}{\\left(2 x^{3} - 3 x\\right)^{2}} - \\frac{\\left(2 - x^{2}\\right)^{3} \\left(x - 1\\right)^{2} e^{- x}}{2 x^{3} - 3 x} + \\frac{\\left(2 - x^{2}\\right)^{3} \\left(2 x - 2\\right) e^{- x}}{2 x^{3} - 3 x}$"
          },
          "metadata": {},
          "execution_count": 162
        }
      ]
    },
    {
      "cell_type": "markdown",
      "metadata": {
        "id": "BHrxT4a_xHXQ"
      },
      "source": [
        "## Задание 6*"
      ]
    },
    {
      "cell_type": "markdown",
      "metadata": {
        "id": "qUEXJJohxU4A"
      },
      "source": [
        "Вывести табличное значение производной для функции\n",
        "\n",
        "$$\\mbox{arctg}(x)$$"
      ]
    },
    {
      "cell_type": "markdown",
      "metadata": {
        "id": "R4ZRUrhOxNJE"
      },
      "source": [
        "## Задание 7"
      ]
    },
    {
      "cell_type": "markdown",
      "metadata": {
        "id": "tR-MAd5zxVaa"
      },
      "source": [
        "Найти длину $𝑥$ и ширину $𝑦$ прямоугольника при заданном периметре $𝑃=144$ cм, при которых данный прямоугольник имеет наибольшую площадь $𝑆$."
      ]
    },
    {
      "cell_type": "markdown",
      "source": [
        "Наибольшая площадь прямоугольника достигается при равных сторонах т. е. квадрата. Так как у нас четное число $P$ = 144 а $x$ и $y$ равны по условию.\n",
        "Можем найти сторону квадрата 144/4=36см\n",
        "Ответ x и y равны 36 см"
      ],
      "metadata": {
        "id": "5VrgUQqI435D"
      }
    },
    {
      "cell_type": "markdown",
      "metadata": {
        "id": "zCbW0RVWxNk9"
      },
      "source": [
        "## Задание 8*"
      ]
    },
    {
      "cell_type": "markdown",
      "metadata": {
        "id": "NzYdshUpxWAl"
      },
      "source": [
        "Завод $A$ отстоит от железной дороги, идущей с юга на север и проходящей через $B$, считая по кратчайшему расстоянию на $a$ км. Под каким углом $\\alpha$ к железной дороге следует ппостроить подъезной  путь от завода, чтобы транспортировка грузов из $A$ в $B$ была наиболее экономичной, если стоимость провоза тонны груза на расстоянии $1$ км составляет: по подъезному пути $p$ рублей, по железной дороге $q$ рублей $(p>q)$ и город $B$ расположен на $b$ км севернее завода $A$."
      ]
    },
    {
      "cell_type": "markdown",
      "source": [
        "# Урок 7"
      ],
      "metadata": {
        "id": "JlwqMT8N7Gdj"
      }
    },
    {
      "cell_type": "markdown",
      "source": [
        "## Задание 1"
      ],
      "metadata": {
        "id": "r8efLX6U7Nrn"
      }
    },
    {
      "cell_type": "markdown",
      "source": [
        "Найти частные производные первого и второго порядка. Убедиться в равенстве смешанных производных.\n",
        "\n",
        "$$U=x^3+3xy^2+z^2-39x-36y+2z+26$$"
      ],
      "metadata": {
        "id": "lJ59twvA7qAv"
      }
    },
    {
      "cell_type": "markdown",
      "source": [
        "Решения по правилу дефференцирования...\n",
        "\n",
        "Вычисляем производную первого порядка...\n",
        "$$\\frac{\\partial U}{\\partial x}=3x^2+3y^2-39$$\n",
        "$$\\frac{\\partial U}{\\partial y}=6xy-36$$\n",
        "$$\\frac{\\partial U}{\\partial z}=2z+2$$\n",
        "\n",
        "вычисляем производную второго порядка...\n",
        "\n",
        "$$U''xx=6x$$\n",
        "$$U''xy=6y$$\n",
        "$$U''xz=0$$\n",
        "$$U''yx=6y$$\n",
        "$$U''yy=6x$$\n",
        "$$U''yz=0$$\n",
        "$$U''zx=0$$\n",
        "$$U''zy=0$$\n",
        "$$U''zz=2$$"
      ],
      "metadata": {
        "id": "TEss6m3HYUUz"
      }
    },
    {
      "cell_type": "markdown",
      "source": [
        "## Задание 2"
      ],
      "metadata": {
        "id": "-cc8IIBc7P-l"
      }
    },
    {
      "cell_type": "markdown",
      "source": [
        "Найти частные производные первого и второго порядка. Убедиться в равенстве смешанных производных.\n",
        "\n",
        "$$U=\\frac{256}{x}+\\frac{x^2}{y}+\\frac{y^2}{z}+z^2$$"
      ],
      "metadata": {
        "id": "p8LWc3577sdx"
      }
    },
    {
      "cell_type": "markdown",
      "source": [
        "Правило дефференцирования...\n",
        "\n",
        "Производная первого порядка...\n",
        "\n",
        "$$U'x=-\\frac{256}{x^2}+\\frac{2x}{y}$$\n",
        "$$U'y=-\\frac{x^2}{y^2}+\\frac{2y}{z}$$\n",
        "$$U'z=-\\frac{y^2}{z^2}+2z$$\n",
        "\n",
        "Производная второго порядка...\n",
        "\n",
        "$$U''xx=\\frac{512}{x^3}+\\frac{2}{y}$$\n",
        "$$U''xy=-\\frac{2x}{y^2}$$\n",
        "$$U''xz=0$$\n",
        "$$U''yx=-\\frac{2x}{y^2}$$\n",
        "$$U''yy=\\frac{2x^2}{y^3}+\\frac{2}{z}$$\n",
        "$$U''yz=-\\frac{2y}{z^2}$$\n",
        "$$U''zx=0$$\n",
        "$$U''zy=-\\frac{2y}{z^2}$$\n",
        "$$U''zz=\\frac{2y^2}{z^3}+2$$"
      ],
      "metadata": {
        "id": "Gtc8nqX5ce5Q"
      }
    },
    {
      "cell_type": "markdown",
      "source": [
        "## Задание 3"
      ],
      "metadata": {
        "id": "j7jI6mzv7Sgl"
      }
    },
    {
      "cell_type": "markdown",
      "source": [
        "Найти производную функции $U=x^2+y^2+z^2$ по направлению вектора $\\overrightarrow{c}(-9,8,-12)$ в точке $M(8,-12,9)$"
      ],
      "metadata": {
        "id": "JKXLppGQ7wf3"
      }
    },
    {
      "cell_type": "markdown",
      "source": [
        "$$\\mbox{grad} U=(U'_{x},U'_{y},U'_{z})$$\n",
        "$$U'_{\\overrightarrow{c}}=(\\overrightarrow{c}_{0}\\cdot \\mbox{grad}U)$$\n",
        "Значение вектора по модулю...\n",
        "\n",
        "$$|\\overrightarrow{c}|=\\sqrt{x^2_{0}+y^2_{0}+z^2_{0}}=\\sqrt{(-9)^2+8^2+(-12)^2}=\\sqrt{289}=17$$\n",
        "Единичный вектор...\n",
        "\n",
        "$$\\overrightarrow{c_{0}}=\\frac{\\overrightarrow{c}}{|\\overrightarrow{c}|}=\\Bigr(-\\frac{9}{17},\\frac{8}{17},-\\frac{12}{17}\\Bigl)$$\n",
        "Производные первого порядка...\n",
        "$$U'_{x}=2x$$\n",
        "\n",
        "$$U'_{y}=2y$$\n",
        "\n",
        "$$U'_{z}=2z$$\n",
        "Градиент точки по условию...\n",
        "\n",
        "$$\\mbox{grad}U=(16,-24,18)$$\n",
        "Решение...\n",
        "\n",
        "$$U'_{\\overrightarrow{c}}=-\\frac{9}{17}\\cdot 16+\\frac{8}{17}\\cdot (-24)-\\frac{12}{17}\\cdot 18=-32\\frac{8}{17}$$"
      ],
      "metadata": {
        "id": "pF7DD2Z9din1"
      }
    },
    {
      "cell_type": "markdown",
      "source": [
        "## Задание 4"
      ],
      "metadata": {
        "id": "aNtOgtxC7Ug_"
      }
    },
    {
      "cell_type": "markdown",
      "source": [
        "Найти производную функции $U=e^{x^2+y^2+z^2}$ по направлению вектора $\\overrightarrow{c}(4,-13,-16)$ в точке $L(-16,4,-13)$"
      ],
      "metadata": {
        "id": "ZwH1xjO67zWb"
      }
    },
    {
      "cell_type": "markdown",
      "source": [
        "Значение вектора по модулю...\n",
        "\n",
        "$$|\\overrightarrow{c}|=21$$\n",
        "Первичный вектор...\n",
        "\n",
        "$$\\overrightarrow{c_{0}}=\\Bigr(\\frac{4}{21},-\\frac{13}{21},-\\frac{16}{21}\\Bigl)$$\n",
        "Производные функции...\n",
        "\n",
        "$$U'_{x}=e^{x^2+y^2+z^2}\\cdot2x$$\n",
        "$$U'_{y}=e^{x^2+y^2+z^2}\\cdot2y$$\n",
        "$$U'_{z}=e^{x^2+y^2+z^2}\\cdot2z$$\n",
        "\n",
        "Градиент по условию...\n",
        "\n",
        "$$\\mbox{grad}U=(-32e^{441},8e^{441},-26e^{441})$$\n",
        "\n",
        "Значение \n",
        "\n",
        "$$U'_{\\overrightarrow{c}}=\\frac{4}{21}\\cdot(-32e^{441})-\\frac{13}{21}\\cdot 8e^{441}-\\frac{16}{21}\\cdot (-26e^{441})=21\\frac{16}{21}e^{441}$$\n"
      ],
      "metadata": {
        "id": "VFvFhFIugneO"
      }
    },
    {
      "cell_type": "markdown",
      "source": [
        "## Задание 5*"
      ],
      "metadata": {
        "id": "MWA0ErQF7YrQ"
      }
    },
    {
      "cell_type": "markdown",
      "source": [
        "Найти производную функции $U=\\log_{21}(x^2+y^2+z^2)$ в точке $F(-19,8,-4)$ по самому быстрому направлению."
      ],
      "metadata": {
        "id": "JwHmhPHI76Rw"
      }
    },
    {
      "cell_type": "markdown",
      "source": [
        "## Задание 6"
      ],
      "metadata": {
        "id": "a3j5aa987bbp"
      }
    },
    {
      "cell_type": "markdown",
      "source": [
        "Исследовать на экстремум функцию:\n",
        "\n",
        "$$U=x^2y+\\frac{1}{3}y^3+2x^2+3y^2-1$$"
      ],
      "metadata": {
        "id": "DVNXOQ-X79nQ"
      }
    },
    {
      "cell_type": "markdown",
      "source": [
        "$$\\Delta_{1}=U''_{xx}$$\n",
        "\n",
        "$$\\Delta_{2}=\\begin{vmatrix}\n",
        "U''_{xx} & U''_{xy}\\\\ \n",
        "U''_{yx} & U''_{yy}\\\\\n",
        "\\end{vmatrix}=U''_{xx}\\cdot U''_{yy}-(U''_{xy})^2$$\n",
        "\n",
        "$$\\begin{cases}\n",
        "U'_{x}=2xy+4x=0 \\\\\n",
        "U'_{y}=x^2+y^2+6y=0 \n",
        "\\end{cases}$$\n",
        "Стационарные точки...\n",
        "$$(0,0)$$\n",
        "$$(0,-6)$$\n",
        "$$(2\\sqrt2,-2)$$\n",
        "$$(-2\\sqrt2,-2)$$\n"
      ],
      "metadata": {
        "id": "a8DRZIS6k-9v"
      }
    },
    {
      "cell_type": "markdown",
      "source": [
        "## Задание 7*"
      ],
      "metadata": {
        "id": "-qzdN6ho7gYu"
      }
    },
    {
      "cell_type": "markdown",
      "source": [
        "Исследовать на экстремум функцию:\n",
        "\n",
        "$$U=e^{-\\frac{x}{2}}\\cdot(x^2+y^2)$$"
      ],
      "metadata": {
        "id": "Rqp69mkq8BMo"
      }
    },
    {
      "cell_type": "markdown",
      "source": [
        "## Задание 8**"
      ],
      "metadata": {
        "id": "DuBWVR_S7kSu"
      }
    },
    {
      "cell_type": "markdown",
      "source": [
        "С помощью метода наименьших квадратов (МНК) подобрать значения параметров $a$ и $b$ для сигмоидальной функции $$y=\\frac{1}{1+e^{-(ax+b)}}$$ \n",
        "\n",
        "по заданному распределению. Построить график."
      ],
      "metadata": {
        "id": "czCXyKrM8FDX"
      }
    },
    {
      "cell_type": "code",
      "source": [
        "import numpy as np\n",
        "import matplotlib.pyplot as plt\n",
        "\n",
        "# Задаем рандомное распределение точек\n",
        "xi = np.random.uniform(-8, 8, 200)\n",
        "yi = 1/(1+np.exp(-np.random.uniform(0.5, 1.5, 200)*xi-np.random.uniform(-1, 1, 200)))\n",
        "plt.plot(xi,yi, marker=\"o\", ls=\"\")\n",
        "\n",
        "plt.show()"
      ],
      "metadata": {
        "id": "rm4Vl9398KyE",
        "outputId": "16a4612e-056c-4880-8fe5-41b7b0fc4d36",
        "colab": {
          "base_uri": "https://localhost:8080/",
          "height": 0
        }
      },
      "execution_count": 163,
      "outputs": [
        {
          "output_type": "display_data",
          "data": {
            "text/plain": [
              "<Figure size 432x288 with 1 Axes>"
            ],
            "image/png": "[encoded data removed]"
          },
          "metadata": {
            "needs_background": "light"
          }
        }
      ]
    },
    {
      "cell_type": "markdown",
      "source": [
        "# Урок 8"
      ],
      "metadata": {
        "id": "84b26JJ-r0SA"
      }
    },
    {
      "cell_type": "markdown",
      "source": [
        "## Задание 1"
      ],
      "metadata": {
        "id": "fot1c5C7r4oi"
      }
    },
    {
      "cell_type": "markdown",
      "source": [
        "Исследовать на условный экстремум функцию\n",
        "\n",
        "$$U=3-8x+6y,$$\n",
        "\n",
        "если\n",
        "\n",
        "$$x^2+y^2=36$$"
      ],
      "metadata": {
        "id": "VY6HjhD8sUx3"
      }
    },
    {
      "cell_type": "markdown",
      "source": [
        "![1.jpeg](data:image/jpeg;base64,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)"
      ],
      "metadata": {
        "id": "lTlBesN7BPhV"
      }
    },
    {
      "cell_type": "markdown",
      "source": [
        "## Задание 2"
      ],
      "metadata": {
        "id": "AaX_54EmsD_Q"
      }
    },
    {
      "cell_type": "markdown",
      "source": [
        "Исследовать на условный экстремум функцию\n",
        "\n",
        "$$U=2x^2+12xy+32y^2+15,$$\n",
        "\n",
        "если\n",
        "\n",
        "$$x^2+16y^2=64$$"
      ],
      "metadata": {
        "id": "SzkqQ_IdsZ5S"
      }
    },
    {
      "cell_type": "markdown",
      "source": [
        "![2.jpeg](data:image/jpeg;base64,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)"
      ],
      "metadata": {
        "id": "6xnZmXwpWSAY"
      }
    },
    {
      "cell_type": "markdown",
      "source": [
        "## Задание 3"
      ],
      "metadata": {
        "id": "TGcI2wmisGhX"
      }
    },
    {
      "cell_type": "markdown",
      "source": [
        "Численно найти хотя бы один действительный корень системы нелинейных уравнений:\n",
        "$$\\begin{cases}\n",
        "   x^2-y^2+3xy^3-2x^2y^2+2x-3y-5=0 \\\\\n",
        "   3y^3-2x^2+2x^3y-5x^2y^2+5=0\n",
        " \\end{cases}$$"
      ],
      "metadata": {
        "id": "ruJN8kUksghx"
      }
    },
    {
      "cell_type": "code",
      "source": [
        "from scipy.optimize import fsolve\n",
        "def root(p):\n",
        "    x, y = p\n",
        "    return (\n",
        "        x**2 - y**2 + 3 * x * y**3 - 2 * x**2 * y**2 + 2 * x - 3 * y - 5, \n",
        "        3 * y**3 - 2 * x**2 + 2 * x**3 * y - 5 * x**2 * y**2 + 5,\n",
        "    )\n",
        "\n",
        "\n",
        "(x, y), info, ier, mesg =  fsolve(root, (10, 10), full_output=True)\n",
        "print(x, y, ier)"
      ],
      "metadata": {
        "colab": {
          "base_uri": "https://localhost:8080/"
        },
        "id": "eHLJgvVuA-Yc",
        "outputId": "07681b11-a7af-42ae-b855-0727bda4bdc5"
      },
      "execution_count": 164,
      "outputs": [
        {
          "output_type": "stream",
          "name": "stdout",
          "text": [
            "1.273302064528599 1.6620391224277693 1\n"
          ]
        }
      ]
    },
    {
      "cell_type": "markdown",
      "source": [
        "## Задание 4*"
      ],
      "metadata": {
        "id": "kC379_p2sI4l"
      }
    },
    {
      "cell_type": "markdown",
      "source": [
        "Численно найти все $5$ действительных корней."
      ],
      "metadata": {
        "id": "VTI06qXfsmUc"
      }
    },
    {
      "cell_type": "markdown",
      "source": [
        "## Задание 5*"
      ],
      "metadata": {
        "id": "tWzTxfuwsNi8"
      }
    },
    {
      "cell_type": "markdown",
      "source": [
        "Даны две функции $y_{1}=f(x)$ и $y_{2}=g(x)$. Известно, что:\n",
        "\n",
        "$$f'(x)=\\frac{1}{2}g(x)$$\n",
        "\n",
        "$$g'(x)=2-2f(x)$$\n",
        "\n",
        "$$f(0)=0$$\n",
        "\n",
        "$$g(0)=1$$\n",
        "\n",
        "Восстановить функции $y_{1}=f(x)$ и $y_{2}=g(x)$ с помощью формулы:\n",
        "\n",
        "$$f(x+\\Delta x) \\approx f(x)+f'(x) \\cdot \\Delta x$$\n",
        "\n",
        "на участке $[0, 20]$\n",
        "\n",
        "В качестве решения построить график этих функций в одной системе координат."
      ],
      "metadata": {
        "id": "BrMWaRmAsrbQ"
      }
    },
    {
      "cell_type": "markdown",
      "source": [
        "## Задание 6**"
      ],
      "metadata": {
        "id": "PSB2ty0hsSZO"
      }
    },
    {
      "cell_type": "markdown",
      "source": [
        "Найти все корни уравнения:\n",
        "\n",
        "f(x)=g(x) \n",
        "на участке  [0,20] \n",
        "\n",
        "Где  y1=f(x)  и  y2=g(x)  - функции из предыдущего решения."
      ],
      "metadata": {
        "id": "mUaDFFvHsyos"
      }
    },
    {
      "cell_type": "markdown",
      "source": [
        "# Урок 9"
      ],
      "metadata": {
        "id": "aUjEyH69W4qh"
      }
    },
    {
      "cell_type": "markdown",
      "source": [
        "## Задание 1"
      ],
      "metadata": {
        "id": "lXnCNDYzW8eu"
      }
    },
    {
      "cell_type": "markdown",
      "source": [
        "Вычислить неопределенный интеграл\n",
        "\n",
        "$$\\int \\frac{2x+3}{(x-2)(x+5)}\\,dx$$"
      ],
      "metadata": {
        "id": "IFJJ8FFjXOr4"
      }
    },
    {
      "cell_type": "code",
      "source": [
        "x=Symbol('x')\n",
        "f = (2 * x + 3) / ((x - 1) * (x + 5))\n",
        "f"
      ],
      "metadata": {
        "colab": {
          "base_uri": "https://localhost:8080/",
          "height": 55
        },
        "id": "3dFlCIlA-o_d",
        "outputId": "370e5482-ae89-434a-d422-aefcfd788fb8"
      },
      "execution_count": 165,
      "outputs": [
        {
          "output_type": "execute_result",
          "data": {
            "text/plain": [
              "    2⋅x + 3    \n",
              "───────────────\n",
              "(x - 1)⋅(x + 5)"
            ],
            "image/png": "[encoded data removed]",
            "text/latex": "$\\displaystyle \\frac{2 x + 3}{\\left(x - 1\\right) \\left(x + 5\\right)}$"
          },
          "metadata": {},
          "execution_count": 165
        }
      ]
    },
    {
      "cell_type": "code",
      "source": [
        "integrate(f, x)"
      ],
      "metadata": {
        "colab": {
          "base_uri": "https://localhost:8080/",
          "height": 53
        },
        "id": "t0O_UXh3_UQz",
        "outputId": "6ea69aaa-b515-4f9b-a25d-bb69d61cb7e2"
      },
      "execution_count": 166,
      "outputs": [
        {
          "output_type": "execute_result",
          "data": {
            "text/plain": [
              "5⋅log(x - 1)   7⋅log(x + 5)\n",
              "──────────── + ────────────\n",
              "     6              6      "
            ],
            "image/png": "[encoded data removed]",
            "text/latex": "$\\displaystyle \\frac{5 \\log{\\left(x - 1 \\right)}}{6} + \\frac{7 \\log{\\left(x + 5 \\right)}}{6}$"
          },
          "metadata": {},
          "execution_count": 166
        }
      ]
    },
    {
      "cell_type": "markdown",
      "source": [
        "## Задание 2"
      ],
      "metadata": {
        "id": "jAlgJpf9XBc_"
      }
    },
    {
      "cell_type": "markdown",
      "source": [
        "Вычислить неопределенный интеграл\n",
        "\n",
        "$$\\int e^{2x}\\cos 3x\\,dx$$"
      ],
      "metadata": {
        "id": "UCIH3dOAXUDb"
      }
    },
    {
      "cell_type": "code",
      "source": [
        "x=Symbol('x')\n",
        "f = E**(2 * x) * cos(3 * x)\n",
        "f"
      ],
      "metadata": {
        "colab": {
          "base_uri": "https://localhost:8080/",
          "height": 39
        },
        "id": "A3bxOgQu_vIT",
        "outputId": "bb747ea2-baa1-42db-eb82-aa1e562ed968"
      },
      "execution_count": 167,
      "outputs": [
        {
          "output_type": "execute_result",
          "data": {
            "text/plain": [
              " 2⋅x         \n",
              "ℯ   ⋅cos(3⋅x)"
            ],
            "image/png": "[encoded data removed]",
            "text/latex": "$\\displaystyle e^{2 x} \\cos{\\left(3 x \\right)}$"
          },
          "metadata": {},
          "execution_count": 167
        }
      ]
    },
    {
      "cell_type": "code",
      "source": [
        "integrate(f, x)"
      ],
      "metadata": {
        "colab": {
          "base_uri": "https://localhost:8080/",
          "height": 54
        },
        "id": "mJuBz3AIArKM",
        "outputId": "8a2dee18-587d-473a-89d0-2052e53de5f5"
      },
      "execution_count": 168,
      "outputs": [
        {
          "output_type": "execute_result",
          "data": {
            "text/plain": [
              "   2⋅x               2⋅x         \n",
              "3⋅ℯ   ⋅sin(3⋅x)   2⋅ℯ   ⋅cos(3⋅x)\n",
              "─────────────── + ───────────────\n",
              "       13                13      "
            ],
            "image/png": "[encoded data removed]",
            "text/latex": "$\\displaystyle \\frac{3 e^{2 x} \\sin{\\left(3 x \\right)}}{13} + \\frac{2 e^{2 x} \\cos{\\left(3 x \\right)}}{13}$"
          },
          "metadata": {},
          "execution_count": 168
        }
      ]
    },
    {
      "cell_type": "markdown",
      "source": [
        "## Задание 3"
      ],
      "metadata": {
        "id": "-UnUYQDLXEJg"
      }
    },
    {
      "cell_type": "markdown",
      "source": [
        "Вычислить определенный интеграл\n",
        "\n",
        "$$\\int\\limits_0^{\\ln2} xe^{-x}\\,dx$$"
      ],
      "metadata": {
        "id": "Ra_tWy23XYS2"
      }
    },
    {
      "cell_type": "code",
      "source": [
        "init_printing()\n",
        "x=Symbol('x')\n",
        "f = x * E**(-x)\n",
        "f"
      ],
      "metadata": {
        "colab": {
          "base_uri": "https://localhost:8080/",
          "height": 39
        },
        "id": "wCZGHtFpC5L5",
        "outputId": "11cb14c5-ad01-408c-ddd8-a3060c130c87"
      },
      "execution_count": 169,
      "outputs": [
        {
          "output_type": "execute_result",
          "data": {
            "text/plain": [
              "   -x\n",
              "x⋅ℯ  "
            ],
            "image/png": "[encoded data removed]",
            "text/latex": "$\\displaystyle x e^{- x}$"
          },
          "metadata": {},
          "execution_count": 169
        }
      ]
    },
    {
      "cell_type": "code",
      "source": [
        "integrate(f,(x, 0, log(2)))"
      ],
      "metadata": {
        "colab": {
          "base_uri": "https://localhost:8080/",
          "height": 53
        },
        "id": "KBwn62OwDEmY",
        "outputId": "2f65a5f3-f37f-4c84-c44c-d95726823b61"
      },
      "execution_count": 170,
      "outputs": [
        {
          "output_type": "execute_result",
          "data": {
            "text/plain": [
              "1   log(2)\n",
              "─ - ──────\n",
              "2     2   "
            ],
            "image/png": "[encoded data removed]",
            "text/latex": "$\\displaystyle \\frac{1}{2} - \\frac{\\log{\\left(2 \\right)}}{2}$"
          },
          "metadata": {},
          "execution_count": 170
        }
      ]
    },
    {
      "cell_type": "code",
      "source": [
        "from scipy import integrate\n",
        "from math import *\n",
        "\n",
        "func = lambda x: x * E**(-x)\n",
        "\n",
        "answer = integrate.quad(func, 0, log(2))\n",
        "print(answer, \"-численное решение\")\n",
        "print((1 - log(2)) / 2, \"-аналитическое решение\")"
      ],
      "metadata": {
        "colab": {
          "base_uri": "https://localhost:8080/"
        },
        "id": "DzLu7kGjB1ag",
        "outputId": "3372757a-bf0f-483d-b874-2d3bd499d154"
      },
      "execution_count": 171,
      "outputs": [
        {
          "output_type": "stream",
          "name": "stdout",
          "text": [
            "(0.15342640972002733, 1.7033753265674727e-15) -численное решение\n",
            "0.15342640972002736 -аналитическое решение\n"
          ]
        }
      ]
    },
    {
      "cell_type": "markdown",
      "source": [
        "## Задание 4"
      ],
      "metadata": {
        "id": "3-0MJgcKXGcv"
      }
    },
    {
      "cell_type": "markdown",
      "source": [
        "Вычислить несобственный интеграл\n",
        "\n",
        "$$\\int\\limits_2^{+\\infty} \\frac{dx}{x^2+x-2}$$"
      ],
      "metadata": {
        "id": "6IuzwvbNXaHn"
      }
    },
    {
      "cell_type": "code",
      "source": [
        "from sympy import *\n",
        "init_printing()\n",
        "x = Symbol('x')\n",
        "f = 1 / (x**2 + x - 2)\n",
        "f"
      ],
      "metadata": {
        "colab": {
          "base_uri": "https://localhost:8080/",
          "height": 52
        },
        "id": "qcOATfEZGNas",
        "outputId": "2911bde8-6044-4f75-913b-fb6520889ff1"
      },
      "execution_count": 172,
      "outputs": [
        {
          "output_type": "execute_result",
          "data": {
            "text/plain": [
              "    1     \n",
              "──────────\n",
              " 2        \n",
              "x  + x - 2"
            ],
            "image/png": "[encoded data removed]",
            "text/latex": "$\\displaystyle \\frac{1}{x^{2} + x - 2}$"
          },
          "metadata": {},
          "execution_count": 172
        }
      ]
    },
    {
      "cell_type": "code",
      "source": [
        "integrate(f,(x, 2, +oo)) #аналитическое решение"
      ],
      "metadata": {
        "colab": {
          "base_uri": "https://localhost:8080/",
          "height": 53
        },
        "id": "KepwGGYQGcoV",
        "outputId": "a4ebe453-0676-4b47-b40d-84d65bb0055f"
      },
      "execution_count": 173,
      "outputs": [
        {
          "output_type": "execute_result",
          "data": {
            "text/plain": [
              "log(4)\n",
              "──────\n",
              "  3   "
            ],
            "image/png": "[encoded data removed]",
            "text/latex": "$\\displaystyle \\frac{\\log{\\left(4 \\right)}}{3}$"
          },
          "metadata": {},
          "execution_count": 173
        }
      ]
    },
    {
      "cell_type": "code",
      "source": [
        "from scipy import integrate\n",
        "from math import *\n",
        "\n",
        "func = lambda x: 1 / (x**2 + x - 2)\n",
        " \n",
        "answer = integrate.quad(func, 2, +oo)\n",
        "print(answer) #численное решение"
      ],
      "metadata": {
        "colab": {
          "base_uri": "https://localhost:8080/"
        },
        "id": "d8YNenE6GthQ",
        "outputId": "d38d5e63-128f-4a01-fa55-f11dcda9ed4a"
      },
      "execution_count": 174,
      "outputs": [
        {
          "output_type": "stream",
          "name": "stdout",
          "text": [
            "(0.4620981203732969, 8.305488729935715e-11)\n"
          ]
        }
      ]
    },
    {
      "cell_type": "markdown",
      "source": [
        "## Задание 5*"
      ],
      "metadata": {
        "id": "Pfml1lWIXJK-"
      }
    },
    {
      "cell_type": "markdown",
      "source": [
        "Вычислить несобственный интеграл\n",
        "\n",
        "$$\\int\\limits_0^{1} \\ln x\\,dx$$"
      ],
      "metadata": {
        "id": "w3niw5GoXeL0"
      }
    },
    {
      "cell_type": "code",
      "source": [
        "from sympy import *\n",
        "init_printing()\n",
        "x = Symbol('x')\n",
        "f = log(x)\n",
        "f"
      ],
      "metadata": {
        "colab": {
          "base_uri": "https://localhost:8080/",
          "height": 39
        },
        "id": "ujsr486LH8tq",
        "outputId": "dcd87c26-f4fd-40d2-acc6-ee25a2e25f7c"
      },
      "execution_count": 175,
      "outputs": [
        {
          "output_type": "execute_result",
          "data": {
            "text/plain": [
              "log(x)"
            ],
            "image/png": "[encoded data removed]",
            "text/latex": "$\\displaystyle \\log{\\left(x \\right)}$"
          },
          "metadata": {},
          "execution_count": 175
        }
      ]
    },
    {
      "cell_type": "code",
      "source": [
        "integrate(f,(x, 0, 1)) #аналитическое решение"
      ],
      "metadata": {
        "colab": {
          "base_uri": "https://localhost:8080/",
          "height": 37
        },
        "id": "pHp84fxVIeJY",
        "outputId": "532bb404-f28c-4227-ad84-f0dc00bc1dcb"
      },
      "execution_count": 176,
      "outputs": [
        {
          "output_type": "execute_result",
          "data": {
            "text/plain": [
              "-1"
            ],
            "image/png": "[encoded data removed]",
            "text/latex": "$\\displaystyle -1$"
          },
          "metadata": {},
          "execution_count": 176
        }
      ]
    },
    {
      "cell_type": "code",
      "source": [
        "from scipy import integrate\n",
        "from math import *\n",
        "\n",
        "func = lambda x: log(x)\n",
        "\n",
        "answer = integrate.quad(func, 0, 1)\n",
        "print(answer, \"-численное решение\")"
      ],
      "metadata": {
        "colab": {
          "base_uri": "https://localhost:8080/"
        },
        "id": "FoIsbBVZJkNP",
        "outputId": "3393cc5f-8173-4832-d20e-1bb3323699a1"
      },
      "execution_count": 177,
      "outputs": [
        {
          "output_type": "stream",
          "name": "stdout",
          "text": [
            "(-0.9999999999999999, 1.1102230246251563e-15) -численное решение\n"
          ]
        }
      ]
    },
    {
      "cell_type": "markdown",
      "source": [
        "# Урок 10"
      ],
      "metadata": {
        "id": "-7pUCAquLDhD"
      }
    },
    {
      "cell_type": "markdown",
      "source": [
        "## Задание 1"
      ],
      "metadata": {
        "id": "42XA9zGeLHIx"
      }
    },
    {
      "cell_type": "markdown",
      "source": [
        "Исследовать сходимость ряда. \n",
        "\n",
        "\n",
        "$$\\frac{1}{2\\sqrt2}+\\frac{1}{3\\sqrt3}+\\,...\\,+\\frac{1}{(n+1)\\sqrt{n+1}}+\\,...\\,=\\sum\\limits_{n=1}^{+\\infty}\\frac{1}{(n+1)\\sqrt{n+1}}$$\n",
        "\n",
        "(*) Двумя различными признаками."
      ],
      "metadata": {
        "id": "Q4bYDmmlLrwy"
      }
    },
    {
      "cell_type": "markdown",
      "source": [
        "## Задание 2"
      ],
      "metadata": {
        "id": "Qmzl-IIiLNNh"
      }
    },
    {
      "cell_type": "markdown",
      "source": [
        "Исследовать сходимость ряда\n",
        "\n",
        "$$\\frac{1000}{1!}+\\frac{1000^2}{2!}+\\,...\\,+\\frac{1000^n}{n!}+\\,...\\,=\\sum\\limits_{n=1}^{+\\infty}\\frac{1000^n}{n!}$$"
      ],
      "metadata": {
        "id": "cQlQh6zLLxEc"
      }
    },
    {
      "cell_type": "markdown",
      "source": [
        "## Задание 3*"
      ],
      "metadata": {
        "id": "9qX_AWvPLRHA"
      }
    },
    {
      "cell_type": "markdown",
      "source": [
        "Исследовать сходимость ряда\n",
        "\n",
        "$$\\frac{2\\cdot1!}{1}+\\frac{2^2\\cdot2!}{2^2}+\\,...\\,+\\frac{2^n\\cdot n!}{n^n}+\\,...\\,=\\sum\\limits_{n=1}^{+\\infty}\\frac{2^n\\cdot n!}{n^n}$$"
      ],
      "metadata": {
        "id": "obfnV-xRL1q2"
      }
    },
    {
      "cell_type": "markdown",
      "source": [
        "## Задание 4*"
      ],
      "metadata": {
        "id": "og5EMs4ILVtS"
      }
    },
    {
      "cell_type": "markdown",
      "source": [
        "Исследовать сходимость ряда\n",
        "\n",
        "$$\\frac{3\\cdot1!}{1}+\\frac{3^2\\cdot2!}{2^2}+\\,...\\,+\\frac{3^n\\cdot n!}{n^n}+\\,...\\,=\\sum\\limits_{n=1}^{+\\infty}\\frac{3^n\\cdot n!}{n^n}$$"
      ],
      "metadata": {
        "id": "ODno9yA0MNaN"
      }
    },
    {
      "cell_type": "markdown",
      "source": [
        "## Задание 5*"
      ],
      "metadata": {
        "id": "YZ06ZMgMLYq5"
      }
    },
    {
      "cell_type": "markdown",
      "source": [
        "Исследовать сходимость ряда\n",
        "$$-\\frac{\\sqrt1}{2}+\\frac{\\sqrt2}{3}-\\,...\\,+\\frac{(-1)^n\\sqrt n}{n+1}+\\,...\\,=\\sum\\limits_{n=1}^{+\\infty}\\frac{(-1)^n\\sqrt n}{n+1}$$"
      ],
      "metadata": {
        "id": "D6qILod0L-TL"
      }
    },
    {
      "cell_type": "markdown",
      "source": [
        "## Задание 6*"
      ],
      "metadata": {
        "id": "c8SqluhJLceJ"
      }
    },
    {
      "cell_type": "markdown",
      "source": [
        "Разложить функцию $y=e^x$ в ряд Маклорена, а так же в ряд Фурье на отрезке $[-\\pi, \\pi]$. Построить график функции и разложений."
      ],
      "metadata": {
        "id": "rIHknshdMSes"
      }
    }
  ],
  "metadata": {
    "colab": {
      "name": "Homework.ipynb",
      "toc_visible": true,
      "provenance": [],
      "collapsed_sections": [
        "RkZyeJsGFCAI",
        "P6Tga0plVRCF",
        "HUvYqDmnVd4U",
        "W3KS6W6eVf_p",
        "b6k2VK-3WEdh",
        "DGUJ3nU0WIQ4",
        "GD0mb1srZ5Pk",
        "hjHpqHFIZ7g0",
        "vN3dxtI2vf4Z",
        "aPz4HVszvoUH",
        "MB3Sk6rVvqIu",
        "OVfM9j6QvtLk",
        "LObzJ8JxvwW9",
        "e7QHMecxvydO",
        "PVsdEVj0v0pe",
        "IxUXVpagv3Nb",
        "ck8SRIm7v5gJ",
        "Ihm6ieuvwyAA",
        "YWYwgp-uxBAs",
        "9sZ9mR-NxDD8",
        "SbijR6_nxFfF",
        "LdMC37S0xGvY",
        "BHrxT4a_xHXQ",
        "R4ZRUrhOxNJE",
        "zCbW0RVWxNk9",
        "-qzdN6ho7gYu",
        "DuBWVR_S7kSu",
        "kC379_p2sI4l",
        "tWzTxfuwsNi8"
      ],
      "authorship_tag": "ABX9TyMXSeO6qMysjSwZnuKbSiZ/",
      "include_colab_link": true
    },
    "kernelspec": {
      "display_name": "Python 3",
      "name": "python3"
    },
    "language_info": {
      "name": "python"
    }
  },
  "nbformat": 4,
  "nbformat_minor": 0
}