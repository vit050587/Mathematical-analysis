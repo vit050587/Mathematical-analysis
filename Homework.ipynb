{
  "nbformat": 4,
  "nbformat_minor": 0,
  "metadata": {
    "colab": {
      "name": "Homework.ipynb",
      "provenance": [],
      "authorship_tag": "ABX9TyM5eUaEXhHh5mBpOzF7l3Sh",
      "include_colab_link": true
    },
    "kernelspec": {
      "name": "python3",
      "display_name": "Python 3"
    },
    "language_info": {
      "name": "python"
    }
  },
  "cells": [
    {
      "cell_type": "markdown",
      "metadata": {
        "id": "view-in-github",
        "colab_type": "text"
      },
      "source": [
        "<a href=\"https://colab.research.google.com/github/vit050587/Mathematical-analysis/blob/master/Homework.ipynb\" target=\"_parent\"><img src=\"https://colab.research.google.com/assets/colab-badge.svg\" alt=\"Open In Colab\"/></a>"
      ]
    },
    {
      "cell_type": "markdown",
      "source": [
        "# Урок 2"
      ],
      "metadata": {
        "id": "U56gYyF7EZ7B"
      }
    },
    {
      "cell_type": "markdown",
      "source": [
        "## Задание 1"
      ],
      "metadata": {
        "id": "4-gqu03pErzx"
      }
    },
    {
      "cell_type": "markdown",
      "source": [
        "__1.__ Представьте в виде __несократимой__ обыкновенной дроби:\n",
        "\n",
        "### $$а)\\,\\,\\, 0.(216);$$\n",
        "\n",
        "### $$б)\\,\\,\\, 1.0(01).$$"
      ],
      "metadata": {
        "id": "Hw73EM5IFH5R"
      }
    },
    {
      "cell_type": "markdown",
      "source": [
        "$$а)\\,\\,\\, 0.(216);$$\n",
        "$$a=0.(216)$$\n",
        "\n",
        "$$1000a=216.(216)$$\n",
        "\n",
        "$$1000a=216+0.(216)$$\n",
        "\n",
        "$$1000a=216+a$$\n",
        "\n",
        "$$999a=216$$\n",
        "\n",
        "$$a=\\frac{216}{999}$$\n",
        "\n",
        "$$0.(216)=\\frac{216}{999}$$\n",
        "\n",
        "***\n",
        "$$a=1.0(01)$$\n",
        "\n",
        "$$10a=10.(01)$$\n",
        "\n",
        "$$10a=10+0.(01)$$\n",
        "\n",
        "$$0.(01)=\\frac{1}{99}$$\n",
        "\n",
        "$$10a=10+\\frac{1}{99}=\\frac{990}{99}+\\frac{1}{99}=\\frac{1000}{99}$$\n",
        "\n",
        "$$a=\\frac{1000}{990}=\\frac{100}{99}$$\n"
      ],
      "metadata": {
        "id": "ytJg2P98d-O6"
      }
    },
    {
      "cell_type": "markdown",
      "source": [
        "## Задание 2"
      ],
      "metadata": {
        "id": "rUXHjv-GE064"
      }
    },
    {
      "cell_type": "markdown",
      "source": [
        "__2*.__ Пусть $x =\\frac{2}{21}$. Известно, что для некоторого натурального $k$ число $x$ записывается в $k$ - ичной системе счисления как $0.(13)_k = 0, 131313..._k$. Найдите $k$."
      ],
      "metadata": {
        "id": "uDE4ogSfFNWa"
      }
    },
    {
      "cell_type": "markdown",
      "source": [
        "## Задание 3"
      ],
      "metadata": {
        "id": "_86UYddvE2mo"
      }
    },
    {
      "cell_type": "markdown",
      "source": [
        "__3.__ Проверьте любым способ, является ли данные логические формулы тавтологией:\n",
        "\n",
        "### $$a)\\,\\,\\, (A \\vee B) \\rightarrow (B \\vee\\overline A)$$\n",
        "### $$б)\\,\\,\\, A \\rightarrow (A \\vee (\\overline B \\wedge A))$$"
      ],
      "metadata": {
        "id": "bucpJUmdFT7J"
      }
    },
    {
      "cell_type": "markdown",
      "source": [
        "\n",
        " <table>\n",
        "<thead>\n",
        "<tr><th>$A$</th><th>$B$</th><th>$(A\\vee B)$</th><th>$(B\\vee \\overline A)$</th>\n",
        "</thead>\n",
        "<tbody>\n",
        "    <tr><td>$1$</td><td>$0$</td><td>$1$</td><td>$0$</td></tr>\n",
        "    <tr><td>$0$</td><td>$1$</td><td>$1$</td><td>$1$</td></tr>\n",
        "    <tr><td>$1$</td><td>$1$</td><td>$1$</td><td>$1$</td></tr>\n",
        "    <tr><td>$0$</td><td>$0$</td><td>$0$</td><td>$1$</td></tr>\n",
        "\n",
        "\n",
        "</tbody>\n",
        "</table>\n",
        "\n",
        " <table>\n",
        "<thead>\n",
        "<tr><th>$A$</th><th>$B$</th><th>$(\\overline B\\wedge A)$</th><th>$(A\\vee 1)$</th>\n",
        "</thead>\n",
        "<tbody>\n",
        "    <tr><td>$1$</td><td>$0$</td><td>$1$</td><td>$1$</td></tr>\n",
        "    <tr><td>$0$</td><td>$1$</td><td>$0$</td><td>$1$</td></tr>\n",
        "    <tr><td>$1$</td><td>$1$</td><td>$0$</td><td>$1$</td></tr>\n",
        "    <tr><td>$0$</td><td>$0$</td><td>$0$</td><td>$0$</td></tr>\n",
        "\n",
        "\n",
        "</tbody>\n",
        "</table>\n",
        "\n",
        "Итог: Тавтологиями не являются обе формулы!"
      ],
      "metadata": {
        "id": "H9e-rnpjib4k"
      }
    },
    {
      "cell_type": "markdown",
      "source": [
        "## Задание 4"
      ],
      "metadata": {
        "id": "GUIWJkheE5Vi"
      }
    },
    {
      "cell_type": "markdown",
      "source": [
        "__4.__ Сформулируйте словесно высказывания:\n",
        "### $$a)\\,\\,\\, (\\overline A \\vee B) \\rightarrow \\overline C$$\n",
        "### $$б)\\,\\,\\, C \\rightarrow (A \\vee \\overline B)$$\n",
        "\n",
        "- $A:\\,\\,\\,$ сегодня светит солнце; \n",
        "- $B:\\,\\,\\,$ сегодня сыро; \n",
        "- $C:\\,\\,\\,$ я поеду на дачу. "
      ],
      "metadata": {
        "id": "F2hn7yyNND7g"
      }
    },
    {
      "cell_type": "markdown",
      "source": [
        "a) **Если** сегодня **не** светит солнце **или** сыро, **то** я **не** поеду на дачу.\n",
        "б) **Если** я поехал на дачу, **то** сегодня светит солнце **или не** сыро."
      ],
      "metadata": {
        "id": "8FFolxnVncLh"
      }
    },
    {
      "cell_type": "markdown",
      "source": [
        "## Задание 5"
      ],
      "metadata": {
        "id": "H4NKavpFE72a"
      }
    },
    {
      "cell_type": "markdown",
      "source": [
        "__5.__  Пользуясь правилом построения противоположного высказывания, запишите утверждения, противоположные следующим:\n",
        "\n",
        "a) На любом курсе каждого факультета есть студенты, сдающие все экзамены на «отлично».\n",
        "\n",
        "б) В любом самолете на рейсе Вашингтон-Москва присутствует хотя бы один сотрудник силовых органов, в каждой пуговице одежды которого вмонтирован микрофон."
      ],
      "metadata": {
        "id": "klTLrUC2NFa_"
      }
    },
    {
      "cell_type": "markdown",
      "source": [
        "$\\exists$  $\\forall$\n",
        "На $\\forall$ курсе $\\forall$ факультета есть $\\exists$ студенты, сдающие $\\forall$ экзамены на «отлично».\n",
        "\n",
        "На $\\exists$ **(определенных)** курсах $\\exists$ **(некоторых)** факультетах $\\forall$ **(все)** студенты **не сдают** $\\exists$ **(некоторые)** экзамены на \"отлично\".\n",
        "***\n",
        "В $\\forall$ самолете на $\\exists$ рейсе Вашингтон-Москва присутствует $\\exists$ сотрудник силовых органов, в $\\forall$ пуговице одежды которого вмонтирован микрофон.\n",
        "\n",
        "В $\\exists$ **(только)** самолете на $\\forall$ **(всех)** рейсах Вашингтон-Москва присутствуют $\\forall$ сотрудники силовых органов, в $\\exists$ **(одной)**  пуговице одежды которых вмонтирован микрофон."
      ],
      "metadata": {
        "id": "Qo9woa2ho0OW"
      }
    },
    {
      "cell_type": "markdown",
      "source": [
        "## Задание 6*"
      ],
      "metadata": {
        "id": "RkZyeJsGFCAI"
      }
    },
    {
      "cell_type": "markdown",
      "source": [
        "__6*.__ Прочитайте высказывания, установите их истинность и постройте противоположное высказывание:\n",
        "\n",
        "### $$a)\\,\\,\\, \\forall x\\in\\mathbb{R}\\,\\,\\,\\exists X\\in\\mathbb{R}:\\,\\,\\, X>x;$$\n",
        "### $$б)\\,\\,\\, \\forall y\\in\\Bigl[0; \\frac{\\pi}{2}\\Bigr]\\,\\,\\,\\exists \\varepsilon>0:\\,\\,\\, \\sin y<\\sin(y+\\varepsilon);$$\n",
        "### $$в)\\,\\,\\, \\forall y\\in\\Bigl[0; \\pi\\Bigr)\\,\\,\\,\\exists \\varepsilon>0:\\,\\,\\, \\cos y>\\cos(y+\\varepsilon).$$"
      ],
      "metadata": {
        "id": "y4EHwo0JNUog"
      }
    }
  ]
}