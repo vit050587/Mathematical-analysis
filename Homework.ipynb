{
  "cells": [
    {
      "cell_type": "markdown",
      "metadata": {
        "id": "view-in-github",
        "colab_type": "text"
      },
      "source": [
        "<a href=\"https://colab.research.google.com/github/vit050587/Mathematical-analysis/blob/master/Homework.ipynb\" target=\"_parent\"><img src=\"https://colab.research.google.com/assets/colab-badge.svg\" alt=\"Open In Colab\"/></a>"
      ]
    },
    {
      "cell_type": "markdown",
      "metadata": {
        "id": "U56gYyF7EZ7B"
      },
      "source": [
        "# Урок 2"
      ]
    },
    {
      "cell_type": "markdown",
      "metadata": {
        "id": "4-gqu03pErzx"
      },
      "source": [
        "## Задание 1"
      ]
    },
    {
      "cell_type": "markdown",
      "metadata": {
        "id": "Hw73EM5IFH5R"
      },
      "source": [
        "__1.__ Представьте в виде __несократимой__ обыкновенной дроби:\n",
        "\n",
        "$$а)\\,\\,\\, 0.(216);$$\n",
        "\n",
        "$$б)\\,\\,\\, 1.0(01).$$"
      ]
    },
    {
      "cell_type": "markdown",
      "metadata": {
        "id": "ytJg2P98d-O6"
      },
      "source": [
        "$$а)\\,\\,\\, 0.(216);$$\n",
        "$$a=0.(216)$$\n",
        "\n",
        "$$1000a=216.(216)$$\n",
        "\n",
        "$$1000a=216+0.(216)$$\n",
        "\n",
        "$$1000a=216+a$$\n",
        "\n",
        "$$999a=216$$\n",
        "\n",
        "$$a=\\frac{216}{999}$$\n",
        "\n",
        "$$0.(216)=\\frac{216}{999}$$\n",
        "\n",
        "***\n",
        "$$a=1.0(01)$$\n",
        "\n",
        "$$10a=10.(01)$$\n",
        "\n",
        "$$10a=10+0.(01)$$\n",
        "\n",
        "$$0.(01)=\\frac{1}{99}$$\n",
        "\n",
        "$$10a=10+\\frac{1}{99}=\\frac{990}{99}+\\frac{1}{99}=\\frac{1000}{99}$$\n",
        "\n",
        "$$a=\\frac{1000}{990}=\\frac{100}{99}$$\n"
      ]
    },
    {
      "cell_type": "markdown",
      "metadata": {
        "id": "rUXHjv-GE064"
      },
      "source": [
        "## Задание 2"
      ]
    },
    {
      "cell_type": "markdown",
      "metadata": {
        "id": "uDE4ogSfFNWa"
      },
      "source": [
        "__2*.__ Пусть $x =\\frac{2}{21}$. Известно, что для некоторого натурального $k$ число $x$ записывается в $k$ - ичной системе счисления как $0.(13)_k = 0, 131313..._k$. Найдите $k$."
      ]
    },
    {
      "cell_type": "markdown",
      "metadata": {
        "id": "_86UYddvE2mo"
      },
      "source": [
        "## Задание 3"
      ]
    },
    {
      "cell_type": "markdown",
      "metadata": {
        "id": "bucpJUmdFT7J"
      },
      "source": [
        "__3.__ Проверьте любым способ, является ли данные логические формулы тавтологией:\n",
        "\n",
        "$$a)\\,\\,\\, (A \\vee B) \\rightarrow (B \\vee\\overline A)$$\n",
        "$$б)\\,\\,\\, A \\rightarrow (A \\vee (\\overline B \\wedge A))$$"
      ]
    },
    {
      "cell_type": "markdown",
      "metadata": {
        "id": "H9e-rnpjib4k"
      },
      "source": [
        "\n",
        " <table>\n",
        "<thead>\n",
        "<tr><th>$A$</th><th>$B$</th><th>$(A\\vee B)$</th><th>$(B\\vee \\overline A)$</th>\n",
        "</thead>\n",
        "<tbody>\n",
        "    <tr><td>$1$</td><td>$0$</td><td>$1$</td><td>$0$</td></tr>\n",
        "    <tr><td>$0$</td><td>$1$</td><td>$1$</td><td>$1$</td></tr>\n",
        "    <tr><td>$1$</td><td>$1$</td><td>$1$</td><td>$1$</td></tr>\n",
        "    <tr><td>$0$</td><td>$0$</td><td>$0$</td><td>$1$</td></tr>\n",
        "\n",
        "\n",
        "</tbody>\n",
        "</table>\n",
        "\n",
        " <table>\n",
        "<thead>\n",
        "<tr><th>$A$</th><th>$B$</th><th>$(\\overline B\\wedge A)$</th><th>$(A\\vee 1)$</th>\n",
        "</thead>\n",
        "<tbody>\n",
        "    <tr><td>$1$</td><td>$0$</td><td>$1$</td><td>$1$</td></tr>\n",
        "    <tr><td>$0$</td><td>$1$</td><td>$0$</td><td>$1$</td></tr>\n",
        "    <tr><td>$1$</td><td>$1$</td><td>$0$</td><td>$1$</td></tr>\n",
        "    <tr><td>$0$</td><td>$0$</td><td>$0$</td><td>$0$</td></tr>\n",
        "\n",
        "\n",
        "</tbody>\n",
        "</table>\n",
        "\n",
        "Итог: Тавтологиями не являются обе формулы!"
      ]
    },
    {
      "cell_type": "markdown",
      "metadata": {
        "id": "GUIWJkheE5Vi"
      },
      "source": [
        "## Задание 4"
      ]
    },
    {
      "cell_type": "markdown",
      "metadata": {
        "id": "F2hn7yyNND7g"
      },
      "source": [
        "__4.__ Сформулируйте словесно высказывания:\n",
        "$$a)\\,\\,\\, (\\overline A \\vee B) \\rightarrow \\overline C$$\n",
        "$$б)\\,\\,\\, C \\rightarrow (A \\vee \\overline B)$$\n",
        "\n",
        "- $A:\\,\\,\\,$ сегодня светит солнце; \n",
        "- $B:\\,\\,\\,$ сегодня сыро; \n",
        "- $C:\\,\\,\\,$ я поеду на дачу. "
      ]
    },
    {
      "cell_type": "markdown",
      "metadata": {
        "id": "8FFolxnVncLh"
      },
      "source": [
        "a) **Если** сегодня **не** светит солнце **или** сыро, **то** я **не** поеду на дачу.\n",
        "б) **Если** я поехал на дачу, **то** сегодня светит солнце **или не** сыро."
      ]
    },
    {
      "cell_type": "markdown",
      "metadata": {
        "id": "H4NKavpFE72a"
      },
      "source": [
        "## Задание 5"
      ]
    },
    {
      "cell_type": "markdown",
      "metadata": {
        "id": "klTLrUC2NFa_"
      },
      "source": [
        "__5.__  Пользуясь правилом построения противоположного высказывания, запишите утверждения, противоположные следующим:\n",
        "\n",
        "a) На любом курсе каждого факультета есть студенты, сдающие все экзамены на «отлично».\n",
        "\n",
        "б) В любом самолете на рейсе Вашингтон-Москва присутствует хотя бы один сотрудник силовых органов, в каждой пуговице одежды которого вмонтирован микрофон."
      ]
    },
    {
      "cell_type": "markdown",
      "metadata": {
        "id": "Qo9woa2ho0OW"
      },
      "source": [
        "$\\exists$  $\\forall$\n",
        "На $\\forall$ курсе $\\forall$ факультета есть $\\exists$ студенты, сдающие $\\forall$ экзамены на «отлично».\n",
        "\n",
        "На $\\exists$ **(определенных)** курсах $\\exists$ **(некоторых)** факультетах $\\forall$ **(все)** студенты **не сдают** $\\exists$ **(некоторые)** экзамены на \"отлично\".\n",
        "***\n",
        "В $\\forall$ самолете на $\\exists$ рейсе Вашингтон-Москва присутствует $\\exists$ сотрудник силовых органов, в $\\forall$ пуговице одежды которого вмонтирован микрофон.\n",
        "\n",
        "В $\\exists$ **(только)** самолете на $\\forall$ **(всех)** рейсах Вашингтон-Москва присутствуют $\\forall$ сотрудники силовых органов, в $\\exists$ **(одной)**  пуговице одежды которых вмонтирован микрофон."
      ]
    },
    {
      "cell_type": "markdown",
      "metadata": {
        "id": "RkZyeJsGFCAI"
      },
      "source": [
        "## Задание 6*"
      ]
    },
    {
      "cell_type": "markdown",
      "metadata": {
        "id": "y4EHwo0JNUog"
      },
      "source": [
        "__6*.__ Прочитайте высказывания, установите их истинность и постройте противоположное высказывание:\n",
        "\n",
        "$$a)\\,\\,\\, \\forall x\\in\\mathbb{R}\\,\\,\\,\\exists X\\in\\mathbb{R}:\\,\\,\\, X>x;$$\n",
        "$$б)\\,\\,\\, \\forall y\\in\\Bigl[0; \\frac{\\pi}{2}\\Bigr]\\,\\,\\,\\exists \\varepsilon>0:\\,\\,\\, \\sin y<\\sin(y+\\varepsilon);$$\n",
        "$$в)\\,\\,\\, \\forall y\\in\\Bigl[0; \\pi\\Bigr)\\,\\,\\,\\exists \\varepsilon>0:\\,\\,\\, \\cos y>\\cos(y+\\varepsilon).$$"
      ]
    },
    {
      "cell_type": "markdown",
      "metadata": {
        "id": "tgu_IYqVVNBW"
      },
      "source": [
        "# Урок 3"
      ]
    },
    {
      "cell_type": "code",
      "execution_count": 1,
      "metadata": {
        "id": "gIMAgU7HW3D6"
      },
      "outputs": [],
      "source": [
        "import math\n",
        "from sympy import *"
      ]
    },
    {
      "cell_type": "markdown",
      "metadata": {
        "id": "P6Tga0plVRCF"
      },
      "source": [
        "## Задание 1"
      ]
    },
    {
      "cell_type": "markdown",
      "metadata": {
        "id": "BXC1BjIrVpaK"
      },
      "source": [
        "Найти предел последовательности:\n",
        "\n",
        "$$а)\\,\\,\\,\\,\\lim_{n\\to \\infty} \\frac{(23-2n^2)(3n^2+17)^2}{4n^6+n-1}$$\n",
        "\n",
        "$$б)\\,\\,\\,\\,\\lim_{n\\to \\infty} \\frac{(97-2n)^3}{2n(3n^2+15)+8n}$$\n",
        "\n",
        "$$в)\\,\\,\\,\\,\\lim_{n\\to \\infty} \\frac{2n^3+13n(n+18)}{(27-n)(2n+19)^2}$$\n",
        "\n",
        "$$г)\\,\\,\\,\\,\\lim_{n\\to \\infty} (\\sqrt{n^2+1}-n)$$\n",
        "\n",
        "$$д)\\,\\,\\,\\,\\lim_{n\\to \\infty} \\frac{(-4)^n+5\\cdot7^n}{(-4)^{n-1}+7^{n+2}}$$\n",
        "\n",
        "$$e)^*\\,\\,\\,\\,\\lim_{n\\to \\infty} \\Bigl(\\frac{1}{1\\cdot2}+\\frac{1}{2\\cdot3}+\\frac{1}{3\\cdot4}+...+\\frac{1}{(n-1)\\cdot n}\\Bigr)$$"
      ]
    },
    {
      "cell_type": "markdown",
      "metadata": {
        "id": "42u9F9ArmFTD"
      },
      "source": [
        "$$а)\\,\\,\\,\\,\\lim_{n\\to \\infty} \\frac{(23-2n^2)(3n^2+17)^2}{4n^6+n-1}$$\n",
        "Предел числителя\n",
        "$$\\,\\,\\,\\,\\lim_{n\\to \\infty} {(23-2n^2)(3n^2+17)^2}$$\n",
        "$$\\,\\,\\,\\,\\lim_{n\\to \\infty} {(23-2n^2)(9n^4+102n^2+289)}$$\n",
        "$$\\,\\,\\,\\,\\lim_{n\\to \\infty} {(207n^4+2346n^2+6647-18n^6-204n^4-578n^2)}$$\n",
        "$$\\,\\,\\,\\,\\lim_{n\\to \\infty} {(207n^4+2346n^2+6647-18n^6-204n^4-578n^2)}$$\n",
        "$$\\,\\,\\,\\,\\lim_{n\\to \\infty} {(3n^4+1768n^2+6647-18n^6)}$$\n",
        "$$\\,\\,\\,\\,\\lim_{n\\to \\infty} {(-18n^6+3n^4+1768n^2+6647)}$$\n",
        "старший коэфициент $${-\\infty}$$\n",
        "Предел знаменателя\n",
        "$$\\,\\,\\,\\,\\lim_{n\\to \\infty} {4n^6+n-1}$$\n",
        "старший коэфициент $${+\\infty}$$\n",
        "$$=\\Bigl(\\frac{\\infty}{\\infty}\\Bigr)$$\n",
        "$$а)\\,\\,\\,\\,\\lim_{n\\to \\infty} \\frac{-18n^6+3n^4+1768n^2+6647}{4n^6+n-1}$$\n",
        "Выносим $${n^6}$$ в числителе и знаменателе и сокращаем дробь\n",
        "$$\\lim_{n\\to \\infty} \\frac{6n^6(\\frac{3}{n^2}+\\frac{1768}{n^4}+\\frac{6647}{n^6}-18)}{n^6(4+\\frac{1}{n^5}-\\frac{1}{n^6})}$$\n",
        "$${-\\frac{9}{2}}=-4.5$$\n",
        "***\n",
        "$$б)\\,\\,\\,\\,\\lim_{n\\to \\infty} \\frac{(97-2n)^3}{2n(3n^2+15)+8n}$$\n",
        "...\n",
        "$${-\\frac{4}{3}}={-1\\frac{1}{3}}$$\n",
        "***\n",
        "$$в)\\,\\,\\,\\,\\lim_{n\\to \\infty} \\frac{2n^3+13n(n+18)}{(27-n)(2n+19)^2}$$\n",
        "...\n",
        "$${-\\frac{1}{2}}=-0.5$$\n",
        "***\n",
        "$$г)\\,\\,\\,\\,\\lim_{n\\to \\infty} (\\sqrt{n^2+1}-n)$$\n",
        "... \n",
        "$$0$$\n",
        "***\n",
        "$$д)\\,\\,\\,\\,\\lim_{n\\to \\infty} \\frac{(-4)^n+5\\cdot7^n}{(-4)^{n-1}+7^{n+2}}$$\n",
        "...\n",
        "***\n",
        "$$e)^*\\,\\,\\,\\,\\lim_{n\\to \\infty} \\Bigl(\\frac{1}{1\\cdot2}+\\frac{1}{2\\cdot3}+\\frac{1}{3\\cdot4}+...+\\frac{1}{(n-1)\\cdot n}\\Bigr)$$\n",
        "...\n"
      ]
    },
    {
      "cell_type": "markdown",
      "metadata": {
        "id": "HUvYqDmnVd4U"
      },
      "source": [
        "## Задание 2"
      ]
    },
    {
      "cell_type": "markdown",
      "metadata": {
        "id": "W-hWpiR7V0y_"
      },
      "source": [
        "Представьте $1$ в виде суммы трех обыкновенных дробей с разными знаменателями и числителем равным $1$."
      ]
    },
    {
      "cell_type": "markdown",
      "metadata": {
        "id": "bYIJXDoysivu"
      },
      "source": [
        "$$\\frac{1}{2}+\\frac{1}{3}+\\frac{1}{6}=1$$"
      ]
    },
    {
      "cell_type": "markdown",
      "metadata": {
        "id": "W3KS6W6eVf_p"
      },
      "source": [
        "## Задание 3*"
      ]
    },
    {
      "cell_type": "markdown",
      "metadata": {
        "id": "SmsDKKUkWC0a"
      },
      "source": [
        "Тоже задание, только в виде суммы шести дробей."
      ]
    },
    {
      "cell_type": "markdown",
      "metadata": {
        "id": "hk1bGgxFeDK8"
      },
      "source": [
        "$$\\frac{1}{3}+\\frac{1}{6}+\\frac{1}{4}+\\frac{1}{12}+\\frac{1}{8}+\\frac{1}{24}=1$$"
      ]
    },
    {
      "cell_type": "markdown",
      "metadata": {
        "id": "b6k2VK-3WEdh"
      },
      "source": [
        "## Задание 4"
      ]
    },
    {
      "cell_type": "markdown",
      "metadata": {
        "id": "ZKWXrvu8WRMn"
      },
      "source": [
        "Пользуясь критерием Коши, докажите сходимость последовательности:\n",
        "\n",
        "$$a_n=\\frac{\\sin1}{2}+\\frac{\\sin2}{2^2}+\\frac{\\sin3}{2^3}+..\\frac{\\sin n}{2^n}\\,\\,\\,\\,\\,\\Rightarrow$$\n",
        "\n",
        "$$\\Bigl\\{a_n\\Bigr\\}_{n=1}^\\infty=\\Bigl\\{\\frac{\\sin1}{2}, \\frac{\\sin1}{2}+\\frac{\\sin2}{2^2}, ..., a_n,...\\Bigr\\}$$\n",
        "\n",
        "\n",
        "$^*$ Какой член последовательности можно взять в качестве предела с точностью $\\varepsilon=10^{-7}$?"
      ]
    },
    {
      "cell_type": "markdown",
      "metadata": {
        "id": "DGUJ3nU0WIQ4"
      },
      "source": [
        "## Задание 5"
      ]
    },
    {
      "cell_type": "markdown",
      "metadata": {
        "id": "l6xaQgjwWYgD"
      },
      "source": [
        "Пользуясь критерием Коши, докажите расходимость последовательности:\n",
        "\n",
        "$$b_n=1+\\frac{1}{2}+\\frac{1}{3}+..\\frac{1}{n}\\,\\,\\,\\,\\,\\Rightarrow$$\n",
        "\n",
        "$$\\Bigl\\{b_n\\Bigr\\}_{n=1}^\\infty=\\Bigl\\{1, 1+\\frac{1}{2},1+\\frac{1}{2}+\\frac{1}{3}, ..., b_n,...\\Bigr\\}$$"
      ]
    },
    {
      "cell_type": "markdown",
      "metadata": {
        "id": "R1-gJKMpZ0zh"
      },
      "source": [
        "# Урок 4"
      ]
    },
    {
      "cell_type": "markdown",
      "metadata": {
        "id": "GD0mb1srZ5Pk"
      },
      "source": [
        "## Задание 1"
      ]
    },
    {
      "cell_type": "markdown",
      "metadata": {
        "id": "piPmJ8xYaI4w"
      },
      "source": [
        " Найти предел функции:\n",
        "\n",
        "$$а)\\,\\,\\,\\,\\lim_{x\\to 6} \\frac{x^2-36}{x^2-x-30}$$\n",
        "\n",
        "$$б)\\,\\,\\,\\,\\lim_{x\\to 7} \\frac{x^2-49}{x^2-13x+42}$$\n",
        "\n",
        "$$в^*)\\,\\,\\,\\,\\lim_{x\\to 7} \\frac{\\sqrt{x+2}-\\sqrt[3]{x+20}}{\\sqrt[4]{x+9}-2}$$\n",
        "\n",
        "$$г)\\,\\,\\,\\,\\lim_{x\\to 0} \\frac{3x\\,\\mbox{tg}\\,4x}{1-\\cos4x}$$\n",
        "\n",
        "$$д^{**})\\,\\,\\,\\,\\lim_{x\\to 0} \\frac{\\sqrt2x^2\\sin4x}{(1-\\cos2x)^{\\frac{3}{2}}}$$\n",
        "\n",
        "$$е)\\,\\,\\,\\,\\lim_{x\\to \\infty} \\Bigr(\\frac{4x}{4x+3}\\Bigl)^\\frac{5x^2}{7x-1}$$\n",
        "\n",
        "$$ж^*)\\,\\,\\,\\,\\lim_{x\\to +0} \\frac{5^x-1}{x}$$\n",
        "\n",
        "$$з^*)\\,\\,\\,\\,\\lim_{x\\to +\\infty} \\frac{\\ln(x^2-x+1)}{\\ln(x^{10}+x+1)}$$"
      ]
    },
    {
      "cell_type": "markdown",
      "metadata": {
        "id": "58JX2vcH1j8H"
      },
      "source": [
        "$$а)\\,\\,\\,\\,\\lim_{x\\to 6} \\frac{x^2-36}{x^2-x-30}$$\n",
        "Решение:\n",
        "\n"
      ]
    },
    {
      "cell_type": "markdown",
      "metadata": {
        "id": "U35iQAznbDJH"
      },
      "source": [
        "$$а)\\,\\,\\,\\,\\lim_{x\\to 6} \\frac{x^2-36}{x^2-x-30}$$\n",
        "Выражение является неопределенностью \n",
        "$$\\frac{0}{0}$$\n",
        "раскладываем на множетели\n",
        "$$\\,\\,\\,\\,\\lim_{x\\to 6} \\frac{(x-6)(x+6)}{x^2-x-30}$$\n",
        "$$\\,\\,\\,\\,\\lim_{x\\to 6} \\frac{(x-6)(x+6)}{x^2+5x-6x-30}$$\n",
        "$$\\,\\,\\,\\,\\lim_{x\\to 6}\\frac{(x-6)(x+6)}{x(x+5)-6(x+5)}$$\n",
        "$$\\,\\,\\,\\,\\lim_{x\\to 6}\\frac{(x-6)(x+6)}{(x+5)(x-6)}$$\n",
        "Сокращаем дробь\n",
        "$$\\,\\,\\,\\,\\lim_{x\\to 6}\\frac{x+6}{x+5}$$\n",
        "Вычисляем предел\n",
        "$$\\,\\,\\,\\,\\lim_{x\\to 6}\\frac{6+6}{6+5}=\\frac{12}{11}=1\\frac{1}{11}$$\n",
        "***\n",
        "$$б)\\,\\,\\,\\,\\lim_{x\\to 7} \\frac{x^2-49}{x^2-13x+42}$$\n",
        "...\n",
        "$$\\frac{0}{0}$$\n",
        "Раскладываем на множетели и сокращаем дробь\n",
        "$$\\,\\,\\,\\,\\lim_{x\\to 7}\\frac{x+7}{x-6}$$\n",
        "Вычисляем предел\n",
        "$${14}$$\n",
        "***\n",
        "$$в^*)\\,\\,\\,\\,\\lim_{x\\to 7} \\frac{\\sqrt{x+2}-\\sqrt[3]{x+20}}{\\sqrt[4]{x+9}-2}$$\n",
        "***\n",
        "$$г)\\,\\,\\,\\,\\lim_{x\\to 0} \\frac{3x\\,\\mbox{tg}\\,4x}{1-\\cos4x}$$\n",
        "Форма предела неопределенная используем правило Лопиталя\n",
        "$$\\lim_{x\\to 0} \\frac{\\frac{d}{dx}(3x\\mbox{tg}4x)}{\\frac{d}{dx}(1-\\cos4x)}$$\n",
        "...\n",
        "$$\\,\\,\\,\\,\\lim_{x\\to 0} \\frac{3x\\,\\sin4x+24}{8\\cos(4x)^2 \\sin4x}$$\n",
        "Вычисление предела \n",
        "$$\\,\\,\\,\\,\\,\\frac{3\\sin(8*0)+3}{4(-2\\cos(4*0)\\sin(4*0)^2 +\\cos(4*0)^3}$$\n",
        "$$\\,\\,\\,\\,\\frac{3}{2}= 1\\frac{1}{2}={1.5}$$\n",
        "***\n",
        "$$д^{**})\\,\\,\\,\\,\\lim_{x\\to 0} \\frac{\\sqrt2x^2\\sin4x}{(1-\\cos2x)^{\\frac{3}{2}}}$$\n",
        "***\n",
        "$$е)\\,\\,\\,\\,\\lim_{x\\to \\infty} \\Bigr(\\frac{4x}{4x+3}\\Bigl)^\\frac{5x^2}{7x-1}$$\n",
        "$$=e^{\\lim_{x\\to \\infty} \\Bigr(\\frac{4x}{4x+3}-1\\Bigl)\\cdot\\frac{5x^2}{7x-1}}=$$\n",
        "$$=e^{\\lim_{x\\to \\infty} \\frac{-3}{4x+3}\\cdot\\frac{5x^2}{7x-1}}=$$\n",
        "$$=e^{\\frac{-3\\cdot5}{4\\cdot7}}=e^{-\\frac{15}{28}}$$\n",
        "***\n",
        "$$ж^*)\\,\\,\\,\\,\\lim_{x\\to +0} \\frac{5^x-1}{x}$$\n",
        "...\n",
        "$${\\ln(5)}$$\n",
        "***\n",
        "$$з^*)\\,\\,\\,\\,\\lim_{x\\to +\\infty} \\frac{\\ln(x^2-x+1)}{\\ln(x^{10}+x+1)}$$\n",
        "Выражение является неопределенностью \n",
        "$$\\frac{\\infty}{\\infty}$$\n",
        "Сокращение дроби\n",
        "$$\\lim_{x\\to +\\infty} \\frac{\\ln(x^2)+\\ln(1-\\frac{1}{x}+\\frac{1}{x^2})}{\\ln(x^{10})+\\ln(1+\\frac{1}{x^9}+\\frac{1}{x^{10}})}$$\n",
        "\n",
        "$$\\,\\,\\,\\,\\lim_{x\\to +\\infty} =\\frac{2\\ln(\\infty)}{10\\ln(\\infty)}$$\n",
        "$$\\,\\,\\,\\,\\lim_{x\\to +\\infty} =\\frac{2}{10}=\\frac{1}{5}$$\n",
        "\n",
        "\n",
        "\n",
        "\n"
      ]
    },
    {
      "cell_type": "markdown",
      "metadata": {
        "id": "hjHpqHFIZ7g0"
      },
      "source": [
        "## Задание 2*"
      ]
    },
    {
      "cell_type": "markdown",
      "metadata": {
        "id": "-3EfcnCgaQgj"
      },
      "source": [
        " На языке Python предложить алгоритм вычисляющий численно предел последовательности\n",
        "\n",
        "$$\\lim_{n\\to +\\infty} \\frac{n}{\\sqrt[n]{n!}}$$"
      ]
    },
    {
      "cell_type": "code",
      "execution_count": 2,
      "metadata": {
        "id": "rboTJWc8OpE3"
      },
      "outputs": [],
      "source": [
        "from math import lgamma  #lgamma(n) = ln((n-1)!)\n",
        "import numpy as np\n",
        "import math\n",
        "from decimal import Decimal\n",
        "import time"
      ]
    },
    {
      "cell_type": "code",
      "execution_count": 3,
      "metadata": {
        "colab": {
          "base_uri": "https://localhost:8080/"
        },
        "id": "z3OW4FNBO1rp",
        "outputId": "6fdaa179-b5ae-4511-c172-bd205ed5895e"
      },
      "outputs": [
        {
          "output_type": "stream",
          "name": "stdout",
          "text": [
            "2.684030488771894142063369175 0.000099697432711786705996101 297\n",
            "3.646732807159424 seconds\n"
          ]
        }
      ],
      "source": [
        "start_time = time.time()\n",
        "\n",
        "def f(n):\n",
        "    b = math.factorial(n)\n",
        "    a = n / b**(1 / n)\n",
        "    return a\n",
        "\n",
        "acc = 0.0001\n",
        "i=Decimal(2)\n",
        "\n",
        "while(abs(f(i) - f(i-1))) > acc:\n",
        "    i +=1\n",
        "print(f(i), abs(f(i)-f(i-1)), i)\n",
        "print(\"%s seconds\" % (time.time() - start_time))"
      ]
    },
    {
      "cell_type": "markdown",
      "metadata": {
        "id": "lottVugivZeV"
      },
      "source": [
        "# Урок 5"
      ]
    },
    {
      "cell_type": "markdown",
      "metadata": {
        "id": "vN3dxtI2vf4Z"
      },
      "source": [
        "## Задание 1"
      ]
    },
    {
      "cell_type": "code",
      "execution_count": 4,
      "metadata": {
        "id": "TgtN02MzTMdV"
      },
      "outputs": [],
      "source": [
        "from sympy import *\n",
        "init_printing()"
      ]
    },
    {
      "cell_type": "markdown",
      "metadata": {
        "id": "L8QnT7zdv_tT"
      },
      "source": [
        "Найти производную функции:\n",
        "\n",
        "$$y=\\frac{1}{x}+\\frac{2}{x^2}-\\frac{5}{x^3}+\\sqrt x -\\sqrt[3]x+\\frac{3}{\\sqrt x}$$"
      ]
    },
    {
      "cell_type": "code",
      "execution_count": 5,
      "metadata": {
        "colab": {
          "base_uri": "https://localhost:8080/",
          "height": 0
        },
        "id": "NVSOih0UWQnT",
        "outputId": "d6bc4519-cace-42c5-b322-a7daad80260d"
      },
      "outputs": [
        {
          "output_type": "execute_result",
          "data": {
            "text/plain": [
              "  3⋅√x   1    4    15    1       3   \n",
              "- ──── - ── - ── + ── + ──── - ──────\n",
              "   2      2    3    4   2⋅√x      3/2\n",
              "         x    x    x           2⋅x   "
            ],
            "image/png": "[encoded data removed]",
            "text/latex": "$\\displaystyle - \\frac{3 \\sqrt{x}}{2} - \\frac{1}{x^{2}} - \\frac{4}{x^{3}} + \\frac{15}{x^{4}} + \\frac{1}{2 \\sqrt{x}} - \\frac{3}{2 x^{\\frac{3}{2}}}$"
          },
          "metadata": {},
          "execution_count": 5
        }
      ],
      "source": [
        "x = Symbol('x')\n",
        "#y = 1 / x + 2 / x**2 - 5 / x**3 + sqrt(x) - x**(1/3) + 3 / sqrt(x)\n",
        "y = 1 / x + 2 / x**2 - 5 / x**3 + sqrt(x) - sqrt(x)**3 + 3 / sqrt(x)\n",
        "diff(y, x)"
      ]
    },
    {
      "cell_type": "markdown",
      "metadata": {
        "id": "aPz4HVszvoUH"
      },
      "source": [
        "## Задание 2"
      ]
    },
    {
      "cell_type": "markdown",
      "metadata": {
        "id": "QVQDQRilwG4q"
      },
      "source": [
        "Найти производную функции:\n",
        "\n",
        "$$y=x \\cdot \\sqrt {1+x^2}$$"
      ]
    },
    {
      "cell_type": "code",
      "execution_count": 6,
      "metadata": {
        "colab": {
          "base_uri": "https://localhost:8080/",
          "height": 0
        },
        "id": "k5hHZegDTYe8",
        "outputId": "cecb02e6-3e15-48e9-ffcc-cd6598a8b401"
      },
      "outputs": [
        {
          "output_type": "execute_result",
          "data": {
            "text/plain": [
              "      2          ________\n",
              "     x          ╱  2     \n",
              "─────────── + ╲╱  x  + 1 \n",
              "   ________              \n",
              "  ╱  2                   \n",
              "╲╱  x  + 1               "
            ],
            "image/png": "[encoded data removed]",
            "text/latex": "$\\displaystyle \\frac{x^{2}}{\\sqrt{x^{2} + 1}} + \\sqrt{x^{2} + 1}$"
          },
          "metadata": {},
          "execution_count": 6
        }
      ],
      "source": [
        "x = Symbol('x')\n",
        "y = x * sqrt(1 + x**2)\n",
        "diff(y, x)"
      ]
    },
    {
      "cell_type": "markdown",
      "metadata": {
        "id": "MB3Sk6rVvqIu"
      },
      "source": [
        "## Задание 3"
      ]
    },
    {
      "cell_type": "markdown",
      "metadata": {
        "id": "dQQ7hMTAwJUG"
      },
      "source": [
        "Найти производную функции:\n",
        "\n",
        "$$y= \\frac{2x}{1-x^2}$$"
      ]
    },
    {
      "cell_type": "code",
      "execution_count": 7,
      "metadata": {
        "colab": {
          "base_uri": "https://localhost:8080/",
          "height": 0
        },
        "id": "lbMqJmMcUkZP",
        "outputId": "76111374-cf15-4bf2-e17d-82470ff03aaf"
      },
      "outputs": [
        {
          "output_type": "execute_result",
          "data": {
            "text/plain": [
              "  ⎛ 2    ⎞\n",
              "2⋅⎝x  + 1⎠\n",
              "──────────\n",
              "        2 \n",
              "⎛     2⎞  \n",
              "⎝1 - x ⎠  "
            ],
            "image/png": "[encoded data removed]",
            "text/latex": "$\\displaystyle \\frac{2 \\left(x^{2} + 1\\right)}{\\left(1 - x^{2}\\right)^{2}}$"
          },
          "metadata": {},
          "execution_count": 7
        }
      ],
      "source": [
        "x = Symbol('x')\n",
        "y = 2 * x / (1 - x**2)\n",
        "y = diff(y, x)\n",
        "y = together(y)\n",
        "y"
      ]
    },
    {
      "cell_type": "markdown",
      "metadata": {
        "id": "OVfM9j6QvtLk"
      },
      "source": [
        "## Задание 4*"
      ]
    },
    {
      "cell_type": "markdown",
      "metadata": {
        "id": "B0yE8aNgwKGb"
      },
      "source": [
        "Найти производную функции:\n",
        "\n",
        "$$y=\\sqrt{x+ \\sqrt{x+\\sqrt x}}$$"
      ]
    },
    {
      "cell_type": "code",
      "execution_count": 8,
      "metadata": {
        "colab": {
          "base_uri": "https://localhost:8080/",
          "height": 0
        },
        "id": "KVZp1KFmVENb",
        "outputId": "825035a5-6279-4e56-fcef-2ea54978951e"
      },
      "outputs": [
        {
          "output_type": "execute_result",
          "data": {
            "text/plain": [
              "    1    1         \n",
              "    ─ + ────       \n",
              "    2   4⋅√x     1 \n",
              "  ──────────── + ─ \n",
              "      ________   2 \n",
              "  2⋅╲╱ √x + x      \n",
              "───────────────────\n",
              "   ________________\n",
              "  ╱       ________ \n",
              "╲╱  x + ╲╱ √x + x  "
            ],
            "image/png": "[encoded data removed]",
            "text/latex": "$\\displaystyle \\frac{\\frac{\\frac{1}{2} + \\frac{1}{4 \\sqrt{x}}}{2 \\sqrt{\\sqrt{x} + x}} + \\frac{1}{2}}{\\sqrt{x + \\sqrt{\\sqrt{x} + x}}}$"
          },
          "metadata": {},
          "execution_count": 8
        }
      ],
      "source": [
        "x = Symbol('x')\n",
        "y = sqrt(x + sqrt(x + sqrt(x)))\n",
        "diff(y, x)"
      ]
    },
    {
      "cell_type": "markdown",
      "metadata": {
        "id": "LObzJ8JxvwW9"
      },
      "source": [
        "## Задание 5"
      ]
    },
    {
      "cell_type": "markdown",
      "metadata": {
        "id": "JP09YjJ3wLCA"
      },
      "source": [
        "Найти производную функции:\n",
        "\n",
        "$$y= \\ln(x+\\sqrt{x^2+1})$$"
      ]
    },
    {
      "cell_type": "code",
      "execution_count": 9,
      "metadata": {
        "id": "pvX4BRjdZCJu",
        "colab": {
          "base_uri": "https://localhost:8080/",
          "height": 0
        },
        "outputId": "95c711a6-1480-4dcd-ae6c-3bfd0db3b505"
      },
      "outputs": [
        {
          "output_type": "execute_result",
          "data": {
            "text/plain": [
              "     x         \n",
              "─────────── + 1\n",
              "   ________    \n",
              "  ╱  2         \n",
              "╲╱  x  + 1     \n",
              "───────────────\n",
              "       ________\n",
              "      ╱  2     \n",
              "x + ╲╱  x  + 1 "
            ],
            "image/png": "[encoded data removed]",
            "text/latex": "$\\displaystyle \\frac{\\frac{x}{\\sqrt{x^{2} + 1}} + 1}{x + \\sqrt{x^{2} + 1}}$"
          },
          "metadata": {},
          "execution_count": 9
        }
      ],
      "source": [
        "x = Symbol('x')\n",
        "y = log(x + sqrt((x**2) + 1))\n",
        "diff(y, x)"
      ]
    },
    {
      "cell_type": "markdown",
      "metadata": {
        "id": "e7QHMecxvydO"
      },
      "source": [
        "## Задание 6"
      ]
    },
    {
      "cell_type": "markdown",
      "metadata": {
        "id": "HKN0YVWgwLtq"
      },
      "source": [
        "Найти производную функции:\n",
        "\n",
        "$$y=x \\cdot \\ln(x+\\sqrt{x^2+1})-\\sqrt{x^2+1}$$"
      ]
    },
    {
      "cell_type": "code",
      "execution_count": 10,
      "metadata": {
        "id": "cPFgi3KfZ0t5",
        "colab": {
          "base_uri": "https://localhost:8080/",
          "height": 0
        },
        "outputId": "ab908398-3741-4216-f5dc-6e43b169d07a"
      },
      "outputs": [
        {
          "output_type": "execute_result",
          "data": {
            "text/plain": [
              "                  ⎛     x         ⎞                       \n",
              "                x⋅⎜─────────── + 1⎟                       \n",
              "                  ⎜   ________    ⎟                       \n",
              "                  ⎜  ╱  2         ⎟      ⎛       ________⎞\n",
              "       x          ⎝╲╱  x  + 1     ⎠      ⎜      ╱  2     ⎟\n",
              "- ─────────── + ─────────────────── + log⎝x + ╲╱  x  + 1 ⎠\n",
              "     ________            ________                         \n",
              "    ╱  2                ╱  2                              \n",
              "  ╲╱  x  + 1      x + ╲╱  x  + 1                          "
            ],
            "image/png": "[encoded data removed]",
            "text/latex": "$\\displaystyle - \\frac{x}{\\sqrt{x^{2} + 1}} + \\frac{x \\left(\\frac{x}{\\sqrt{x^{2} + 1}} + 1\\right)}{x + \\sqrt{x^{2} + 1}} + \\log{\\left(x + \\sqrt{x^{2} + 1} \\right)}$"
          },
          "metadata": {},
          "execution_count": 10
        }
      ],
      "source": [
        "x = Symbol('x')\n",
        "y = x * ln(x + sqrt((x**2) + 1)) - sqrt((x**2) + 1)\n",
        "diff(y, x)"
      ]
    },
    {
      "cell_type": "markdown",
      "metadata": {
        "id": "PVsdEVj0v0pe"
      },
      "source": [
        "## Задание 7*"
      ]
    },
    {
      "cell_type": "markdown",
      "metadata": {
        "id": "YOn7dybjwMk7"
      },
      "source": [
        "Найти производную функции:\n",
        "\n",
        "$$y=\\arcsin (\\sin x)$$"
      ]
    },
    {
      "cell_type": "markdown",
      "metadata": {
        "id": "IxUXVpagv3Nb"
      },
      "source": [
        "## Задание 8*"
      ]
    },
    {
      "cell_type": "markdown",
      "metadata": {
        "id": "3TdDSqU8wNHa"
      },
      "source": [
        "Вычислить приближенное значение: \n",
        "\n",
        "$$\\sin(1^0)=\\sin\\Bigl(\\frac{\\pi}{180}\\Bigr)$$"
      ]
    },
    {
      "cell_type": "markdown",
      "metadata": {
        "id": "ck8SRIm7v5gJ"
      },
      "source": [
        "## Задание 9*"
      ]
    },
    {
      "cell_type": "markdown",
      "metadata": {
        "id": "sxJsA3ldwN-H"
      },
      "source": [
        "Написать на python алгоритм, по вычислению значений $\\sin(x)$ для $х \\in[0, 30^0]$\n",
        "\n",
        "Для проверки подойдут данные из таблицы Брадиса"
      ]
    },
    {
      "cell_type": "markdown",
      "metadata": {
        "id": "J7w--5_zwswI"
      },
      "source": [
        "# Урок 6"
      ]
    },
    {
      "cell_type": "markdown",
      "metadata": {
        "id": "Ihm6ieuvwyAA"
      },
      "source": [
        "## Задание 1"
      ]
    },
    {
      "cell_type": "markdown",
      "metadata": {
        "id": "9Kc2eobCxRx2"
      },
      "source": [
        "Найти производную $y'_{x}$ функции:\n",
        "\n",
        "$$\\mbox{arctg}(\\frac{y}{x})=\\ln \\sqrt{x^2+y^2}$$"
      ]
    },
    {
      "cell_type": "code",
      "source": [
        "x,y=symbols('x y')\n",
        "f = atan(y / x) - ln(sqrt(x**2 + y**2))\n",
        "f"
      ],
      "metadata": {
        "colab": {
          "base_uri": "https://localhost:8080/",
          "height": 0
        },
        "id": "aw6vAexUgFCM",
        "outputId": "bba8a3ea-036e-4e94-c4b0-dde1554a336e"
      },
      "execution_count": 11,
      "outputs": [
        {
          "output_type": "execute_result",
          "data": {
            "text/plain": [
              "     ⎛   _________⎞          \n",
              "     ⎜  ╱  2    2 ⎟       ⎛y⎞\n",
              "- log⎝╲╱  x  + y  ⎠ + atan⎜─⎟\n",
              "                          ⎝x⎠"
            ],
            "image/png": "[encoded data removed]",
            "text/latex": "$\\displaystyle - \\log{\\left(\\sqrt{x^{2} + y^{2}} \\right)} + \\operatorname{atan}{\\left(\\frac{y}{x} \\right)}$"
          },
          "metadata": {},
          "execution_count": 11
        }
      ]
    },
    {
      "cell_type": "code",
      "source": [
        "-diff(f, x) / diff(f, y)"
      ],
      "metadata": {
        "colab": {
          "base_uri": "https://localhost:8080/",
          "height": 0
        },
        "id": "JXwBXt3siuVO",
        "outputId": "cbd2f017-8dc0-4b7b-af1e-52061e1790e0"
      },
      "execution_count": 12,
      "outputs": [
        {
          "output_type": "execute_result",
          "data": {
            "text/plain": [
              "   x           y      \n",
              "─────── + ─────────── \n",
              " 2    2      ⎛     2⎞ \n",
              "x  + y     2 ⎜    y ⎟ \n",
              "          x ⋅⎜1 + ──⎟ \n",
              "             ⎜     2⎟ \n",
              "             ⎝    x ⎠ \n",
              "──────────────────────\n",
              "     y          1     \n",
              "- ─────── + ──────────\n",
              "   2    2     ⎛     2⎞\n",
              "  x  + y      ⎜    y ⎟\n",
              "            x⋅⎜1 + ──⎟\n",
              "              ⎜     2⎟\n",
              "              ⎝    x ⎠"
            ],
            "image/png": "[encoded data removed]",
            "text/latex": "$\\displaystyle \\frac{\\frac{x}{x^{2} + y^{2}} + \\frac{y}{x^{2} \\left(1 + \\frac{y^{2}}{x^{2}}\\right)}}{- \\frac{y}{x^{2} + y^{2}} + \\frac{1}{x \\left(1 + \\frac{y^{2}}{x^{2}}\\right)}}$"
          },
          "metadata": {},
          "execution_count": 12
        }
      ]
    },
    {
      "cell_type": "markdown",
      "source": [
        "Сократить на общий делитель $x^2$ затем сократить дробь на $x$\n",
        "\n",
        "$$\\frac{\\frac{x}{x^2+y^2}+\\frac{y}{x^2+y^2}}{\\frac{1}{\\frac{x^2+y^2}{x}}-\\frac{y}{x^2+y^2}}$$\n",
        "\n",
        "под один знаменатель и сокращаем дробь получаем:\n",
        "\n",
        "$$\\frac{x+y}{x-y}$$"
      ],
      "metadata": {
        "id": "6qE-oA3OmpKP"
      }
    },
    {
      "cell_type": "markdown",
      "metadata": {
        "id": "YWYwgp-uxBAs"
      },
      "source": [
        "## Задание 2"
      ]
    },
    {
      "cell_type": "markdown",
      "metadata": {
        "id": "9WpkHr5VxScG"
      },
      "source": [
        "Найти производную $y'_{x}$ функции:\n",
        "\n",
        " \\begin{cases}\n",
        "   y=\\frac{t^2}{t-1}, \\\\\n",
        "   x=\\frac{t}{t^2-1} \n",
        " \\end{cases}"
      ]
    },
    {
      "cell_type": "code",
      "source": [
        "from sympy import *\n",
        "init_printing()"
      ],
      "metadata": {
        "id": "6F87gx9plhkH"
      },
      "execution_count": 13,
      "outputs": []
    },
    {
      "cell_type": "code",
      "source": [
        "t=Symbol('t')\n",
        "y = t**2 / (t - 1)\n",
        "y"
      ],
      "metadata": {
        "colab": {
          "base_uri": "https://localhost:8080/",
          "height": 0
        },
        "id": "_F6-oaqQlkoQ",
        "outputId": "c4557c09-c112-4863-a1c4-a48c853957a9"
      },
      "execution_count": 14,
      "outputs": [
        {
          "output_type": "execute_result",
          "data": {
            "text/plain": [
              "   2 \n",
              "  t  \n",
              "─────\n",
              "t - 1"
            ],
            "image/png": "[encoded data removed]",
            "text/latex": "$\\displaystyle \\frac{t^{2}}{t - 1}$"
          },
          "metadata": {},
          "execution_count": 14
        }
      ]
    },
    {
      "cell_type": "code",
      "source": [
        "x = t / (t**2 - 1)\n",
        "x"
      ],
      "metadata": {
        "colab": {
          "base_uri": "https://localhost:8080/",
          "height": 0
        },
        "id": "me7MheIWl3DN",
        "outputId": "74eb8e1e-59c6-49db-ff55-849d58628361"
      },
      "execution_count": 15,
      "outputs": [
        {
          "output_type": "execute_result",
          "data": {
            "text/plain": [
              "  t   \n",
              "──────\n",
              " 2    \n",
              "t  - 1"
            ],
            "image/png": "[encoded data removed]",
            "text/latex": "$\\displaystyle \\frac{t}{t^{2} - 1}$"
          },
          "metadata": {},
          "execution_count": 15
        }
      ]
    },
    {
      "cell_type": "code",
      "source": [
        "diff(y, t) / diff(x, t)"
      ],
      "metadata": {
        "colab": {
          "base_uri": "https://localhost:8080/",
          "height": 0
        },
        "id": "m-Ppnk8EmCHT",
        "outputId": "cd833d06-cfcb-4966-9888-d4ecd6735eb0"
      },
      "execution_count": 16,
      "outputs": [
        {
          "output_type": "execute_result",
          "data": {
            "text/plain": [
              "       2            \n",
              "      t        2⋅t  \n",
              " - ──────── + ───── \n",
              "          2   t - 1 \n",
              "   (t - 1)          \n",
              "────────────────────\n",
              "        2           \n",
              "     2⋅t        1   \n",
              "- ───────── + ──────\n",
              "          2    2    \n",
              "  ⎛ 2    ⎞    t  - 1\n",
              "  ⎝t  - 1⎠          "
            ],
            "image/png": "[encoded data removed]",
            "text/latex": "$\\displaystyle \\frac{- \\frac{t^{2}}{\\left(t - 1\\right)^{2}} + \\frac{2 t}{t - 1}}{- \\frac{2 t^{2}}{\\left(t^{2} - 1\\right)^{2}} + \\frac{1}{t^{2} - 1}}$"
          },
          "metadata": {},
          "execution_count": 16
        }
      ]
    },
    {
      "cell_type": "markdown",
      "source": [
        "Раскрываем скоки и приводим подобные члены, упрощаем выражение и получаем:\n",
        "\n",
        "$$\\frac{(t^2-2t)cdot((t-1)(t+1))^2}{(t-1)^2(-t^2-1)}$$\n",
        "\n",
        "Возводим числитель  в степень и сокращаем на общий делитель получаем:\n",
        "\n",
        "$$\\frac{(t^2-2t)(t+1)^2}{-t^2-1}$$\n",
        "\n",
        "Далее раскладываем на множетели и сокращаем дробь и приводим к подобным членам, получаем:\n",
        "\n",
        "$$-\\frac{t^4-3t^2-2t}{t^2-1}$$"
      ],
      "metadata": {
        "id": "_NfhaQRnqE8w"
      }
    },
    {
      "cell_type": "markdown",
      "metadata": {
        "id": "9sZ9mR-NxDD8"
      },
      "source": [
        "## Задание 3"
      ]
    },
    {
      "cell_type": "markdown",
      "metadata": {
        "id": "aJU5wD0qxTCY"
      },
      "source": [
        "Найти производную с помощью логарифмирования:\n",
        "\n",
        "$$y=(x^2+2)^5\\cdot(3x-x^3)^3$$"
      ]
    },
    {
      "cell_type": "code",
      "source": [
        "x=Symbol('x')\n",
        "y=(x**2 + 2)**5 * (3 * x - x**3)**3\n",
        "y"
      ],
      "metadata": {
        "colab": {
          "base_uri": "https://localhost:8080/",
          "height": 0
        },
        "id": "zCEKTm0ssxAU",
        "outputId": "ba1f13f6-f7ad-4dbb-8fc9-f9e83f174884"
      },
      "execution_count": 17,
      "outputs": [
        {
          "output_type": "execute_result",
          "data": {
            "text/plain": [
              "        5             3\n",
              "⎛ 2    ⎞  ⎛   3      ⎞ \n",
              "⎝x  + 2⎠ ⋅⎝- x  + 3⋅x⎠ "
            ],
            "image/png": "[encoded data removed]",
            "text/latex": "$\\displaystyle \\left(x^{2} + 2\\right)^{5} \\left(- x^{3} + 3 x\\right)^{3}$"
          },
          "metadata": {},
          "execution_count": 17
        }
      ]
    },
    {
      "cell_type": "code",
      "source": [
        "diff(y,x)\n"
      ],
      "metadata": {
        "colab": {
          "base_uri": "https://localhost:8080/",
          "height": 0
        },
        "id": "_9vWn6Mmtrey",
        "outputId": "450f0919-0737-4494-e1a0-b2cc6b493992"
      },
      "execution_count": 18,
      "outputs": [
        {
          "output_type": "execute_result",
          "data": {
            "text/plain": [
              "             4             3                      5             2\n",
              "     ⎛ 2    ⎞  ⎛   3      ⎞    ⎛       2⎞ ⎛ 2    ⎞  ⎛   3      ⎞ \n",
              "10⋅x⋅⎝x  + 2⎠ ⋅⎝- x  + 3⋅x⎠  + ⎝9 - 9⋅x ⎠⋅⎝x  + 2⎠ ⋅⎝- x  + 3⋅x⎠ "
            ],
            "image/png": "[encoded data removed]",
            "text/latex": "$\\displaystyle 10 x \\left(x^{2} + 2\\right)^{4} \\left(- x^{3} + 3 x\\right)^{3} + \\left(9 - 9 x^{2}\\right) \\left(x^{2} + 2\\right)^{5} \\left(- x^{3} + 3 x\\right)^{2}$"
          },
          "metadata": {},
          "execution_count": 18
        }
      ]
    },
    {
      "cell_type": "markdown",
      "metadata": {
        "id": "SbijR6_nxFfF"
      },
      "source": [
        "## Задание 4"
      ]
    },
    {
      "cell_type": "markdown",
      "metadata": {
        "id": "GzsvmPR9xToq"
      },
      "source": [
        "Найти производную функции с помощью логарифмирования:\n",
        "\n",
        "$$y=x^x$$"
      ]
    },
    {
      "cell_type": "code",
      "source": [
        "x=Symbol('x')\n",
        "y=x**x\n",
        "y"
      ],
      "metadata": {
        "colab": {
          "base_uri": "https://localhost:8080/",
          "height": 0
        },
        "id": "OVD3dMDju25J",
        "outputId": "6f8bbbaf-e25c-4d17-95f8-a7b03acaafe5"
      },
      "execution_count": 19,
      "outputs": [
        {
          "output_type": "execute_result",
          "data": {
            "text/plain": [
              " x\n",
              "x "
            ],
            "image/png": "[encoded data removed]",
            "text/latex": "$\\displaystyle x^{x}$"
          },
          "metadata": {},
          "execution_count": 19
        }
      ]
    },
    {
      "cell_type": "code",
      "source": [
        "diff(y,x)"
      ],
      "metadata": {
        "colab": {
          "base_uri": "https://localhost:8080/",
          "height": 0
        },
        "id": "7MVMPJ93u-qs",
        "outputId": "e98a5b05-5eff-4310-ff37-f05a445b70ae"
      },
      "execution_count": 20,
      "outputs": [
        {
          "output_type": "execute_result",
          "data": {
            "text/plain": [
              " x             \n",
              "x ⋅(log(x) + 1)"
            ],
            "image/png": "[encoded data removed]",
            "text/latex": "$\\displaystyle x^{x} \\left(\\log{\\left(x \\right)} + 1\\right)$"
          },
          "metadata": {},
          "execution_count": 20
        }
      ]
    },
    {
      "cell_type": "markdown",
      "metadata": {
        "id": "LdMC37S0xGvY"
      },
      "source": [
        "## Задание 5"
      ]
    },
    {
      "cell_type": "markdown",
      "metadata": {
        "id": "5HsF6i7-xUTw"
      },
      "source": [
        "Найти производную функции с помощью логарифмирования:\n",
        "\n",
        "$$y=\\frac{(2-x^2)^3\\cdot(x-1)^2}{(2x^3-3x)\\cdot e^x}$$"
      ]
    },
    {
      "cell_type": "code",
      "source": [
        "x=Symbol('x')\n",
        "y=((2 - x**2)**3 * (x - 1)**2) / ((2 * x**3 - 3 * x) * E**x)\n",
        "y"
      ],
      "metadata": {
        "colab": {
          "base_uri": "https://localhost:8080/",
          "height": 0
        },
        "id": "gPmLxyYF0WeU",
        "outputId": "6f925fd0-340a-4047-cd7c-078972717bf3"
      },
      "execution_count": 21,
      "outputs": [
        {
          "output_type": "execute_result",
          "data": {
            "text/plain": [
              "        3             \n",
              "⎛     2⎞         2  -x\n",
              "⎝2 - x ⎠ ⋅(x - 1) ⋅ℯ  \n",
              "──────────────────────\n",
              "         3            \n",
              "      2⋅x  - 3⋅x      "
            ],
            "image/png": "[encoded data removed]",
            "text/latex": "$\\displaystyle \\frac{\\left(2 - x^{2}\\right)^{3} \\left(x - 1\\right)^{2} e^{- x}}{2 x^{3} - 3 x}$"
          },
          "metadata": {},
          "execution_count": 21
        }
      ]
    },
    {
      "cell_type": "code",
      "source": [
        "diff(y,x)"
      ],
      "metadata": {
        "colab": {
          "base_uri": "https://localhost:8080/",
          "height": 0
        },
        "id": "baOk7mnl2Hrh",
        "outputId": "82351efc-b222-4939-f7a8-cf40de718326"
      },
      "execution_count": 22,
      "outputs": [
        {
          "output_type": "execute_result",
          "data": {
            "text/plain": [
              "              2                        3                                   3  \n",
              "      ⎛     2⎞         2  -x   ⎛     2⎞  ⎛       2⎞        2  -x   ⎛     2⎞   \n",
              "  6⋅x⋅⎝2 - x ⎠ ⋅(x - 1) ⋅ℯ     ⎝2 - x ⎠ ⋅⎝3 - 6⋅x ⎠⋅(x - 1) ⋅ℯ     ⎝2 - x ⎠ ⋅(\n",
              "- ────────────────────────── + ───────────────────────────────── - ───────────\n",
              "             3                                       2                      3 \n",
              "          2⋅x  - 3⋅x                     ⎛   3      ⎞                    2⋅x  \n",
              "                                         ⎝2⋅x  - 3⋅x⎠                         \n",
              "\n",
              "                      3              \n",
              "      2  -x   ⎛     2⎞             -x\n",
              "x - 1) ⋅ℯ     ⎝2 - x ⎠ ⋅(2⋅x - 2)⋅ℯ  \n",
              "─────────── + ───────────────────────\n",
              "                        3            \n",
              "- 3⋅x                2⋅x  - 3⋅x      \n",
              "                                     "
            ],
            "image/png": "[encoded data removed]",
            "text/latex": "$\\displaystyle - \\frac{6 x \\left(2 - x^{2}\\right)^{2} \\left(x - 1\\right)^{2} e^{- x}}{2 x^{3} - 3 x} + \\frac{\\left(2 - x^{2}\\right)^{3} \\left(3 - 6 x^{2}\\right) \\left(x - 1\\right)^{2} e^{- x}}{\\left(2 x^{3} - 3 x\\right)^{2}} - \\frac{\\left(2 - x^{2}\\right)^{3} \\left(x - 1\\right)^{2} e^{- x}}{2 x^{3} - 3 x} + \\frac{\\left(2 - x^{2}\\right)^{3} \\left(2 x - 2\\right) e^{- x}}{2 x^{3} - 3 x}$"
          },
          "metadata": {},
          "execution_count": 22
        }
      ]
    },
    {
      "cell_type": "markdown",
      "metadata": {
        "id": "BHrxT4a_xHXQ"
      },
      "source": [
        "## Задание 6*"
      ]
    },
    {
      "cell_type": "markdown",
      "metadata": {
        "id": "qUEXJJohxU4A"
      },
      "source": [
        "Вывести табличное значение производной для функции\n",
        "\n",
        "$$\\mbox{arctg}(x)$$"
      ]
    },
    {
      "cell_type": "markdown",
      "metadata": {
        "id": "R4ZRUrhOxNJE"
      },
      "source": [
        "## Задание 7"
      ]
    },
    {
      "cell_type": "markdown",
      "metadata": {
        "id": "tR-MAd5zxVaa"
      },
      "source": [
        "Найти длину $𝑥$ и ширину $𝑦$ прямоугольника при заданном периметре $𝑃=144$ cм, при которых данный прямоугольник имеет наибольшую площадь $𝑆$."
      ]
    },
    {
      "cell_type": "markdown",
      "source": [
        "Наибольшая площадь прямоугольника достигается при равных сторонах т. е. квадрата. Так как у нас четное число $P$ = 144 а $x$ и $y$ равны по условию.\n",
        "Можем найти сторону квадрата 144/4=36см\n",
        "Ответ x и y равны 36 см"
      ],
      "metadata": {
        "id": "5VrgUQqI435D"
      }
    },
    {
      "cell_type": "markdown",
      "metadata": {
        "id": "zCbW0RVWxNk9"
      },
      "source": [
        "## Задание 8*"
      ]
    },
    {
      "cell_type": "markdown",
      "metadata": {
        "id": "NzYdshUpxWAl"
      },
      "source": [
        "Завод $A$ отстоит от железной дороги, идущей с юга на север и проходящей через $B$, считая по кратчайшему расстоянию на $a$ км. Под каким углом $\\alpha$ к железной дороге следует ппостроить подъезной  путь от завода, чтобы транспортировка грузов из $A$ в $B$ была наиболее экономичной, если стоимость провоза тонны груза на расстоянии $1$ км составляет: по подъезному пути $p$ рублей, по железной дороге $q$ рублей $(p>q)$ и город $B$ расположен на $b$ км севернее завода $A$."
      ]
    },
    {
      "cell_type": "markdown",
      "source": [
        "# Урок 7"
      ],
      "metadata": {
        "id": "JlwqMT8N7Gdj"
      }
    },
    {
      "cell_type": "markdown",
      "source": [
        "## Задание 1"
      ],
      "metadata": {
        "id": "r8efLX6U7Nrn"
      }
    },
    {
      "cell_type": "markdown",
      "source": [
        "Найти частные производные первого и второго порядка. Убедиться в равенстве смешанных производных.\n",
        "\n",
        "$$U=x^3+3xy^2+z^2-39x-36y+2z+26$$"
      ],
      "metadata": {
        "id": "lJ59twvA7qAv"
      }
    },
    {
      "cell_type": "markdown",
      "source": [
        "Решения по правилу дефференцирования...\n",
        "\n",
        "Вычисляем производную первого порядка...\n",
        "$$\\frac{\\partial U}{\\partial x}=3x^2+3y^2-39$$\n",
        "$$\\frac{\\partial U}{\\partial y}=6xy-36$$\n",
        "$$\\frac{\\partial U}{\\partial z}=2z+2$$\n",
        "\n",
        "вычисляем производную второго порядка...\n",
        "\n",
        "$$U''xx=6x$$\n",
        "$$U''xy=6y$$\n",
        "$$U''xz=0$$\n",
        "$$U''yx=6y$$\n",
        "$$U''yy=6x$$\n",
        "$$U''yz=0$$\n",
        "$$U''zx=0$$\n",
        "$$U''zy=0$$\n",
        "$$U''zz=2$$"
      ],
      "metadata": {
        "id": "TEss6m3HYUUz"
      }
    },
    {
      "cell_type": "markdown",
      "source": [
        "## Задание 2"
      ],
      "metadata": {
        "id": "-cc8IIBc7P-l"
      }
    },
    {
      "cell_type": "markdown",
      "source": [
        "Найти частные производные первого и второго порядка. Убедиться в равенстве смешанных производных.\n",
        "\n",
        "$$U=\\frac{256}{x}+\\frac{x^2}{y}+\\frac{y^2}{z}+z^2$$"
      ],
      "metadata": {
        "id": "p8LWc3577sdx"
      }
    },
    {
      "cell_type": "markdown",
      "source": [
        "Правило дефференцирования...\n",
        "\n",
        "Производная первого порядка...\n",
        "\n",
        "$$U'x=-\\frac{256}{x^2}+\\frac{2x}{y}$$\n",
        "$$U'y=-\\frac{x^2}{y^2}+\\frac{2y}{z}$$\n",
        "$$U'z=-\\frac{y^2}{z^2}+2z$$\n",
        "\n",
        "Производная второго порядка...\n",
        "\n",
        "$$U''xx=\\frac{512}{x^3}+\\frac{2}{y}$$\n",
        "$$U''xy=-\\frac{2x}{y^2}$$\n",
        "$$U''xz=0$$\n",
        "$$U''yx=-\\frac{2x}{y^2}$$\n",
        "$$U''yy=\\frac{2x^2}{y^3}+\\frac{2}{z}$$\n",
        "$$U''yz=-\\frac{2y}{z^2}$$\n",
        "$$U''zx=0$$\n",
        "$$U''zy=-\\frac{2y}{z^2}$$\n",
        "$$U''zz=\\frac{2y^2}{z^3}+2$$"
      ],
      "metadata": {
        "id": "Gtc8nqX5ce5Q"
      }
    },
    {
      "cell_type": "markdown",
      "source": [
        "## Задание 3"
      ],
      "metadata": {
        "id": "j7jI6mzv7Sgl"
      }
    },
    {
      "cell_type": "markdown",
      "source": [
        "Найти производную функции $U=x^2+y^2+z^2$ по направлению вектора $\\overrightarrow{c}(-9,8,-12)$ в точке $M(8,-12,9)$"
      ],
      "metadata": {
        "id": "JKXLppGQ7wf3"
      }
    },
    {
      "cell_type": "markdown",
      "source": [
        "$$\\mbox{grad} U=(U'_{x},U'_{y},U'_{z})$$\n",
        "$$U'_{\\overrightarrow{c}}=(\\overrightarrow{c}_{0}\\cdot \\mbox{grad}U)$$\n",
        "Значение вектора по модулю...\n",
        "\n",
        "$$|\\overrightarrow{c}|=\\sqrt{x^2_{0}+y^2_{0}+z^2_{0}}=\\sqrt{(-9)^2+8^2+(-12)^2}=\\sqrt{289}=17$$\n",
        "Единичный вектор...\n",
        "\n",
        "$$\\overrightarrow{c_{0}}=\\frac{\\overrightarrow{c}}{|\\overrightarrow{c}|}=\\Bigr(-\\frac{9}{17},\\frac{8}{17},-\\frac{12}{17}\\Bigl)$$\n",
        "Производные первого порядка...\n",
        "$$U'_{x}=2x$$\n",
        "\n",
        "$$U'_{y}=2y$$\n",
        "\n",
        "$$U'_{z}=2z$$\n",
        "Градиент точки по условию...\n",
        "\n",
        "$$\\mbox{grad}U=(16,-24,18)$$\n",
        "Решение...\n",
        "\n",
        "$$U'_{\\overrightarrow{c}}=-\\frac{9}{17}\\cdot 16+\\frac{8}{17}\\cdot (-24)-\\frac{12}{17}\\cdot 18=-32\\frac{8}{17}$$"
      ],
      "metadata": {
        "id": "pF7DD2Z9din1"
      }
    },
    {
      "cell_type": "markdown",
      "source": [
        "## Задание 4"
      ],
      "metadata": {
        "id": "aNtOgtxC7Ug_"
      }
    },
    {
      "cell_type": "markdown",
      "source": [
        "Найти производную функции $U=e^{x^2+y^2+z^2}$ по направлению вектора $\\overrightarrow{c}(4,-13,-16)$ в точке $L(-16,4,-13)$"
      ],
      "metadata": {
        "id": "ZwH1xjO67zWb"
      }
    },
    {
      "cell_type": "markdown",
      "source": [
        "Значение вектора по модулю...\n",
        "\n",
        "$$|\\overrightarrow{c}|=21$$\n",
        "Первичный вектор...\n",
        "\n",
        "$$\\overrightarrow{c_{0}}=\\Bigr(\\frac{4}{21},-\\frac{13}{21},-\\frac{16}{21}\\Bigl)$$\n",
        "Производные функции...\n",
        "\n",
        "$$U'_{x}=e^{x^2+y^2+z^2}\\cdot2x$$\n",
        "$$U'_{y}=e^{x^2+y^2+z^2}\\cdot2y$$\n",
        "$$U'_{z}=e^{x^2+y^2+z^2}\\cdot2z$$\n",
        "\n",
        "Градиент по условию...\n",
        "\n",
        "$$\\mbox{grad}U=(-32e^{441},8e^{441},-26e^{441})$$\n",
        "\n",
        "Значение \n",
        "\n",
        "$$U'_{\\overrightarrow{c}}=\\frac{4}{21}\\cdot(-32e^{441})-\\frac{13}{21}\\cdot 8e^{441}-\\frac{16}{21}\\cdot (-26e^{441})=21\\frac{16}{21}e^{441}$$\n"
      ],
      "metadata": {
        "id": "VFvFhFIugneO"
      }
    },
    {
      "cell_type": "markdown",
      "source": [
        "## Задание 5*"
      ],
      "metadata": {
        "id": "MWA0ErQF7YrQ"
      }
    },
    {
      "cell_type": "markdown",
      "source": [
        "Найти производную функции $U=\\log_{21}(x^2+y^2+z^2)$ в точке $F(-19,8,-4)$ по самому быстрому направлению."
      ],
      "metadata": {
        "id": "JwHmhPHI76Rw"
      }
    },
    {
      "cell_type": "markdown",
      "source": [
        "## Задание 6"
      ],
      "metadata": {
        "id": "a3j5aa987bbp"
      }
    },
    {
      "cell_type": "markdown",
      "source": [
        "Исследовать на экстремум функцию:\n",
        "\n",
        "$$U=x^2y+\\frac{1}{3}y^3+2x^2+3y^2-1$$"
      ],
      "metadata": {
        "id": "DVNXOQ-X79nQ"
      }
    },
    {
      "cell_type": "markdown",
      "source": [
        "$$\\Delta_{1}=U''_{xx}$$\n",
        "\n",
        "$$\\Delta_{2}=\\begin{vmatrix}\n",
        "U''_{xx} & U''_{xy}\\\\ \n",
        "U''_{yx} & U''_{yy}\\\\\n",
        "\\end{vmatrix}=U''_{xx}\\cdot U''_{yy}-(U''_{xy})^2$$\n",
        "\n",
        "$$\\begin{cases}\n",
        "U'_{x}=2xy+4x=0 \\\\\n",
        "U'_{y}=x^2+y^2+6y=0 \n",
        "\\end{cases}$$\n",
        "Стационарные точки...\n",
        "$$(0,0)$$\n",
        "$$(0,-6)$$\n",
        "$$(2\\sqrt2,-2)$$\n",
        "$$(-2\\sqrt2,-2)$$\n"
      ],
      "metadata": {
        "id": "a8DRZIS6k-9v"
      }
    },
    {
      "cell_type": "markdown",
      "source": [
        "## Задание 7*"
      ],
      "metadata": {
        "id": "-qzdN6ho7gYu"
      }
    },
    {
      "cell_type": "markdown",
      "source": [
        "Исследовать на экстремум функцию:\n",
        "\n",
        "$$U=e^{-\\frac{x}{2}}\\cdot(x^2+y^2)$$"
      ],
      "metadata": {
        "id": "Rqp69mkq8BMo"
      }
    },
    {
      "cell_type": "markdown",
      "source": [
        "## Задание 8**"
      ],
      "metadata": {
        "id": "DuBWVR_S7kSu"
      }
    },
    {
      "cell_type": "markdown",
      "source": [
        "С помощью метода наименьших квадратов (МНК) подобрать значения параметров $a$ и $b$ для сигмоидальной функции $$y=\\frac{1}{1+e^{-(ax+b)}}$$ \n",
        "\n",
        "по заданному распределению. Построить график."
      ],
      "metadata": {
        "id": "czCXyKrM8FDX"
      }
    },
    {
      "cell_type": "code",
      "source": [
        "import numpy as np\n",
        "import matplotlib.pyplot as plt\n",
        "\n",
        "# Задаем рандомное распределение точек\n",
        "xi = np.random.uniform(-8, 8, 200)\n",
        "yi = 1/(1+np.exp(-np.random.uniform(0.5, 1.5, 200)*xi-np.random.uniform(-1, 1, 200)))\n",
        "plt.plot(xi,yi, marker=\"o\", ls=\"\")\n",
        "\n",
        "plt.show()"
      ],
      "metadata": {
        "id": "rm4Vl9398KyE",
        "outputId": "05608cad-0908-4f83-b394-ee5c203f5f51",
        "colab": {
          "base_uri": "https://localhost:8080/",
          "height": 0
        }
      },
      "execution_count": 23,
      "outputs": [
        {
          "output_type": "display_data",
          "data": {
            "text/plain": [
              "<Figure size 432x288 with 1 Axes>"
            ],
            "image/png": "[encoded data removed]"
          },
          "metadata": {
            "needs_background": "light"
          }
        }
      ]
    },
    {
      "cell_type": "markdown",
      "source": [
        "# Урок 8"
      ],
      "metadata": {
        "id": "84b26JJ-r0SA"
      }
    },
    {
      "cell_type": "markdown",
      "source": [
        "## Задание 1"
      ],
      "metadata": {
        "id": "fot1c5C7r4oi"
      }
    },
    {
      "cell_type": "markdown",
      "source": [
        "Исследовать на условный экстремум функцию\n",
        "\n",
        "$$U=3-8x+6y,$$\n",
        "\n",
        "если\n",
        "\n",
        "$$x^2+y^2=36$$"
      ],
      "metadata": {
        "id": "VY6HjhD8sUx3"
      }
    },
    {
      "cell_type": "markdown",
      "source": [
        "$$L(x,y,\\lambda)=x\\cdot y +\\lambda \\cdot (x+y-72)$$"
      ],
      "metadata": {
        "id": "u3ol4u97v4RH"
      }
    },
    {
      "cell_type": "code",
      "source": [
        "import pylab\n",
        "from mpl_toolkits.mplot3d import Axes3D\n",
        "import numpy as np\n",
        "np.set_printoptions(precision=2, suppress=True)\n",
        "\n",
        "fig = pylab.figure()\n",
        "axes = Axes3D(fig)\n",
        "\n",
        "\n",
        "def makeData1 ():\n",
        "    x = np.arange (-5, 6, 1)\n",
        "    U = np.arange (140, 340, 20)\n",
        "    xgrid, Ugrid = np.meshgrid(x, U)\n",
        "    ygrid = np.sqrt(25-xgrid**2)\n",
        "    return xgrid, ygrid, Ugrid\n",
        "x, y, U = makeData1()\n",
        "axes.plot_surface(x, y, U, color='b')\n",
        "\n",
        "\n",
        "def makeData2 ():\n",
        "    x = np.arange (-5, 6, 1)\n",
        "    U = np.arange (140, 340, 20)\n",
        "    xgrid, Ugrid = np.meshgrid(x, U)\n",
        "    ygrid = -np.sqrt(25-xgrid**2)\n",
        "    return xgrid, ygrid, Ugrid\n",
        "x, y, U = makeData2()\n",
        "axes.plot_surface(x, y, U, color='b')\n",
        "\n",
        "def makeData3 ():\n",
        "    x = np.arange (-10, 11, 1)\n",
        "    y = np.arange (-10, 11, 1)\n",
        "    xgrid, ygrid = np.meshgrid(x, y)\n",
        "    Ugrid = 3*xgrid+4*ygrid-10\n",
        "    return xgrid, ygrid, Ugrid\n",
        "x, y, U = makeData3()\n",
        "axes.plot_surface(x, y, U, color='r')\n",
        "\n",
        "pylab.show()"
      ],
      "metadata": {
        "colab": {
          "base_uri": "https://localhost:8080/",
          "height": 0
        },
        "id": "NlBCxeVtwWij",
        "outputId": "ab49be6d-df84-4140-baaa-a85765941ebf"
      },
      "execution_count": 24,
      "outputs": [
        {
          "output_type": "display_data",
          "data": {
            "text/plain": [
              "<Figure size 432x288 with 1 Axes>"
            ],
            "image/png": "[encoded data removed]"
          },
          "metadata": {
            "needs_background": "light"
          }
        }
      ]
    },
    {
      "cell_type": "markdown",
      "source": [
        "## Задание 2"
      ],
      "metadata": {
        "id": "AaX_54EmsD_Q"
      }
    },
    {
      "cell_type": "markdown",
      "source": [
        "Исследовать на условный экстремум функцию\n",
        "\n",
        "$$U=2x^2+12xy+32y^2+15,$$\n",
        "\n",
        "если\n",
        "\n",
        "$$x^2+16y^2=64$$"
      ],
      "metadata": {
        "id": "SzkqQ_IdsZ5S"
      }
    },
    {
      "cell_type": "markdown",
      "source": [
        "## Задание 3"
      ],
      "metadata": {
        "id": "TGcI2wmisGhX"
      }
    },
    {
      "cell_type": "markdown",
      "source": [
        "Численно найти хотя бы один действительный корень системы нелинейных уравнений:\n",
        "$$\\begin{cases}\n",
        "   x^2-y^2+3xy^3-2x^2y^2+2x-3y-5=0 \\\\\n",
        "   3y^3-2x^2+2x^3y-5x^2y^2+5=0\n",
        " \\end{cases}$$"
      ],
      "metadata": {
        "id": "ruJN8kUksghx"
      }
    },
    {
      "cell_type": "markdown",
      "source": [
        "## Задание 4*"
      ],
      "metadata": {
        "id": "kC379_p2sI4l"
      }
    },
    {
      "cell_type": "markdown",
      "source": [
        "Численно найти все $5$ действительных корней."
      ],
      "metadata": {
        "id": "VTI06qXfsmUc"
      }
    },
    {
      "cell_type": "markdown",
      "source": [
        "## Задание 5*"
      ],
      "metadata": {
        "id": "tWzTxfuwsNi8"
      }
    },
    {
      "cell_type": "markdown",
      "source": [
        "Даны две функции $y_{1}=f(x)$ и $y_{2}=g(x)$. Известно, что:\n",
        "\n",
        "$$f'(x)=\\frac{1}{2}g(x)$$\n",
        "\n",
        "$$g'(x)=2-2f(x)$$\n",
        "\n",
        "$$f(0)=0$$\n",
        "\n",
        "$$g(0)=1$$\n",
        "\n",
        "Восстановить функции $y_{1}=f(x)$ и $y_{2}=g(x)$ с помощью формулы:\n",
        "\n",
        "$$f(x+\\Delta x) \\approx f(x)+f'(x) \\cdot \\Delta x$$\n",
        "\n",
        "на участке $[0, 20]$\n",
        "\n",
        "В качестве решения построить график этих функций в одной системе координат."
      ],
      "metadata": {
        "id": "BrMWaRmAsrbQ"
      }
    },
    {
      "cell_type": "markdown",
      "source": [
        "## Задание 6**"
      ],
      "metadata": {
        "id": "PSB2ty0hsSZO"
      }
    },
    {
      "cell_type": "markdown",
      "source": [
        "Найти все корни уравнения:\n",
        "\n",
        "f(x)=g(x) \n",
        "на участке  [0,20] \n",
        "\n",
        "Где  y1=f(x)  и  y2=g(x)  - функции из предыдущего решения."
      ],
      "metadata": {
        "id": "mUaDFFvHsyos"
      }
    }
  ],
  "metadata": {
    "colab": {
      "name": "Homework.ipynb",
      "toc_visible": true,
      "provenance": [],
      "authorship_tag": "ABX9TyOE0vEkXHvXv3McfFY8qfB9",
      "include_colab_link": true
    },
    "kernelspec": {
      "display_name": "Python 3",
      "name": "python3"
    },
    "language_info": {
      "name": "python"
    }
  },
  "nbformat": 4,
  "nbformat_minor": 0
}