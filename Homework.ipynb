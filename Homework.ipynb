{
  "nbformat": 4,
  "nbformat_minor": 0,
  "metadata": {
    "colab": {
      "name": "Homework.ipynb",
      "provenance": [],
      "authorship_tag": "ABX9TyOL86dFSSSSJ3qs0kqPXmk/",
      "include_colab_link": true
    },
    "kernelspec": {
      "name": "python3",
      "display_name": "Python 3"
    },
    "language_info": {
      "name": "python"
    }
  },
  "cells": [
    {
      "cell_type": "markdown",
      "metadata": {
        "id": "view-in-github",
        "colab_type": "text"
      },
      "source": [
        "<a href=\"https://colab.research.google.com/github/vit050587/Mathematical-analysis/blob/master/Homework.ipynb\" target=\"_parent\"><img src=\"https://colab.research.google.com/assets/colab-badge.svg\" alt=\"Open In Colab\"/></a>"
      ]
    },
    {
      "cell_type": "code",
      "execution_count": null,
      "metadata": {
        "id": "lWoOYBTVETDP"
      },
      "outputs": [],
      "source": [
        ""
      ]
    },
    {
      "cell_type": "markdown",
      "source": [
        "# Урок 2"
      ],
      "metadata": {
        "id": "U56gYyF7EZ7B"
      }
    },
    {
      "cell_type": "markdown",
      "source": [
        "## Задание 1"
      ],
      "metadata": {
        "id": "4-gqu03pErzx"
      }
    },
    {
      "cell_type": "markdown",
      "source": [
        "__1.__ Представьте в виде __несократимой__ обыкновенной дроби:\n",
        "\n",
        "### $$а)\\,\\,\\, 0.(216);$$\n",
        "\n",
        "### $$б)\\,\\,\\, 1.0(01).$$"
      ],
      "metadata": {
        "id": "Hw73EM5IFH5R"
      }
    },
    {
      "cell_type": "markdown",
      "source": [
        "## Задание 2"
      ],
      "metadata": {
        "id": "rUXHjv-GE064"
      }
    },
    {
      "cell_type": "markdown",
      "source": [
        "__2*.__ Пусть $x =\\frac{2}{21}$. Известно, что для некоторого натурального $k$ число $x$ записывается в $k$ - ичной системе счисления как $0.(13)_k = 0, 131313..._k$. Найдите $k$."
      ],
      "metadata": {
        "id": "uDE4ogSfFNWa"
      }
    },
    {
      "cell_type": "markdown",
      "source": [
        "## Задание 3"
      ],
      "metadata": {
        "id": "_86UYddvE2mo"
      }
    },
    {
      "cell_type": "markdown",
      "source": [
        "__3.__ Проверьте любым способ, является ли данные логические формулы тавтологией:\n",
        "\n",
        "### $$a)\\,\\,\\, (A \\vee B) \\rightarrow (B \\vee\\overline A)$$\n",
        "### $$б)\\,\\,\\, A \\rightarrow (A \\vee (\\overline B \\wedge A))$$"
      ],
      "metadata": {
        "id": "bucpJUmdFT7J"
      }
    },
    {
      "cell_type": "markdown",
      "source": [
        "## Задание 4"
      ],
      "metadata": {
        "id": "GUIWJkheE5Vi"
      }
    },
    {
      "cell_type": "markdown",
      "source": [
        "__4.__ Сформулируйте словесно высказывания:\n",
        "### $$a)\\,\\,\\, (\\overline A \\vee B) \\rightarrow \\overline C$$\n",
        "### $$б)\\,\\,\\, C \\rightarrow (A \\vee \\overline B)$$\n",
        "\n",
        "- $A:\\,\\,\\,$ сегодня светит солнце; \n",
        "- $B:\\,\\,\\,$ сегодня сыро; \n",
        "- $C:\\,\\,\\,$ я поеду на дачу. "
      ],
      "metadata": {
        "id": "F2hn7yyNND7g"
      }
    },
    {
      "cell_type": "markdown",
      "source": [
        "## Задание 5"
      ],
      "metadata": {
        "id": "H4NKavpFE72a"
      }
    },
    {
      "cell_type": "markdown",
      "source": [
        "__5.__  Пользуясь правилом построения противоположного высказывания, запишите утверждения, противоположные следующим:\n",
        "\n",
        "a) На любом курсе каждого факультета есть студенты, сдающие все экзамены на «отлично».\n",
        "\n",
        "б) В любом самолете на рейсе Вашингтон-Москва присутствует хотя бы один сотрудник силовых органов, в каждой пуговице одежды которого вмонтирован микрофон."
      ],
      "metadata": {
        "id": "klTLrUC2NFa_"
      }
    },
    {
      "cell_type": "markdown",
      "source": [
        "## Задание 6*"
      ],
      "metadata": {
        "id": "RkZyeJsGFCAI"
      }
    },
    {
      "cell_type": "markdown",
      "source": [
        "__6*.__ Прочитайте высказывания, установите их истинность и постройте противоположное высказывание:\n",
        "\n",
        "### $$a)\\,\\,\\, \\forall x\\in\\mathbb{R}\\,\\,\\,\\exists X\\in\\mathbb{R}:\\,\\,\\, X>x;$$\n",
        "### $$б)\\,\\,\\, \\forall y\\in\\Bigl[0; \\frac{\\pi}{2}\\Bigr]\\,\\,\\,\\exists \\varepsilon>0:\\,\\,\\, \\sin y<\\sin(y+\\varepsilon);$$\n",
        "### $$в)\\,\\,\\, \\forall y\\in\\Bigl[0; \\pi\\Bigr)\\,\\,\\,\\exists \\varepsilon>0:\\,\\,\\, \\cos y>\\cos(y+\\varepsilon).$$"
      ],
      "metadata": {
        "id": "y4EHwo0JNUog"
      }
    }
  ]
}